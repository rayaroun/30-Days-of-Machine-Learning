{
 "cells": [
  {
   "cell_type": "markdown",
   "id": "e469782c",
   "metadata": {
    "papermill": {
     "duration": 0.016095,
     "end_time": "2021-08-11T19:59:40.323500",
     "exception": false,
     "start_time": "2021-08-11T19:59:40.307405",
     "status": "completed"
    },
    "tags": []
   },
   "source": [
    "**This notebook is an exercise in the [Introduction to Machine Learning](https://www.kaggle.com/learn/intro-to-machine-learning) course.  You can reference the tutorial at [this link](https://www.kaggle.com/dansbecker/your-first-machine-learning-model).**\n",
    "\n",
    "---\n"
   ]
  },
  {
   "cell_type": "markdown",
   "id": "6ee3eaa1",
   "metadata": {
    "papermill": {
     "duration": 0.014684,
     "end_time": "2021-08-11T19:59:40.353648",
     "exception": false,
     "start_time": "2021-08-11T19:59:40.338964",
     "status": "completed"
    },
    "tags": []
   },
   "source": [
    "## Recap\n",
    "So far, you have loaded your data and reviewed it with the following code. Run this cell to set up your coding environment where the previous step left off."
   ]
  },
  {
   "cell_type": "code",
   "execution_count": 1,
   "id": "a67caf30",
   "metadata": {
    "execution": {
     "iopub.execute_input": "2021-08-11T19:59:40.388129Z",
     "iopub.status.busy": "2021-08-11T19:59:40.386978Z",
     "iopub.status.idle": "2021-08-11T19:59:41.646548Z",
     "shell.execute_reply": "2021-08-11T19:59:41.645381Z",
     "shell.execute_reply.started": "2021-08-11T19:08:38.820751Z"
    },
    "papermill": {
     "duration": 1.277857,
     "end_time": "2021-08-11T19:59:41.646733",
     "exception": false,
     "start_time": "2021-08-11T19:59:40.368876",
     "status": "completed"
    },
    "tags": []
   },
   "outputs": [
    {
     "name": "stdout",
     "output_type": "stream",
     "text": [
      "Setup Complete\n"
     ]
    }
   ],
   "source": [
    "# Code you have previously used to load data\n",
    "import pandas as pd\n",
    "\n",
    "# Path of the file to read\n",
    "iowa_file_path = '../input/home-data-for-ml-course/train.csv'\n",
    "\n",
    "home_data = pd.read_csv(iowa_file_path)\n",
    "\n",
    "# Set up code checking\n",
    "from learntools.core import binder\n",
    "binder.bind(globals())\n",
    "from learntools.machine_learning.ex3 import *\n",
    "\n",
    "print(\"Setup Complete\")"
   ]
  },
  {
   "cell_type": "markdown",
   "id": "3840ca48",
   "metadata": {
    "papermill": {
     "duration": 0.015611,
     "end_time": "2021-08-11T19:59:41.679591",
     "exception": false,
     "start_time": "2021-08-11T19:59:41.663980",
     "status": "completed"
    },
    "tags": []
   },
   "source": [
    "# Exercises\n",
    "\n",
    "## Step 1: Specify Prediction Target\n",
    "Select the target variable, which corresponds to the sales price. Save this to a new variable called `y`. You'll need to print a list of the columns to find the name of the column you need.\n"
   ]
  },
  {
   "cell_type": "code",
   "execution_count": 2,
   "id": "f1474278",
   "metadata": {
    "execution": {
     "iopub.execute_input": "2021-08-11T19:59:41.722455Z",
     "iopub.status.busy": "2021-08-11T19:59:41.721444Z",
     "iopub.status.idle": "2021-08-11T19:59:41.725346Z",
     "shell.execute_reply": "2021-08-11T19:59:41.725923Z",
     "shell.execute_reply.started": "2021-08-11T19:20:42.133074Z"
    },
    "papermill": {
     "duration": 0.028664,
     "end_time": "2021-08-11T19:59:41.726090",
     "exception": false,
     "start_time": "2021-08-11T19:59:41.697426",
     "status": "completed"
    },
    "tags": []
   },
   "outputs": [
    {
     "data": {
      "text/plain": [
       "Index(['Id', 'MSSubClass', 'MSZoning', 'LotFrontage', 'LotArea', 'Street',\n",
       "       'Alley', 'LotShape', 'LandContour', 'Utilities', 'LotConfig',\n",
       "       'LandSlope', 'Neighborhood', 'Condition1', 'Condition2', 'BldgType',\n",
       "       'HouseStyle', 'OverallQual', 'OverallCond', 'YearBuilt', 'YearRemodAdd',\n",
       "       'RoofStyle', 'RoofMatl', 'Exterior1st', 'Exterior2nd', 'MasVnrType',\n",
       "       'MasVnrArea', 'ExterQual', 'ExterCond', 'Foundation', 'BsmtQual',\n",
       "       'BsmtCond', 'BsmtExposure', 'BsmtFinType1', 'BsmtFinSF1',\n",
       "       'BsmtFinType2', 'BsmtFinSF2', 'BsmtUnfSF', 'TotalBsmtSF', 'Heating',\n",
       "       'HeatingQC', 'CentralAir', 'Electrical', '1stFlrSF', '2ndFlrSF',\n",
       "       'LowQualFinSF', 'GrLivArea', 'BsmtFullBath', 'BsmtHalfBath', 'FullBath',\n",
       "       'HalfBath', 'BedroomAbvGr', 'KitchenAbvGr', 'KitchenQual',\n",
       "       'TotRmsAbvGrd', 'Functional', 'Fireplaces', 'FireplaceQu', 'GarageType',\n",
       "       'GarageYrBlt', 'GarageFinish', 'GarageCars', 'GarageArea', 'GarageQual',\n",
       "       'GarageCond', 'PavedDrive', 'WoodDeckSF', 'OpenPorchSF',\n",
       "       'EnclosedPorch', '3SsnPorch', 'ScreenPorch', 'PoolArea', 'PoolQC',\n",
       "       'Fence', 'MiscFeature', 'MiscVal', 'MoSold', 'YrSold', 'SaleType',\n",
       "       'SaleCondition', 'SalePrice'],\n",
       "      dtype='object')"
      ]
     },
     "execution_count": 2,
     "metadata": {},
     "output_type": "execute_result"
    }
   ],
   "source": [
    "# print the list of columns in the dataset to find the name of the prediction target\n",
    "home_data.columns"
   ]
  },
  {
   "cell_type": "code",
   "execution_count": 3,
   "id": "9ea30b5a",
   "metadata": {
    "execution": {
     "iopub.execute_input": "2021-08-11T19:59:41.761416Z",
     "iopub.status.busy": "2021-08-11T19:59:41.760486Z",
     "iopub.status.idle": "2021-08-11T19:59:41.776265Z",
     "shell.execute_reply": "2021-08-11T19:59:41.776740Z",
     "shell.execute_reply.started": "2021-08-11T19:21:31.857358Z"
    },
    "papermill": {
     "duration": 0.034862,
     "end_time": "2021-08-11T19:59:41.776900",
     "exception": false,
     "start_time": "2021-08-11T19:59:41.742038",
     "status": "completed"
    },
    "tags": []
   },
   "outputs": [
    {
     "data": {
      "application/javascript": [
       "parent.postMessage({\"jupyterEvent\": \"custom.exercise_interaction\", \"data\": {\"outcomeType\": 1, \"valueTowardsCompletion\": 0.25, \"interactionType\": 1, \"questionType\": 2, \"questionId\": \"1_SetTarget\", \"learnToolsVersion\": \"0.3.4\", \"failureMessage\": \"\", \"exceptionClass\": \"\", \"trace\": \"\"}}, \"*\")"
      ],
      "text/plain": [
       "<IPython.core.display.Javascript object>"
      ]
     },
     "metadata": {},
     "output_type": "display_data"
    },
    {
     "data": {
      "text/markdown": [
       "<span style=\"color:#33cc33\">Correct</span>"
      ],
      "text/plain": [
       "Correct"
      ]
     },
     "metadata": {},
     "output_type": "display_data"
    }
   ],
   "source": [
    "y = home_data.SalePrice\n",
    "\n",
    "# Check your answer\n",
    "step_1.check()"
   ]
  },
  {
   "cell_type": "code",
   "execution_count": 4,
   "id": "b855666e",
   "metadata": {
    "collapsed": true,
    "execution": {
     "iopub.execute_input": "2021-08-11T19:59:41.814251Z",
     "iopub.status.busy": "2021-08-11T19:59:41.813554Z",
     "iopub.status.idle": "2021-08-11T19:59:41.817385Z",
     "shell.execute_reply": "2021-08-11T19:59:41.816877Z"
    },
    "jupyter": {
     "outputs_hidden": true
    },
    "papermill": {
     "duration": 0.023753,
     "end_time": "2021-08-11T19:59:41.817525",
     "exception": false,
     "start_time": "2021-08-11T19:59:41.793772",
     "status": "completed"
    },
    "tags": []
   },
   "outputs": [],
   "source": [
    "# The lines below will show you a hint or the solution.\n",
    "# step_1.hint() \n",
    "# step_1.solution()"
   ]
  },
  {
   "cell_type": "markdown",
   "id": "fd6a90d3",
   "metadata": {
    "papermill": {
     "duration": 0.016834,
     "end_time": "2021-08-11T19:59:41.851893",
     "exception": false,
     "start_time": "2021-08-11T19:59:41.835059",
     "status": "completed"
    },
    "tags": []
   },
   "source": [
    "## Step 2: Create X\n",
    "Now you will create a DataFrame called `X` holding the predictive features.\n",
    "\n",
    "Since you want only some columns from the original data, you'll first create a list with the names of the columns you want in `X`.\n",
    "\n",
    "You'll use just the following columns in the list (you can copy and paste the whole list to save some typing, though you'll still need to add quotes):\n",
    "    * LotArea\n",
    "    * YearBuilt\n",
    "    * 1stFlrSF\n",
    "    * 2ndFlrSF\n",
    "    * FullBath\n",
    "    * BedroomAbvGr\n",
    "    * TotRmsAbvGrd\n",
    "\n",
    "After you've created that list of features, use it to create the DataFrame that you'll use to fit the model."
   ]
  },
  {
   "cell_type": "code",
   "execution_count": 5,
   "id": "589732c6",
   "metadata": {
    "execution": {
     "iopub.execute_input": "2021-08-11T19:59:41.889169Z",
     "iopub.status.busy": "2021-08-11T19:59:41.888555Z",
     "iopub.status.idle": "2021-08-11T19:59:41.898778Z",
     "shell.execute_reply": "2021-08-11T19:59:41.899311Z",
     "shell.execute_reply.started": "2021-08-11T19:23:38.161171Z"
    },
    "papermill": {
     "duration": 0.030588,
     "end_time": "2021-08-11T19:59:41.899481",
     "exception": false,
     "start_time": "2021-08-11T19:59:41.868893",
     "status": "completed"
    },
    "tags": []
   },
   "outputs": [
    {
     "data": {
      "application/javascript": [
       "parent.postMessage({\"jupyterEvent\": \"custom.exercise_interaction\", \"data\": {\"outcomeType\": 1, \"valueTowardsCompletion\": 0.25, \"interactionType\": 1, \"questionType\": 2, \"questionId\": \"2_SelectPredictionData\", \"learnToolsVersion\": \"0.3.4\", \"failureMessage\": \"\", \"exceptionClass\": \"\", \"trace\": \"\"}}, \"*\")"
      ],
      "text/plain": [
       "<IPython.core.display.Javascript object>"
      ]
     },
     "metadata": {},
     "output_type": "display_data"
    },
    {
     "data": {
      "text/markdown": [
       "<span style=\"color:#33cc33\">Correct</span>"
      ],
      "text/plain": [
       "Correct"
      ]
     },
     "metadata": {},
     "output_type": "display_data"
    }
   ],
   "source": [
    "# Create the list of features below\n",
    "feature_names = [\"LotArea\", \"YearBuilt\",\"1stFlrSF\", \"2ndFlrSF\",\"FullBath\",\"BedroomAbvGr\",\"TotRmsAbvGrd\"]\n",
    "\n",
    "# Select data corresponding to features in feature_names\n",
    "X = home_data[feature_names]\n",
    "\n",
    "# Check your answer\n",
    "step_2.check()"
   ]
  },
  {
   "cell_type": "code",
   "execution_count": 6,
   "id": "ffc7e410",
   "metadata": {
    "collapsed": true,
    "execution": {
     "iopub.execute_input": "2021-08-11T19:59:41.939938Z",
     "iopub.status.busy": "2021-08-11T19:59:41.939313Z",
     "iopub.status.idle": "2021-08-11T19:59:41.942001Z",
     "shell.execute_reply": "2021-08-11T19:59:41.942455Z"
    },
    "jupyter": {
     "outputs_hidden": true
    },
    "papermill": {
     "duration": 0.02524,
     "end_time": "2021-08-11T19:59:41.942624",
     "exception": false,
     "start_time": "2021-08-11T19:59:41.917384",
     "status": "completed"
    },
    "tags": []
   },
   "outputs": [],
   "source": [
    "# step_2.hint()\n",
    "# step_2.solution()"
   ]
  },
  {
   "cell_type": "markdown",
   "id": "e7840639",
   "metadata": {
    "papermill": {
     "duration": 0.017641,
     "end_time": "2021-08-11T19:59:41.978365",
     "exception": false,
     "start_time": "2021-08-11T19:59:41.960724",
     "status": "completed"
    },
    "tags": []
   },
   "source": [
    "## Review Data\n",
    "Before building a model, take a quick look at **X** to verify it looks sensible"
   ]
  },
  {
   "cell_type": "code",
   "execution_count": 7,
   "id": "4e5886a5",
   "metadata": {
    "execution": {
     "iopub.execute_input": "2021-08-11T19:59:42.023441Z",
     "iopub.status.busy": "2021-08-11T19:59:42.022770Z",
     "iopub.status.idle": "2021-08-11T19:59:42.051091Z",
     "shell.execute_reply": "2021-08-11T19:59:42.051717Z",
     "shell.execute_reply.started": "2021-08-11T19:26:19.911343Z"
    },
    "papermill": {
     "duration": 0.055455,
     "end_time": "2021-08-11T19:59:42.051887",
     "exception": false,
     "start_time": "2021-08-11T19:59:41.996432",
     "status": "completed"
    },
    "tags": []
   },
   "outputs": [
    {
     "name": "stdout",
     "output_type": "stream",
     "text": [
      "             LotArea    YearBuilt     1stFlrSF     2ndFlrSF     FullBath  \\\n",
      "count    1460.000000  1460.000000  1460.000000  1460.000000  1460.000000   \n",
      "mean    10516.828082  1971.267808  1162.626712   346.992466     1.565068   \n",
      "std      9981.264932    30.202904   386.587738   436.528436     0.550916   \n",
      "min      1300.000000  1872.000000   334.000000     0.000000     0.000000   \n",
      "25%      7553.500000  1954.000000   882.000000     0.000000     1.000000   \n",
      "50%      9478.500000  1973.000000  1087.000000     0.000000     2.000000   \n",
      "75%     11601.500000  2000.000000  1391.250000   728.000000     2.000000   \n",
      "max    215245.000000  2010.000000  4692.000000  2065.000000     3.000000   \n",
      "\n",
      "       BedroomAbvGr  TotRmsAbvGrd  \n",
      "count   1460.000000   1460.000000  \n",
      "mean       2.866438      6.517808  \n",
      "std        0.815778      1.625393  \n",
      "min        0.000000      2.000000  \n",
      "25%        2.000000      5.000000  \n",
      "50%        3.000000      6.000000  \n",
      "75%        3.000000      7.000000  \n",
      "max        8.000000     14.000000  \n",
      "   LotArea  YearBuilt  1stFlrSF  2ndFlrSF  FullBath  BedroomAbvGr  \\\n",
      "0     8450       2003       856       854         2             3   \n",
      "1     9600       1976      1262         0         2             3   \n",
      "2    11250       2001       920       866         2             3   \n",
      "3     9550       1915       961       756         1             3   \n",
      "4    14260       2000      1145      1053         2             4   \n",
      "\n",
      "   TotRmsAbvGrd  \n",
      "0             8  \n",
      "1             6  \n",
      "2             6  \n",
      "3             7  \n",
      "4             9  \n"
     ]
    }
   ],
   "source": [
    "# Review data\n",
    "# print description or statistics from X\n",
    "print(X.describe())\n",
    "\n",
    "# print the top few lines\n",
    "print(X.head())"
   ]
  },
  {
   "cell_type": "markdown",
   "id": "fef45f1d",
   "metadata": {
    "papermill": {
     "duration": 0.018835,
     "end_time": "2021-08-11T19:59:42.089289",
     "exception": false,
     "start_time": "2021-08-11T19:59:42.070454",
     "status": "completed"
    },
    "tags": []
   },
   "source": [
    "## Step 3: Specify and Fit Model\n",
    "Create a `DecisionTreeRegressor` and save it iowa_model. Ensure you've done the relevant import from sklearn to run this command.\n",
    "\n",
    "Then fit the model you just created using the data in `X` and `y` that you saved above."
   ]
  },
  {
   "cell_type": "code",
   "execution_count": 8,
   "id": "370dad6a",
   "metadata": {
    "execution": {
     "iopub.execute_input": "2021-08-11T19:59:42.135875Z",
     "iopub.status.busy": "2021-08-11T19:59:42.135200Z",
     "iopub.status.idle": "2021-08-11T19:59:42.149350Z",
     "shell.execute_reply": "2021-08-11T19:59:42.148721Z",
     "shell.execute_reply.started": "2021-08-11T19:35:49.895485Z"
    },
    "papermill": {
     "duration": 0.041585,
     "end_time": "2021-08-11T19:59:42.149486",
     "exception": false,
     "start_time": "2021-08-11T19:59:42.107901",
     "status": "completed"
    },
    "tags": []
   },
   "outputs": [
    {
     "data": {
      "application/javascript": [
       "parent.postMessage({\"jupyterEvent\": \"custom.exercise_interaction\", \"data\": {\"outcomeType\": 1, \"valueTowardsCompletion\": 0.25, \"interactionType\": 1, \"questionType\": 2, \"questionId\": \"3_CreateModel\", \"learnToolsVersion\": \"0.3.4\", \"failureMessage\": \"\", \"exceptionClass\": \"\", \"trace\": \"\"}}, \"*\")"
      ],
      "text/plain": [
       "<IPython.core.display.Javascript object>"
      ]
     },
     "metadata": {},
     "output_type": "display_data"
    },
    {
     "data": {
      "text/markdown": [
       "<span style=\"color:#33cc33\">Correct</span>"
      ],
      "text/plain": [
       "Correct"
      ]
     },
     "metadata": {},
     "output_type": "display_data"
    }
   ],
   "source": [
    "from sklearn.tree import DecisionTreeRegressor\n",
    "\n",
    "#For model reproducibility, set a numeric value for random_state when specifying the model\n",
    "iowa_model = DecisionTreeRegressor(random_state = 1)\n",
    "\n",
    "# Fit the model\n",
    "iowa_model.fit(X,y)\n",
    "\n",
    "# Check your answer\n",
    "step_3.check()"
   ]
  },
  {
   "cell_type": "code",
   "execution_count": 9,
   "id": "7cf41021",
   "metadata": {
    "collapsed": true,
    "execution": {
     "iopub.execute_input": "2021-08-11T19:59:42.193539Z",
     "iopub.status.busy": "2021-08-11T19:59:42.192743Z",
     "iopub.status.idle": "2021-08-11T19:59:42.195846Z",
     "shell.execute_reply": "2021-08-11T19:59:42.195291Z"
    },
    "jupyter": {
     "outputs_hidden": true
    },
    "papermill": {
     "duration": 0.026428,
     "end_time": "2021-08-11T19:59:42.195981",
     "exception": false,
     "start_time": "2021-08-11T19:59:42.169553",
     "status": "completed"
    },
    "tags": []
   },
   "outputs": [],
   "source": [
    "# step_3.hint()\n",
    "# step_3.solution()"
   ]
  },
  {
   "cell_type": "markdown",
   "id": "f47fd3b8",
   "metadata": {
    "papermill": {
     "duration": 0.019343,
     "end_time": "2021-08-11T19:59:42.235468",
     "exception": false,
     "start_time": "2021-08-11T19:59:42.216125",
     "status": "completed"
    },
    "tags": []
   },
   "source": [
    "## Step 4: Make Predictions\n",
    "Make predictions with the model's `predict` command using `X` as the data. Save the results to a variable called `predictions`."
   ]
  },
  {
   "cell_type": "code",
   "execution_count": 10,
   "id": "67ef6389",
   "metadata": {
    "execution": {
     "iopub.execute_input": "2021-08-11T19:59:42.278121Z",
     "iopub.status.busy": "2021-08-11T19:59:42.277487Z",
     "iopub.status.idle": "2021-08-11T19:59:42.289808Z",
     "shell.execute_reply": "2021-08-11T19:59:42.290310Z",
     "shell.execute_reply.started": "2021-08-11T19:52:50.522858Z"
    },
    "papermill": {
     "duration": 0.035413,
     "end_time": "2021-08-11T19:59:42.290480",
     "exception": false,
     "start_time": "2021-08-11T19:59:42.255067",
     "status": "completed"
    },
    "tags": []
   },
   "outputs": [
    {
     "name": "stdout",
     "output_type": "stream",
     "text": [
      "[208500. 181500. 223500. ... 266500. 142125. 147500.]\n"
     ]
    },
    {
     "data": {
      "application/javascript": [
       "parent.postMessage({\"jupyterEvent\": \"custom.exercise_interaction\", \"data\": {\"outcomeType\": 1, \"valueTowardsCompletion\": 0.25, \"interactionType\": 1, \"questionType\": 2, \"questionId\": \"4_MakePredictions\", \"learnToolsVersion\": \"0.3.4\", \"failureMessage\": \"\", \"exceptionClass\": \"\", \"trace\": \"\"}}, \"*\")"
      ],
      "text/plain": [
       "<IPython.core.display.Javascript object>"
      ]
     },
     "metadata": {},
     "output_type": "display_data"
    },
    {
     "data": {
      "text/markdown": [
       "<span style=\"color:#33cc33\">Correct</span>"
      ],
      "text/plain": [
       "Correct"
      ]
     },
     "metadata": {},
     "output_type": "display_data"
    }
   ],
   "source": [
    "predictions = iowa_model.predict(X)\n",
    "print(predictions)\n",
    "\n",
    "# Check your answer\n",
    "step_4.check()"
   ]
  },
  {
   "cell_type": "code",
   "execution_count": 11,
   "id": "dd978620",
   "metadata": {
    "collapsed": true,
    "execution": {
     "iopub.execute_input": "2021-08-11T19:59:42.335120Z",
     "iopub.status.busy": "2021-08-11T19:59:42.334517Z",
     "iopub.status.idle": "2021-08-11T19:59:42.338328Z",
     "shell.execute_reply": "2021-08-11T19:59:42.337692Z"
    },
    "jupyter": {
     "outputs_hidden": true
    },
    "papermill": {
     "duration": 0.027311,
     "end_time": "2021-08-11T19:59:42.338465",
     "exception": false,
     "start_time": "2021-08-11T19:59:42.311154",
     "status": "completed"
    },
    "tags": []
   },
   "outputs": [],
   "source": [
    "# step_4.hint()\n",
    "# step_4.solution()"
   ]
  },
  {
   "cell_type": "markdown",
   "id": "9479b6e6",
   "metadata": {
    "papermill": {
     "duration": 0.02141,
     "end_time": "2021-08-11T19:59:42.380882",
     "exception": false,
     "start_time": "2021-08-11T19:59:42.359472",
     "status": "completed"
    },
    "tags": []
   },
   "source": [
    "## Think About Your Results\n",
    "\n",
    "Use the `head` method to compare the top few predictions to the actual home values (in `y`) for those same homes. Anything surprising?\n"
   ]
  },
  {
   "cell_type": "code",
   "execution_count": 12,
   "id": "aa1b2c6c",
   "metadata": {
    "execution": {
     "iopub.execute_input": "2021-08-11T19:59:42.426147Z",
     "iopub.status.busy": "2021-08-11T19:59:42.425501Z",
     "iopub.status.idle": "2021-08-11T19:59:42.434280Z",
     "shell.execute_reply": "2021-08-11T19:59:42.434739Z",
     "shell.execute_reply.started": "2021-08-11T19:58:09.989299Z"
    },
    "papermill": {
     "duration": 0.032908,
     "end_time": "2021-08-11T19:59:42.434911",
     "exception": false,
     "start_time": "2021-08-11T19:59:42.402003",
     "status": "completed"
    },
    "tags": []
   },
   "outputs": [
    {
     "name": "stdout",
     "output_type": "stream",
     "text": [
      "First five prdictions :  [208500. 181500. 223500. 140000. 250000.]\n",
      "First five prices :  0    208500\n",
      "1    181500\n",
      "2    223500\n",
      "3    140000\n",
      "4    250000\n",
      "Name: SalePrice, dtype: int64\n"
     ]
    }
   ],
   "source": [
    "# You can write code in this cell\n",
    "\n",
    "\n",
    "predict_head = iowa_model.predict(X.head())\n",
    "\n",
    "print(\"First five prdictions : \",predict_head)\n",
    "\n",
    "print(\"First five prices : \", y[:5] )\n",
    "\n",
    "\n",
    "#Accuracy is 100% since the data on which the model was trained and the data on which the model is being trained are the same\n",
    "\n"
   ]
  },
  {
   "cell_type": "markdown",
   "id": "462f0cc4",
   "metadata": {
    "papermill": {
     "duration": 0.02113,
     "end_time": "2021-08-11T19:59:42.478791",
     "exception": false,
     "start_time": "2021-08-11T19:59:42.457661",
     "status": "completed"
    },
    "tags": []
   },
   "source": [
    "It's natural to ask how accurate the model's predictions will be and how you can improve that. That will be you're next step.\n",
    "\n",
    "# Keep Going\n",
    "\n",
    "You are ready for **[Model Validation](https://www.kaggle.com/dansbecker/model-validation).**\n"
   ]
  },
  {
   "cell_type": "markdown",
   "id": "16b317de",
   "metadata": {
    "papermill": {
     "duration": 0.020971,
     "end_time": "2021-08-11T19:59:42.521499",
     "exception": false,
     "start_time": "2021-08-11T19:59:42.500528",
     "status": "completed"
    },
    "tags": []
   },
   "source": [
    "---\n",
    "\n",
    "\n",
    "\n",
    "\n",
    "*Have questions or comments? Visit the [Learn Discussion forum](https://www.kaggle.com/learn-forum/161285) to chat with other Learners.*"
   ]
  }
 ],
 "metadata": {
  "kernelspec": {
   "display_name": "Python 3",
   "language": "python",
   "name": "python3"
  },
  "language_info": {
   "codemirror_mode": {
    "name": "ipython",
    "version": 3
   },
   "file_extension": ".py",
   "mimetype": "text/x-python",
   "name": "python",
   "nbconvert_exporter": "python",
   "pygments_lexer": "ipython3",
   "version": "3.7.10"
  },
  "papermill": {
   "default_parameters": {},
   "duration": 11.796499,
   "end_time": "2021-08-11T19:59:44.215978",
   "environment_variables": {},
   "exception": null,
   "input_path": "__notebook__.ipynb",
   "output_path": "__notebook__.ipynb",
   "parameters": {},
   "start_time": "2021-08-11T19:59:32.419479",
   "version": "2.3.3"
  }
 },
 "nbformat": 4,
 "nbformat_minor": 5
}

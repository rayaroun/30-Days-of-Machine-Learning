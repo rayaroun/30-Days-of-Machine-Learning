{
 "cells": [
  {
   "cell_type": "markdown",
   "id": "2ee7084c",
   "metadata": {
    "papermill": {
     "duration": 0.012632,
     "end_time": "2021-08-11T21:08:44.249369",
     "exception": false,
     "start_time": "2021-08-11T21:08:44.236737",
     "status": "completed"
    },
    "tags": []
   },
   "source": [
    "**This notebook is an exercise in the [Introduction to Machine Learning](https://www.kaggle.com/learn/intro-to-machine-learning) course.  You can reference the tutorial at [this link](https://www.kaggle.com/dansbecker/underfitting-and-overfitting).**\n",
    "\n",
    "---\n"
   ]
  },
  {
   "cell_type": "markdown",
   "id": "ddc64f5d",
   "metadata": {
    "papermill": {
     "duration": 0.011753,
     "end_time": "2021-08-11T21:08:44.273373",
     "exception": false,
     "start_time": "2021-08-11T21:08:44.261620",
     "status": "completed"
    },
    "tags": []
   },
   "source": [
    "## Recap\n",
    "You've built your first model, and now it's time to optimize the size of the tree to make better predictions. Run this cell to set up your coding environment where the previous step left off."
   ]
  },
  {
   "cell_type": "code",
   "execution_count": 1,
   "id": "a3413217",
   "metadata": {
    "execution": {
     "iopub.execute_input": "2021-08-11T21:08:44.308198Z",
     "iopub.status.busy": "2021-08-11T21:08:44.307287Z",
     "iopub.status.idle": "2021-08-11T21:08:45.615128Z",
     "shell.execute_reply": "2021-08-11T21:08:45.614227Z",
     "shell.execute_reply.started": "2021-08-11T20:51:43.974797Z"
    },
    "papermill": {
     "duration": 1.330207,
     "end_time": "2021-08-11T21:08:45.615303",
     "exception": false,
     "start_time": "2021-08-11T21:08:44.285096",
     "status": "completed"
    },
    "tags": []
   },
   "outputs": [
    {
     "name": "stdout",
     "output_type": "stream",
     "text": [
      "Validation MAE: 29,653\n",
      "\n",
      "Setup complete\n"
     ]
    }
   ],
   "source": [
    "# Code you have previously used to load data\n",
    "import pandas as pd\n",
    "from sklearn.metrics import mean_absolute_error\n",
    "from sklearn.model_selection import train_test_split\n",
    "from sklearn.tree import DecisionTreeRegressor\n",
    "\n",
    "\n",
    "# Path of the file to read\n",
    "iowa_file_path = '../input/home-data-for-ml-course/train.csv'\n",
    "\n",
    "home_data = pd.read_csv(iowa_file_path)\n",
    "# Create target object and call it y\n",
    "y = home_data.SalePrice\n",
    "# Create X\n",
    "features = ['LotArea', 'YearBuilt', '1stFlrSF', '2ndFlrSF', 'FullBath', 'BedroomAbvGr', 'TotRmsAbvGrd']\n",
    "X = home_data[features]\n",
    "\n",
    "# Split into validation and training data\n",
    "train_X, val_X, train_y, val_y = train_test_split(X, y, random_state=1)\n",
    "\n",
    "# Specify Model\n",
    "iowa_model = DecisionTreeRegressor(random_state=1)\n",
    "# Fit Model\n",
    "iowa_model.fit(train_X, train_y)\n",
    "\n",
    "# Make validation predictions and calculate mean absolute error\n",
    "val_predictions = iowa_model.predict(val_X)\n",
    "val_mae = mean_absolute_error(val_predictions, val_y)\n",
    "print(\"Validation MAE: {:,.0f}\".format(val_mae))\n",
    "\n",
    "# Set up code checking\n",
    "from learntools.core import binder\n",
    "binder.bind(globals())\n",
    "from learntools.machine_learning.ex5 import *\n",
    "print(\"\\nSetup complete\")"
   ]
  },
  {
   "cell_type": "markdown",
   "id": "ec3a9a7f",
   "metadata": {
    "papermill": {
     "duration": 0.011861,
     "end_time": "2021-08-11T21:08:45.640254",
     "exception": false,
     "start_time": "2021-08-11T21:08:45.628393",
     "status": "completed"
    },
    "tags": []
   },
   "source": [
    "# Exercises\n",
    "You could write the function `get_mae` yourself. For now, we'll supply it. This is the same function you read about in the previous lesson. Just run the cell below."
   ]
  },
  {
   "cell_type": "code",
   "execution_count": 2,
   "id": "5cfa7304",
   "metadata": {
    "execution": {
     "iopub.execute_input": "2021-08-11T21:08:45.674557Z",
     "iopub.status.busy": "2021-08-11T21:08:45.673941Z",
     "iopub.status.idle": "2021-08-11T21:08:45.677453Z",
     "shell.execute_reply": "2021-08-11T21:08:45.676983Z",
     "shell.execute_reply.started": "2021-08-11T20:52:12.527852Z"
    },
    "papermill": {
     "duration": 0.022427,
     "end_time": "2021-08-11T21:08:45.677563",
     "exception": false,
     "start_time": "2021-08-11T21:08:45.655136",
     "status": "completed"
    },
    "tags": []
   },
   "outputs": [],
   "source": [
    "def get_mae(max_leaf_nodes, train_X, val_X, train_y, val_y):\n",
    "    model = DecisionTreeRegressor(max_leaf_nodes=max_leaf_nodes, random_state=0)\n",
    "    model.fit(train_X, train_y)\n",
    "    preds_val = model.predict(val_X)\n",
    "    mae = mean_absolute_error(val_y, preds_val)\n",
    "    return(mae)"
   ]
  },
  {
   "cell_type": "markdown",
   "id": "7d25dfb6",
   "metadata": {
    "papermill": {
     "duration": 0.007532,
     "end_time": "2021-08-11T21:08:45.694234",
     "exception": false,
     "start_time": "2021-08-11T21:08:45.686702",
     "status": "completed"
    },
    "tags": []
   },
   "source": [
    "## Step 1: Compare Different Tree Sizes\n",
    "Write a loop that tries the following values for *max_leaf_nodes* from a set of possible values.\n",
    "\n",
    "Call the *get_mae* function on each value of max_leaf_nodes. Store the output in some way that allows you to select the value of `max_leaf_nodes` that gives the most accurate model on your data."
   ]
  },
  {
   "cell_type": "code",
   "execution_count": 3,
   "id": "8b71ebe9",
   "metadata": {
    "execution": {
     "iopub.execute_input": "2021-08-11T21:08:45.711983Z",
     "iopub.status.busy": "2021-08-11T21:08:45.711365Z",
     "iopub.status.idle": "2021-08-11T21:08:45.760612Z",
     "shell.execute_reply": "2021-08-11T21:08:45.761043Z",
     "shell.execute_reply.started": "2021-08-11T21:04:32.101517Z"
    },
    "papermill": {
     "duration": 0.059467,
     "end_time": "2021-08-11T21:08:45.761199",
     "exception": false,
     "start_time": "2021-08-11T21:08:45.701732",
     "status": "completed"
    },
    "tags": []
   },
   "outputs": [
    {
     "name": "stdout",
     "output_type": "stream",
     "text": [
      "The best tree size is :  100\n"
     ]
    },
    {
     "data": {
      "application/javascript": [
       "parent.postMessage({\"jupyterEvent\": \"custom.exercise_interaction\", \"data\": {\"outcomeType\": 1, \"valueTowardsCompletion\": 0.5, \"interactionType\": 1, \"questionType\": 1, \"questionId\": \"1_BestTreeSize\", \"learnToolsVersion\": \"0.3.4\", \"failureMessage\": \"\", \"exceptionClass\": \"\", \"trace\": \"\"}}, \"*\")"
      ],
      "text/plain": [
       "<IPython.core.display.Javascript object>"
      ]
     },
     "metadata": {},
     "output_type": "display_data"
    },
    {
     "data": {
      "text/markdown": [
       "<span style=\"color:#33cc33\">Correct</span>"
      ],
      "text/plain": [
       "Correct"
      ]
     },
     "metadata": {},
     "output_type": "display_data"
    }
   ],
   "source": [
    "candidate_max_leaf_nodes = [5, 25, 50, 100, 250, 500]\n",
    "# Write loop to find the ideal tree size from candidate_max_leaf_nodes\n",
    "\n",
    "\n",
    "compared_value = 100000000\n",
    "best_tree_size = None\n",
    "\n",
    "\n",
    "for node in candidate_max_leaf_nodes:\n",
    "    node_mae = get_mae(node, train_X, val_X, train_y, val_y)\n",
    "    if node_mae < compared_value:\n",
    "        compared_value = node_mae\n",
    "        best_tree_size = node\n",
    "\n",
    "\n",
    "\n",
    "# Store the best value of max_leaf_nodes (it will be either 5, 25, 50, 100, 250 or 500)\n",
    "print(\"The best tree size is : \", best_tree_size)\n",
    "\n",
    "# Check your answer\n",
    "step_1.check()"
   ]
  },
  {
   "cell_type": "code",
   "execution_count": 4,
   "id": "7b1e1d76",
   "metadata": {
    "execution": {
     "iopub.execute_input": "2021-08-11T21:08:45.781905Z",
     "iopub.status.busy": "2021-08-11T21:08:45.781277Z",
     "iopub.status.idle": "2021-08-11T21:08:45.784319Z",
     "shell.execute_reply": "2021-08-11T21:08:45.784678Z"
    },
    "papermill": {
     "duration": 0.014202,
     "end_time": "2021-08-11T21:08:45.784780",
     "exception": false,
     "start_time": "2021-08-11T21:08:45.770578",
     "status": "completed"
    },
    "tags": []
   },
   "outputs": [],
   "source": [
    "# The lines below will show you a hint or the solution.\n",
    "# step_1.hint() \n",
    "# step_1.solution()"
   ]
  },
  {
   "cell_type": "markdown",
   "id": "c4387ec9",
   "metadata": {
    "papermill": {
     "duration": 0.008543,
     "end_time": "2021-08-11T21:08:45.802294",
     "exception": false,
     "start_time": "2021-08-11T21:08:45.793751",
     "status": "completed"
    },
    "tags": []
   },
   "source": [
    "## Step 2: Fit Model Using All Data\n",
    "You know the best tree size. If you were going to deploy this model in practice, you would make it even more accurate by using all of the data and keeping that tree size.  That is, you don't need to hold out the validation data now that you've made all your modeling decisions."
   ]
  },
  {
   "cell_type": "code",
   "execution_count": 5,
   "id": "cf9c8960",
   "metadata": {
    "execution": {
     "iopub.execute_input": "2021-08-11T21:08:45.822744Z",
     "iopub.status.busy": "2021-08-11T21:08:45.822161Z",
     "iopub.status.idle": "2021-08-11T21:08:45.838626Z",
     "shell.execute_reply": "2021-08-11T21:08:45.839089Z",
     "shell.execute_reply.started": "2021-08-11T21:06:14.821936Z"
    },
    "papermill": {
     "duration": 0.028099,
     "end_time": "2021-08-11T21:08:45.839214",
     "exception": false,
     "start_time": "2021-08-11T21:08:45.811115",
     "status": "completed"
    },
    "tags": []
   },
   "outputs": [
    {
     "data": {
      "application/javascript": [
       "parent.postMessage({\"jupyterEvent\": \"custom.exercise_interaction\", \"data\": {\"outcomeType\": 1, \"valueTowardsCompletion\": 0.5, \"interactionType\": 1, \"questionType\": 2, \"questionId\": \"2_FitModelWithAllData\", \"learnToolsVersion\": \"0.3.4\", \"failureMessage\": \"\", \"exceptionClass\": \"\", \"trace\": \"\"}}, \"*\")"
      ],
      "text/plain": [
       "<IPython.core.display.Javascript object>"
      ]
     },
     "metadata": {},
     "output_type": "display_data"
    },
    {
     "data": {
      "text/markdown": [
       "<span style=\"color:#33cc33\">Correct</span>"
      ],
      "text/plain": [
       "Correct"
      ]
     },
     "metadata": {},
     "output_type": "display_data"
    }
   ],
   "source": [
    "# Fill in argument to make optimal size and uncomment\n",
    "final_model = DecisionTreeRegressor(max_leaf_nodes=best_tree_size, random_state = 1)\n",
    "\n",
    "# fit the final model and uncomment the next two lines\n",
    "final_model.fit(X,y)\n",
    "\n",
    "# Check your answer\n",
    "step_2.check()"
   ]
  },
  {
   "cell_type": "code",
   "execution_count": 6,
   "id": "5fcc3bb2",
   "metadata": {
    "execution": {
     "iopub.execute_input": "2021-08-11T21:08:45.861529Z",
     "iopub.status.busy": "2021-08-11T21:08:45.860877Z",
     "iopub.status.idle": "2021-08-11T21:08:45.864729Z",
     "shell.execute_reply": "2021-08-11T21:08:45.864367Z"
    },
    "papermill": {
     "duration": 0.015754,
     "end_time": "2021-08-11T21:08:45.864822",
     "exception": false,
     "start_time": "2021-08-11T21:08:45.849068",
     "status": "completed"
    },
    "tags": []
   },
   "outputs": [],
   "source": [
    "# step_2.hint()\n",
    "# step_2.solution()"
   ]
  },
  {
   "cell_type": "code",
   "execution_count": 7,
   "id": "87f79c22",
   "metadata": {
    "execution": {
     "iopub.execute_input": "2021-08-11T21:08:45.886956Z",
     "iopub.status.busy": "2021-08-11T21:08:45.886337Z",
     "iopub.status.idle": "2021-08-11T21:08:45.893211Z",
     "shell.execute_reply": "2021-08-11T21:08:45.892733Z"
    },
    "papermill": {
     "duration": 0.018858,
     "end_time": "2021-08-11T21:08:45.893312",
     "exception": false,
     "start_time": "2021-08-11T21:08:45.874454",
     "status": "completed"
    },
    "tags": []
   },
   "outputs": [
    {
     "data": {
      "text/plain": [
       "'\\n\\nAfter finding the mean absolute error, the best tree size was found with the validation data. \\nOnce the best tree size was found, the final model was fitted with the whole data since there was no need to the model anymore.\\n\\n\\n'"
      ]
     },
     "execution_count": 7,
     "metadata": {},
     "output_type": "execute_result"
    }
   ],
   "source": [
    "\"\"\"\n",
    "\n",
    "After finding the mean absolute error, the best tree size was found with the validation data. \n",
    "Once the best tree size was found, the final model was fitted with the whole data since there was no need to the model anymore.\n",
    "\n",
    "\n",
    "\"\"\""
   ]
  },
  {
   "cell_type": "markdown",
   "id": "ee4092d3",
   "metadata": {
    "papermill": {
     "duration": 0.011194,
     "end_time": "2021-08-11T21:08:45.915321",
     "exception": false,
     "start_time": "2021-08-11T21:08:45.904127",
     "status": "completed"
    },
    "tags": []
   },
   "source": [
    "You've tuned this model and improved your results. But we are still using Decision Tree models, which are not very sophisticated by modern machine learning standards. In the next step you will learn to use Random Forests to improve your models even more.\n",
    "\n",
    "# Keep Going\n",
    "\n",
    "You are ready for **[Random Forests](https://www.kaggle.com/dansbecker/random-forests).**\n"
   ]
  },
  {
   "cell_type": "markdown",
   "id": "daa6dab4",
   "metadata": {
    "papermill": {
     "duration": 0.009728,
     "end_time": "2021-08-11T21:08:45.935074",
     "exception": false,
     "start_time": "2021-08-11T21:08:45.925346",
     "status": "completed"
    },
    "tags": []
   },
   "source": [
    "---\n",
    "\n",
    "\n",
    "\n",
    "\n",
    "*Have questions or comments? Visit the [Learn Discussion forum](https://www.kaggle.com/learn-forum/161285) to chat with other Learners.*"
   ]
  }
 ],
 "metadata": {
  "kernelspec": {
   "display_name": "Python 3",
   "language": "python",
   "name": "python3"
  },
  "language_info": {
   "codemirror_mode": {
    "name": "ipython",
    "version": 3
   },
   "file_extension": ".py",
   "mimetype": "text/x-python",
   "name": "python",
   "nbconvert_exporter": "python",
   "pygments_lexer": "ipython3",
   "version": "3.7.10"
  },
  "papermill": {
   "default_parameters": {},
   "duration": 9.781857,
   "end_time": "2021-08-11T21:08:47.262763",
   "environment_variables": {},
   "exception": null,
   "input_path": "__notebook__.ipynb",
   "output_path": "__notebook__.ipynb",
   "parameters": {},
   "start_time": "2021-08-11T21:08:37.480906",
   "version": "2.3.3"
  }
 },
 "nbformat": 4,
 "nbformat_minor": 5
}

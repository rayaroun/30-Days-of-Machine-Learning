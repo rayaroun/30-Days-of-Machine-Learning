{
 "cells": [
  {
   "cell_type": "markdown",
   "id": "797d9fec",
   "metadata": {
    "papermill": {
     "duration": 0.013763,
     "end_time": "2021-08-11T20:49:23.369921",
     "exception": false,
     "start_time": "2021-08-11T20:49:23.356158",
     "status": "completed"
    },
    "tags": []
   },
   "source": [
    "**This notebook is an exercise in the [Introduction to Machine Learning](https://www.kaggle.com/learn/intro-to-machine-learning) course.  You can reference the tutorial at [this link](https://www.kaggle.com/dansbecker/model-validation).**\n",
    "\n",
    "---\n"
   ]
  },
  {
   "cell_type": "markdown",
   "id": "fdeb6084",
   "metadata": {
    "papermill": {
     "duration": 0.012779,
     "end_time": "2021-08-11T20:49:23.395704",
     "exception": false,
     "start_time": "2021-08-11T20:49:23.382925",
     "status": "completed"
    },
    "tags": []
   },
   "source": [
    "## Recap\n",
    "You've built a model. In this exercise you will test how good your model is.\n",
    "\n",
    "Run the cell below to set up your coding environment where the previous exercise left off."
   ]
  },
  {
   "cell_type": "code",
   "execution_count": 1,
   "id": "a8e4351c",
   "metadata": {
    "execution": {
     "iopub.execute_input": "2021-08-11T20:49:23.435655Z",
     "iopub.status.busy": "2021-08-11T20:49:23.434856Z",
     "iopub.status.idle": "2021-08-11T20:49:24.775614Z",
     "shell.execute_reply": "2021-08-11T20:49:24.774387Z",
     "shell.execute_reply.started": "2021-08-11T20:02:28.497550Z"
    },
    "papermill": {
     "duration": 1.367548,
     "end_time": "2021-08-11T20:49:24.775864",
     "exception": false,
     "start_time": "2021-08-11T20:49:23.408316",
     "status": "completed"
    },
    "tags": []
   },
   "outputs": [
    {
     "name": "stdout",
     "output_type": "stream",
     "text": [
      "First in-sample predictions: [208500. 181500. 223500. 140000. 250000.]\n",
      "Actual target values for those homes: [208500, 181500, 223500, 140000, 250000]\n",
      "Setup Complete\n"
     ]
    }
   ],
   "source": [
    "# Code you have previously used to load data\n",
    "import pandas as pd\n",
    "from sklearn.tree import DecisionTreeRegressor\n",
    "\n",
    "# Path of the file to read\n",
    "iowa_file_path = '../input/home-data-for-ml-course/train.csv'\n",
    "\n",
    "home_data = pd.read_csv(iowa_file_path)\n",
    "y = home_data.SalePrice\n",
    "feature_columns = ['LotArea', 'YearBuilt', '1stFlrSF', '2ndFlrSF', 'FullBath', 'BedroomAbvGr', 'TotRmsAbvGrd']\n",
    "X = home_data[feature_columns]\n",
    "\n",
    "# Specify Model\n",
    "iowa_model = DecisionTreeRegressor()\n",
    "# Fit Model\n",
    "iowa_model.fit(X, y)\n",
    "\n",
    "print(\"First in-sample predictions:\", iowa_model.predict(X.head()))\n",
    "print(\"Actual target values for those homes:\", y.head().tolist())\n",
    "\n",
    "# Set up code checking\n",
    "from learntools.core import binder\n",
    "binder.bind(globals())\n",
    "from learntools.machine_learning.ex4 import *\n",
    "print(\"Setup Complete\")"
   ]
  },
  {
   "cell_type": "markdown",
   "id": "98c9844f",
   "metadata": {
    "papermill": {
     "duration": 0.01287,
     "end_time": "2021-08-11T20:49:24.803196",
     "exception": false,
     "start_time": "2021-08-11T20:49:24.790326",
     "status": "completed"
    },
    "tags": []
   },
   "source": [
    "# Exercises\n",
    "\n",
    "## Step 1: Split Your Data\n",
    "Use the `train_test_split` function to split up your data.\n",
    "\n",
    "Give it the argument `random_state=1` so the `check` functions know what to expect when verifying your code.\n",
    "\n",
    "Recall, your features are loaded in the DataFrame **X** and your target is loaded in **y**.\n"
   ]
  },
  {
   "cell_type": "code",
   "execution_count": 2,
   "id": "a675cef8",
   "metadata": {
    "execution": {
     "iopub.execute_input": "2021-08-11T20:49:24.839995Z",
     "iopub.status.busy": "2021-08-11T20:49:24.837855Z",
     "iopub.status.idle": "2021-08-11T20:49:24.871242Z",
     "shell.execute_reply": "2021-08-11T20:49:24.870400Z",
     "shell.execute_reply.started": "2021-08-11T20:27:15.875861Z"
    },
    "papermill": {
     "duration": 0.05527,
     "end_time": "2021-08-11T20:49:24.871467",
     "exception": false,
     "start_time": "2021-08-11T20:49:24.816197",
     "status": "completed"
    },
    "tags": []
   },
   "outputs": [
    {
     "data": {
      "application/javascript": [
       "parent.postMessage({\"jupyterEvent\": \"custom.exercise_interaction\", \"data\": {\"outcomeType\": 1, \"valueTowardsCompletion\": 0.25, \"interactionType\": 1, \"questionType\": 2, \"questionId\": \"1_SplitData\", \"learnToolsVersion\": \"0.3.4\", \"failureMessage\": \"\", \"exceptionClass\": \"\", \"trace\": \"\"}}, \"*\")"
      ],
      "text/plain": [
       "<IPython.core.display.Javascript object>"
      ]
     },
     "metadata": {},
     "output_type": "display_data"
    },
    {
     "data": {
      "text/markdown": [
       "<span style=\"color:#33cc33\">Correct</span>"
      ],
      "text/plain": [
       "Correct"
      ]
     },
     "metadata": {},
     "output_type": "display_data"
    }
   ],
   "source": [
    "# Import the train_test_split function and uncomment\n",
    "from sklearn.model_selection import train_test_split\n",
    "\n",
    "# fill in and uncomment\n",
    "train_X, val_X, train_y, val_y = train_test_split(X, y, random_state = 1)\n",
    "\n",
    "\n",
    "# Check your answer\n",
    "step_1.check()"
   ]
  },
  {
   "cell_type": "code",
   "execution_count": 3,
   "id": "df0483a0",
   "metadata": {
    "execution": {
     "iopub.execute_input": "2021-08-11T20:49:24.914577Z",
     "iopub.status.busy": "2021-08-11T20:49:24.913501Z",
     "iopub.status.idle": "2021-08-11T20:49:24.915929Z",
     "shell.execute_reply": "2021-08-11T20:49:24.916414Z"
    },
    "papermill": {
     "duration": 0.023587,
     "end_time": "2021-08-11T20:49:24.916600",
     "exception": false,
     "start_time": "2021-08-11T20:49:24.893013",
     "status": "completed"
    },
    "tags": []
   },
   "outputs": [],
   "source": [
    "# The lines below will show you a hint or the solution.\n",
    "# step_1.hint() \n",
    "# step_1.solution()\n"
   ]
  },
  {
   "cell_type": "markdown",
   "id": "9e0183b0",
   "metadata": {
    "papermill": {
     "duration": 0.013911,
     "end_time": "2021-08-11T20:49:24.949079",
     "exception": false,
     "start_time": "2021-08-11T20:49:24.935168",
     "status": "completed"
    },
    "tags": []
   },
   "source": [
    "## Step 2: Specify and Fit the Model\n",
    "\n",
    "Create a `DecisionTreeRegressor` model and fit it to the relevant data.\n",
    "Set `random_state` to 1 again when creating the model."
   ]
  },
  {
   "cell_type": "code",
   "execution_count": 4,
   "id": "e5c05ed3",
   "metadata": {
    "execution": {
     "iopub.execute_input": "2021-08-11T20:49:24.981598Z",
     "iopub.status.busy": "2021-08-11T20:49:24.980592Z",
     "iopub.status.idle": "2021-08-11T20:49:25.013641Z",
     "shell.execute_reply": "2021-08-11T20:49:25.013025Z",
     "shell.execute_reply.started": "2021-08-11T20:28:17.824230Z"
    },
    "papermill": {
     "duration": 0.050454,
     "end_time": "2021-08-11T20:49:25.013804",
     "exception": false,
     "start_time": "2021-08-11T20:49:24.963350",
     "status": "completed"
    },
    "tags": []
   },
   "outputs": [
    {
     "name": "stdout",
     "output_type": "stream",
     "text": [
      "[186500. 184000. 130000.  92000. 164500. 220000. 335000. 144152. 215000.\n",
      " 262000.]\n",
      "[186500. 184000. 130000.  92000. 164500. 220000. 335000. 144152. 215000.\n",
      " 262000.]\n"
     ]
    },
    {
     "data": {
      "application/javascript": [
       "parent.postMessage({\"jupyterEvent\": \"custom.exercise_interaction\", \"data\": {\"outcomeType\": 1, \"valueTowardsCompletion\": 0.25, \"interactionType\": 1, \"questionType\": 2, \"questionId\": \"2_FitModelWithTrain\", \"learnToolsVersion\": \"0.3.4\", \"failureMessage\": \"\", \"exceptionClass\": \"\", \"trace\": \"\"}}, \"*\")"
      ],
      "text/plain": [
       "<IPython.core.display.Javascript object>"
      ]
     },
     "metadata": {},
     "output_type": "display_data"
    },
    {
     "data": {
      "text/markdown": [
       "<span style=\"color:#33cc33\">Correct</span>"
      ],
      "text/plain": [
       "Correct"
      ]
     },
     "metadata": {},
     "output_type": "display_data"
    }
   ],
   "source": [
    "# You imported DecisionTreeRegressor in your last exercise\n",
    "# and that code has been copied to the setup code above. So, no need to\n",
    "# import it again\n",
    "\n",
    "# Specify the model\n",
    "iowa_model = DecisionTreeRegressor(random_state=1)\n",
    "\n",
    "# Fit iowa_model with the training data.\n",
    "iowa_model.fit(train_X,train_y)\n",
    "\n",
    "# Check your answer\n",
    "step_2.check()"
   ]
  },
  {
   "cell_type": "code",
   "execution_count": 5,
   "id": "2afd176d",
   "metadata": {
    "execution": {
     "iopub.execute_input": "2021-08-11T20:49:25.049775Z",
     "iopub.status.busy": "2021-08-11T20:49:25.049024Z",
     "iopub.status.idle": "2021-08-11T20:49:25.052045Z",
     "shell.execute_reply": "2021-08-11T20:49:25.051329Z"
    },
    "papermill": {
     "duration": 0.022321,
     "end_time": "2021-08-11T20:49:25.052194",
     "exception": false,
     "start_time": "2021-08-11T20:49:25.029873",
     "status": "completed"
    },
    "tags": []
   },
   "outputs": [],
   "source": [
    "# step_2.hint()\n",
    "# step_2.solution()"
   ]
  },
  {
   "cell_type": "markdown",
   "id": "a7be7136",
   "metadata": {
    "papermill": {
     "duration": 0.015275,
     "end_time": "2021-08-11T20:49:25.084889",
     "exception": false,
     "start_time": "2021-08-11T20:49:25.069614",
     "status": "completed"
    },
    "tags": []
   },
   "source": [
    "## Step 3: Make Predictions with Validation data\n"
   ]
  },
  {
   "cell_type": "code",
   "execution_count": 6,
   "id": "38cf4211",
   "metadata": {
    "execution": {
     "iopub.execute_input": "2021-08-11T20:49:25.124939Z",
     "iopub.status.busy": "2021-08-11T20:49:25.122806Z",
     "iopub.status.idle": "2021-08-11T20:49:25.132748Z",
     "shell.execute_reply": "2021-08-11T20:49:25.132216Z",
     "shell.execute_reply.started": "2021-08-11T20:41:01.304934Z"
    },
    "papermill": {
     "duration": 0.032186,
     "end_time": "2021-08-11T20:49:25.132888",
     "exception": false,
     "start_time": "2021-08-11T20:49:25.100702",
     "status": "completed"
    },
    "tags": []
   },
   "outputs": [
    {
     "data": {
      "application/javascript": [
       "parent.postMessage({\"jupyterEvent\": \"custom.exercise_interaction\", \"data\": {\"outcomeType\": 1, \"valueTowardsCompletion\": 0.25, \"interactionType\": 1, \"questionType\": 2, \"questionId\": \"3_ValPreds\", \"learnToolsVersion\": \"0.3.4\", \"failureMessage\": \"\", \"exceptionClass\": \"\", \"trace\": \"\"}}, \"*\")"
      ],
      "text/plain": [
       "<IPython.core.display.Javascript object>"
      ]
     },
     "metadata": {},
     "output_type": "display_data"
    },
    {
     "data": {
      "text/markdown": [
       "<span style=\"color:#33cc33\">Correct</span>"
      ],
      "text/plain": [
       "Correct"
      ]
     },
     "metadata": {},
     "output_type": "display_data"
    }
   ],
   "source": [
    "# Predict with all validation observations\n",
    "val_predictions = iowa_model.predict(val_X)\n",
    "\n",
    "# Check your answer\n",
    "step_3.check()"
   ]
  },
  {
   "cell_type": "code",
   "execution_count": 7,
   "id": "4dcd71b3",
   "metadata": {
    "execution": {
     "iopub.execute_input": "2021-08-11T20:49:25.168902Z",
     "iopub.status.busy": "2021-08-11T20:49:25.168252Z",
     "iopub.status.idle": "2021-08-11T20:49:25.171427Z",
     "shell.execute_reply": "2021-08-11T20:49:25.171953Z"
    },
    "papermill": {
     "duration": 0.022693,
     "end_time": "2021-08-11T20:49:25.172122",
     "exception": false,
     "start_time": "2021-08-11T20:49:25.149429",
     "status": "completed"
    },
    "tags": []
   },
   "outputs": [],
   "source": [
    "# step_3.hint()\n",
    "# step_3.solution()"
   ]
  },
  {
   "cell_type": "markdown",
   "id": "5fa28159",
   "metadata": {
    "papermill": {
     "duration": 0.016591,
     "end_time": "2021-08-11T20:49:25.205620",
     "exception": false,
     "start_time": "2021-08-11T20:49:25.189029",
     "status": "completed"
    },
    "tags": []
   },
   "source": [
    "Inspect your predictions and actual values from validation data."
   ]
  },
  {
   "cell_type": "code",
   "execution_count": 8,
   "id": "79eb9444",
   "metadata": {
    "execution": {
     "iopub.execute_input": "2021-08-11T20:49:25.242665Z",
     "iopub.status.busy": "2021-08-11T20:49:25.241964Z",
     "iopub.status.idle": "2021-08-11T20:49:25.249678Z",
     "shell.execute_reply": "2021-08-11T20:49:25.249071Z",
     "shell.execute_reply.started": "2021-08-11T20:42:27.379580Z"
    },
    "papermill": {
     "duration": 0.027485,
     "end_time": "2021-08-11T20:49:25.249889",
     "exception": false,
     "start_time": "2021-08-11T20:49:25.222404",
     "status": "completed"
    },
    "tags": []
   },
   "outputs": [
    {
     "name": "stdout",
     "output_type": "stream",
     "text": [
      "[186500.0, 184000.0, 130000.0, 92000.0, 164500.0]\n",
      "[231500, 179500, 122000, 84500, 142000]\n"
     ]
    }
   ],
   "source": [
    "# print the top few validation predictions\n",
    "print(val_predictions[:5].tolist())\n",
    "# print the top few actual prices from validation data\n",
    "print(val_y.head().tolist())"
   ]
  },
  {
   "cell_type": "markdown",
   "id": "e8f125c9",
   "metadata": {
    "papermill": {
     "duration": 0.016709,
     "end_time": "2021-08-11T20:49:25.283896",
     "exception": false,
     "start_time": "2021-08-11T20:49:25.267187",
     "status": "completed"
    },
    "tags": []
   },
   "source": [
    "What do you notice that is different from what you saw with in-sample predictions (which are printed after the top code cell in this page).\n",
    "\n",
    "Do you remember why validation predictions differ from in-sample (or training) predictions? This is an important idea from the last lesson.\n",
    "\n",
    "## Step 4: Calculate the Mean Absolute Error in Validation Data\n"
   ]
  },
  {
   "cell_type": "code",
   "execution_count": 9,
   "id": "201cb13f",
   "metadata": {
    "execution": {
     "iopub.execute_input": "2021-08-11T20:49:25.325233Z",
     "iopub.status.busy": "2021-08-11T20:49:25.324144Z",
     "iopub.status.idle": "2021-08-11T20:49:25.332284Z",
     "shell.execute_reply": "2021-08-11T20:49:25.331779Z",
     "shell.execute_reply.started": "2021-08-11T20:48:55.852078Z"
    },
    "papermill": {
     "duration": 0.031532,
     "end_time": "2021-08-11T20:49:25.332427",
     "exception": false,
     "start_time": "2021-08-11T20:49:25.300895",
     "status": "completed"
    },
    "tags": []
   },
   "outputs": [
    {
     "name": "stdout",
     "output_type": "stream",
     "text": [
      "29652.931506849316\n"
     ]
    },
    {
     "data": {
      "application/javascript": [
       "parent.postMessage({\"jupyterEvent\": \"custom.exercise_interaction\", \"data\": {\"outcomeType\": 1, \"valueTowardsCompletion\": 0.25, \"interactionType\": 1, \"questionType\": 1, \"questionId\": \"4_MAE\", \"learnToolsVersion\": \"0.3.4\", \"failureMessage\": \"\", \"exceptionClass\": \"\", \"trace\": \"\"}}, \"*\")"
      ],
      "text/plain": [
       "<IPython.core.display.Javascript object>"
      ]
     },
     "metadata": {},
     "output_type": "display_data"
    },
    {
     "data": {
      "text/markdown": [
       "<span style=\"color:#33cc33\">Correct</span>"
      ],
      "text/plain": [
       "Correct"
      ]
     },
     "metadata": {},
     "output_type": "display_data"
    }
   ],
   "source": [
    "from sklearn.metrics import mean_absolute_error\n",
    "val_mae = mean_absolute_error(val_y,val_predictions)\n",
    "\n",
    "# uncomment following line to see the validation_mae\n",
    "print(val_mae)\n",
    "\n",
    "# Check your answer\n",
    "step_4.check()"
   ]
  },
  {
   "cell_type": "code",
   "execution_count": 10,
   "id": "b75812de",
   "metadata": {
    "execution": {
     "iopub.execute_input": "2021-08-11T20:49:25.373210Z",
     "iopub.status.busy": "2021-08-11T20:49:25.372519Z",
     "iopub.status.idle": "2021-08-11T20:49:25.374561Z",
     "shell.execute_reply": "2021-08-11T20:49:25.375024Z"
    },
    "papermill": {
     "duration": 0.024482,
     "end_time": "2021-08-11T20:49:25.375199",
     "exception": false,
     "start_time": "2021-08-11T20:49:25.350717",
     "status": "completed"
    },
    "tags": []
   },
   "outputs": [],
   "source": [
    "# step_4.hint()\n",
    "# step_4.solution()"
   ]
  },
  {
   "cell_type": "markdown",
   "id": "5a977ce1",
   "metadata": {
    "papermill": {
     "duration": 0.017938,
     "end_time": "2021-08-11T20:49:25.411583",
     "exception": false,
     "start_time": "2021-08-11T20:49:25.393645",
     "status": "completed"
    },
    "tags": []
   },
   "source": [
    "Is that MAE good?  There isn't a general rule for what values are good that applies across applications. But you'll see how to use (and improve) this number in the next step.\n",
    "\n",
    "# Keep Going\n",
    "\n",
    "You are ready for **[Underfitting and Overfitting](https://www.kaggle.com/dansbecker/underfitting-and-overfitting).**\n"
   ]
  },
  {
   "cell_type": "markdown",
   "id": "0e796ee5",
   "metadata": {
    "papermill": {
     "duration": 0.017943,
     "end_time": "2021-08-11T20:49:25.447714",
     "exception": false,
     "start_time": "2021-08-11T20:49:25.429771",
     "status": "completed"
    },
    "tags": []
   },
   "source": [
    "---\n",
    "\n",
    "\n",
    "\n",
    "\n",
    "*Have questions or comments? Visit the [Learn Discussion forum](https://www.kaggle.com/learn-forum/161285) to chat with other Learners.*"
   ]
  }
 ],
 "metadata": {
  "kernelspec": {
   "display_name": "Python 3",
   "language": "python",
   "name": "python3"
  },
  "language_info": {
   "codemirror_mode": {
    "name": "ipython",
    "version": 3
   },
   "file_extension": ".py",
   "mimetype": "text/x-python",
   "name": "python",
   "nbconvert_exporter": "python",
   "pygments_lexer": "ipython3",
   "version": "3.7.10"
  },
  "papermill": {
   "default_parameters": {},
   "duration": 11.771145,
   "end_time": "2021-08-11T20:49:27.007822",
   "environment_variables": {},
   "exception": null,
   "input_path": "__notebook__.ipynb",
   "output_path": "__notebook__.ipynb",
   "parameters": {},
   "start_time": "2021-08-11T20:49:15.236677",
   "version": "2.3.3"
  }
 },
 "nbformat": 4,
 "nbformat_minor": 5
}

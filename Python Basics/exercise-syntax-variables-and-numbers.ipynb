{
 "cells": [
  {
   "cell_type": "markdown",
   "id": "bd7b5a51",
   "metadata": {
    "papermill": {
     "duration": 0.024693,
     "end_time": "2021-08-03T20:46:41.945540",
     "exception": false,
     "start_time": "2021-08-03T20:46:41.920847",
     "status": "completed"
    },
    "tags": []
   },
   "source": [
    "**This notebook is an exercise in the [Python](https://www.kaggle.com/learn/python) course.  You can reference the tutorial at [this link](https://www.kaggle.com/colinmorris/hello-python).**\n",
    "\n",
    "---\n"
   ]
  },
  {
   "cell_type": "markdown",
   "id": "38577d68",
   "metadata": {
    "papermill": {
     "duration": 0.02239,
     "end_time": "2021-08-03T20:46:41.989986",
     "exception": false,
     "start_time": "2021-08-03T20:46:41.967596",
     "status": "completed"
    },
    "tags": []
   },
   "source": [
    "Welcome to your first set of Python coding problems.  If this is your first time using Kaggle Notebooks, welcome! \n",
    "\n",
    "Notebooks are composed of blocks (called \"cells\") of text and code. Each of these is editable, though you'll mainly be editing the code cells to answer some questions.\n",
    "\n",
    "To get started, try running the code cell below (by pressing the ► button, or clicking on the cell and pressing ctrl+enter on your keyboard)."
   ]
  },
  {
   "cell_type": "code",
   "execution_count": 1,
   "id": "e74e71fb",
   "metadata": {
    "execution": {
     "iopub.execute_input": "2021-08-03T20:46:42.048869Z",
     "iopub.status.busy": "2021-08-03T20:46:42.048132Z",
     "iopub.status.idle": "2021-08-03T20:46:42.052694Z",
     "shell.execute_reply": "2021-08-03T20:46:42.053235Z",
     "shell.execute_reply.started": "2021-08-03T18:54:40.302224Z"
    },
    "papermill": {
     "duration": 0.040202,
     "end_time": "2021-08-03T20:46:42.053560",
     "exception": false,
     "start_time": "2021-08-03T20:46:42.013358",
     "status": "completed"
    },
    "tags": []
   },
   "outputs": [
    {
     "name": "stdout",
     "output_type": "stream",
     "text": [
      "You've successfully run some Python code\n",
      "Congratulations!\n"
     ]
    }
   ],
   "source": [
    "print(\"You've successfully run some Python code\")\n",
    "print(\"Congratulations!\")"
   ]
  },
  {
   "cell_type": "markdown",
   "id": "b704e9b4",
   "metadata": {
    "papermill": {
     "duration": 0.022383,
     "end_time": "2021-08-03T20:46:42.098778",
     "exception": false,
     "start_time": "2021-08-03T20:46:42.076395",
     "status": "completed"
    },
    "tags": []
   },
   "source": [
    "Try adding another line of code in the cell above and re-running it. \n",
    "\n",
    "Now let's get a little fancier:  Add a new code cell by clicking on an existing code cell, hitting the escape key, and then hitting the `a` or `b` key.  The `a` key will add a cell above the current cell, and `b` adds a cell below.\n",
    "\n",
    "Great! Now you know how to use Notebooks.\n",
    "\n",
    "Each hands-on exercise starts by setting up our feedback and code checking mechanism. Run the code cell below to do that. Then you'll be ready to move on to question 0."
   ]
  },
  {
   "cell_type": "code",
   "execution_count": 2,
   "id": "0a53dfb2",
   "metadata": {
    "_kg_hide-input": true,
    "_kg_hide-output": true,
    "execution": {
     "iopub.execute_input": "2021-08-03T20:46:42.149373Z",
     "iopub.status.busy": "2021-08-03T20:46:42.148653Z",
     "iopub.status.idle": "2021-08-03T20:46:42.259892Z",
     "shell.execute_reply": "2021-08-03T20:46:42.260392Z",
     "shell.execute_reply.started": "2021-08-03T18:56:46.159460Z"
    },
    "papermill": {
     "duration": 0.139469,
     "end_time": "2021-08-03T20:46:42.260602",
     "exception": false,
     "start_time": "2021-08-03T20:46:42.121133",
     "status": "completed"
    },
    "tags": []
   },
   "outputs": [
    {
     "name": "stdout",
     "output_type": "stream",
     "text": [
      "Setup complete! You're ready to start question 0.\n"
     ]
    }
   ],
   "source": [
    "from learntools.core import binder; binder.bind(globals())\n",
    "from learntools.python.ex1 import *\n",
    "print(\"Setup complete! You're ready to start question 0.\")"
   ]
  },
  {
   "cell_type": "markdown",
   "id": "4e2733ce",
   "metadata": {
    "papermill": {
     "duration": 0.02216,
     "end_time": "2021-08-03T20:46:42.304999",
     "exception": false,
     "start_time": "2021-08-03T20:46:42.282839",
     "status": "completed"
    },
    "tags": []
   },
   "source": [
    "# 0.\n",
    "\n",
    "*This is a silly question intended as an introduction to the format we use for hands-on exercises throughout all Kaggle courses.*\n",
    "\n",
    "**What is your favorite color? **\n",
    "\n",
    "To complete this question, create a variable called `color` in the cell below with an appropriate value. The function call `q0.check()` (which we've already provided in the cell below) will check your answer."
   ]
  },
  {
   "cell_type": "code",
   "execution_count": 3,
   "id": "10e25593",
   "metadata": {
    "execution": {
     "iopub.execute_input": "2021-08-03T20:46:42.356732Z",
     "iopub.status.busy": "2021-08-03T20:46:42.355664Z",
     "iopub.status.idle": "2021-08-03T20:46:42.364071Z",
     "shell.execute_reply": "2021-08-03T20:46:42.364703Z",
     "shell.execute_reply.started": "2021-08-03T18:58:20.677682Z"
    },
    "papermill": {
     "duration": 0.036699,
     "end_time": "2021-08-03T20:46:42.364995",
     "exception": false,
     "start_time": "2021-08-03T20:46:42.328296",
     "status": "completed"
    },
    "tags": []
   },
   "outputs": [
    {
     "data": {
      "application/javascript": [
       "parent.postMessage({\"jupyterEvent\": \"custom.exercise_interaction\", \"data\": {\"outcomeType\": 1, \"valueTowardsCompletion\": 0.25, \"interactionType\": 1, \"questionType\": 2, \"questionId\": \"0_ExerciseFormatTutorial\", \"learnToolsVersion\": \"0.3.4\", \"failureMessage\": \"\", \"exceptionClass\": \"\", \"trace\": \"\"}}, \"*\")"
      ],
      "text/plain": [
       "<IPython.core.display.Javascript object>"
      ]
     },
     "metadata": {},
     "output_type": "display_data"
    },
    {
     "data": {
      "text/markdown": [
       "<span style=\"color:#33cc33\">Correct:</span> What?! You got it right without needing a hint or anything? Drats. Well hey, you should still continue to the next step to get some practice asking for a hint and checking solutions. (Even though you obviously don't need any help here.)"
      ],
      "text/plain": [
       "Correct: What?! You got it right without needing a hint or anything? Drats. Well hey, you should still continue to the next step to get some practice asking for a hint and checking solutions. (Even though you obviously don't need any help here.)"
      ]
     },
     "metadata": {},
     "output_type": "display_data"
    }
   ],
   "source": [
    "# create a variable called color with an appropriate value on the line below\n",
    "# (Remember, strings in Python must be enclosed in 'single' or \"double\" quotes)\n",
    "\n",
    "\n",
    "color = \"blue\"\n",
    "\n",
    "\n",
    "# Check your answer\n",
    "q0.check()"
   ]
  },
  {
   "cell_type": "markdown",
   "id": "c8c297c4",
   "metadata": {
    "papermill": {
     "duration": 0.023512,
     "end_time": "2021-08-03T20:46:42.413264",
     "exception": false,
     "start_time": "2021-08-03T20:46:42.389752",
     "status": "completed"
    },
    "tags": []
   },
   "source": [
    "Didn't get the right answer? How do you not even know your own favorite color?!\n",
    "\n",
    "Delete the `#` in the line below to make one of the lines run. You can choose between getting a hint or the full answer by choosing which line to remove the `#` from. \n",
    "\n",
    "Removing the `#` is called uncommenting, because it changes that line from a \"comment\" which Python doesn't run to code, which Python does run."
   ]
  },
  {
   "cell_type": "code",
   "execution_count": 4,
   "id": "3a3633d1",
   "metadata": {
    "execution": {
     "iopub.execute_input": "2021-08-03T20:46:42.463386Z",
     "iopub.status.busy": "2021-08-03T20:46:42.462728Z",
     "iopub.status.idle": "2021-08-03T20:46:42.475862Z",
     "shell.execute_reply": "2021-08-03T20:46:42.476441Z",
     "shell.execute_reply.started": "2021-08-03T18:58:25.919436Z"
    },
    "papermill": {
     "duration": 0.039903,
     "end_time": "2021-08-03T20:46:42.476646",
     "exception": false,
     "start_time": "2021-08-03T20:46:42.436743",
     "status": "completed"
    },
    "tags": []
   },
   "outputs": [
    {
     "data": {
      "application/javascript": [
       "parent.postMessage({\"jupyterEvent\": \"custom.exercise_interaction\", \"data\": {\"interactionType\": 2, \"questionType\": 2, \"questionId\": \"0_ExerciseFormatTutorial\", \"learnToolsVersion\": \"0.3.4\", \"valueTowardsCompletion\": 0.0, \"failureMessage\": \"\", \"exceptionClass\": \"\", \"trace\": \"\", \"outcomeType\": 4}}, \"*\")"
      ],
      "text/plain": [
       "<IPython.core.display.Javascript object>"
      ]
     },
     "metadata": {},
     "output_type": "display_data"
    },
    {
     "data": {
      "text/markdown": [
       "<span style=\"color:#3366cc\">Hint:</span> Your favorite color rhymes with *glue*."
      ],
      "text/plain": [
       "Hint: Your favorite color rhymes with *glue*."
      ]
     },
     "metadata": {},
     "output_type": "display_data"
    },
    {
     "data": {
      "application/javascript": [
       "parent.postMessage({\"jupyterEvent\": \"custom.exercise_interaction\", \"data\": {\"interactionType\": 3, \"questionType\": 2, \"questionId\": \"0_ExerciseFormatTutorial\", \"learnToolsVersion\": \"0.3.4\", \"valueTowardsCompletion\": 0.0, \"failureMessage\": \"\", \"exceptionClass\": \"\", \"trace\": \"\", \"outcomeType\": 4}}, \"*\")"
      ],
      "text/plain": [
       "<IPython.core.display.Javascript object>"
      ]
     },
     "metadata": {},
     "output_type": "display_data"
    },
    {
     "data": {
      "text/markdown": [
       "<span style=\"color:#33cc99\">Solution:</span> \n",
       "```python\n",
       "color = \"blue\"\n",
       "```"
      ],
      "text/plain": [
       "Solution: \n",
       "```python\n",
       "color = \"blue\"\n",
       "```"
      ]
     },
     "metadata": {},
     "output_type": "display_data"
    }
   ],
   "source": [
    "q0.hint()\n",
    "q0.solution()"
   ]
  },
  {
   "cell_type": "markdown",
   "id": "7214a003",
   "metadata": {
    "papermill": {
     "duration": 0.025842,
     "end_time": "2021-08-03T20:46:42.529666",
     "exception": false,
     "start_time": "2021-08-03T20:46:42.503824",
     "status": "completed"
    },
    "tags": []
   },
   "source": [
    "The upcoming questions work the same way. The only thing that will change are the question numbers. For the next question, you'll call `q1.check()`, `q1.hint()`, `q1.solution()`, for question 2, you'll call `q2.check()`, and so on."
   ]
  },
  {
   "cell_type": "markdown",
   "id": "9a9e546b",
   "metadata": {
    "papermill": {
     "duration": 0.026323,
     "end_time": "2021-08-03T20:46:42.582460",
     "exception": false,
     "start_time": "2021-08-03T20:46:42.556137",
     "status": "completed"
    },
    "tags": []
   },
   "source": [
    "<hr/>\n",
    "\n",
    "# 1.\n",
    "\n",
    "Complete the code below. In case it's helpful, here is the table of available arithmetic operations:\n",
    "\n",
    "\n",
    "\n",
    "| Operator     | Name           | Description                                            |\n",
    "|--------------|----------------|--------------------------------------------------------|\n",
    "| ``a + b``    | Addition       | Sum of ``a`` and ``b``                                 |\n",
    "| ``a - b``    | Subtraction    | Difference of ``a`` and ``b``                          |\n",
    "| ``a * b``    | Multiplication | Product of ``a`` and ``b``                             |\n",
    "| ``a / b``    | True division  | Quotient of ``a`` and ``b``                            |\n",
    "| ``a // b``   | Floor division | Quotient of ``a`` and ``b``, removing fractional parts |\n",
    "| ``a % b``    | Modulus        | Integer remainder after division of ``a`` by ``b``     |\n",
    "| ``a ** b``   | Exponentiation | ``a`` raised to the power of ``b``                     |\n",
    "| ``-a``       | Negation       | The negative of ``a``                                  |\n",
    "\n",
    "<span style=\"display:none\"></span>\n"
   ]
  },
  {
   "cell_type": "code",
   "execution_count": 5,
   "id": "71154f8e",
   "metadata": {
    "execution": {
     "iopub.execute_input": "2021-08-03T20:46:42.638747Z",
     "iopub.status.busy": "2021-08-03T20:46:42.637522Z",
     "iopub.status.idle": "2021-08-03T20:46:42.647851Z",
     "shell.execute_reply": "2021-08-03T20:46:42.648422Z",
     "shell.execute_reply.started": "2021-08-03T18:59:22.065720Z"
    },
    "papermill": {
     "duration": 0.040662,
     "end_time": "2021-08-03T20:46:42.648607",
     "exception": false,
     "start_time": "2021-08-03T20:46:42.607945",
     "status": "completed"
    },
    "tags": []
   },
   "outputs": [
    {
     "data": {
      "application/javascript": [
       "parent.postMessage({\"jupyterEvent\": \"custom.exercise_interaction\", \"data\": {\"outcomeType\": 1, \"valueTowardsCompletion\": 0.25, \"interactionType\": 1, \"questionType\": 1, \"questionId\": \"1_CircleArea\", \"learnToolsVersion\": \"0.3.4\", \"failureMessage\": \"\", \"exceptionClass\": \"\", \"trace\": \"\"}}, \"*\")"
      ],
      "text/plain": [
       "<IPython.core.display.Javascript object>"
      ]
     },
     "metadata": {},
     "output_type": "display_data"
    },
    {
     "data": {
      "text/markdown": [
       "<span style=\"color:#33cc33\">Correct</span>"
      ],
      "text/plain": [
       "Correct"
      ]
     },
     "metadata": {},
     "output_type": "display_data"
    }
   ],
   "source": [
    "pi = 3.14159 # approximate\n",
    "diameter = 3\n",
    "\n",
    "# Create a variable called 'radius' equal to half the diameter\n",
    "\n",
    "radius = diameter/2\n",
    "____\n",
    "\n",
    "# Create a variable called 'area', using the formula for the area of a circle: pi times the radius squared\n",
    "\n",
    "area = pi*radius*radius\n",
    "\n",
    "____\n",
    "\n",
    "# Check your answer\n",
    "q1.check()"
   ]
  },
  {
   "cell_type": "code",
   "execution_count": 6,
   "id": "7cd3bcb2",
   "metadata": {
    "execution": {
     "iopub.execute_input": "2021-08-03T20:46:42.709634Z",
     "iopub.status.busy": "2021-08-03T20:46:42.708957Z",
     "iopub.status.idle": "2021-08-03T20:46:42.718354Z",
     "shell.execute_reply": "2021-08-03T20:46:42.717655Z",
     "shell.execute_reply.started": "2021-08-03T18:59:34.021164Z"
    },
    "papermill": {
     "duration": 0.042857,
     "end_time": "2021-08-03T20:46:42.718493",
     "exception": false,
     "start_time": "2021-08-03T20:46:42.675636",
     "status": "completed"
    },
    "tags": []
   },
   "outputs": [
    {
     "data": {
      "application/javascript": [
       "parent.postMessage({\"jupyterEvent\": \"custom.exercise_interaction\", \"data\": {\"interactionType\": 2, \"questionType\": 1, \"questionId\": \"1_CircleArea\", \"learnToolsVersion\": \"0.3.4\", \"valueTowardsCompletion\": 0.0, \"failureMessage\": \"\", \"exceptionClass\": \"\", \"trace\": \"\", \"outcomeType\": 4}}, \"*\")"
      ],
      "text/plain": [
       "<IPython.core.display.Javascript object>"
      ]
     },
     "metadata": {},
     "output_type": "display_data"
    },
    {
     "data": {
      "text/markdown": [
       "<span style=\"color:#3366cc\">Hint:</span> The syntax to raise a to the b'th power is `a ** b`"
      ],
      "text/plain": [
       "Hint: The syntax to raise a to the b'th power is `a ** b`"
      ]
     },
     "metadata": {},
     "output_type": "display_data"
    },
    {
     "data": {
      "application/javascript": [
       "parent.postMessage({\"jupyterEvent\": \"custom.exercise_interaction\", \"data\": {\"interactionType\": 3, \"questionType\": 1, \"questionId\": \"1_CircleArea\", \"learnToolsVersion\": \"0.3.4\", \"valueTowardsCompletion\": 0.0, \"failureMessage\": \"\", \"exceptionClass\": \"\", \"trace\": \"\", \"outcomeType\": 4}}, \"*\")"
      ],
      "text/plain": [
       "<IPython.core.display.Javascript object>"
      ]
     },
     "metadata": {},
     "output_type": "display_data"
    },
    {
     "data": {
      "text/markdown": [
       "<span style=\"color:#33cc99\">Solution:</span> \n",
       "```python\n",
       "radius = diameter / 2\n",
       "area = pi * radius ** 2\n",
       "```"
      ],
      "text/plain": [
       "Solution: \n",
       "```python\n",
       "radius = diameter / 2\n",
       "area = pi * radius ** 2\n",
       "```"
      ]
     },
     "metadata": {},
     "output_type": "display_data"
    }
   ],
   "source": [
    "# Uncomment and run the lines below if you need help.\n",
    "q1.hint()\n",
    "q1.solution()"
   ]
  },
  {
   "cell_type": "markdown",
   "id": "faf6c8e7",
   "metadata": {
    "papermill": {
     "duration": 0.028013,
     "end_time": "2021-08-03T20:46:42.777424",
     "exception": false,
     "start_time": "2021-08-03T20:46:42.749411",
     "status": "completed"
    },
    "tags": []
   },
   "source": [
    "<hr/>\n",
    "\n",
    "# 2.\n",
    "\n",
    "Add code to the following cell to swap variables `a` and `b` (so that `a` refers to the object previously referred to by `b` and vice versa)."
   ]
  },
  {
   "cell_type": "code",
   "execution_count": 7,
   "id": "bb3d5b56",
   "metadata": {
    "execution": {
     "iopub.execute_input": "2021-08-03T20:46:42.842694Z",
     "iopub.status.busy": "2021-08-03T20:46:42.842028Z",
     "iopub.status.idle": "2021-08-03T20:46:42.848047Z",
     "shell.execute_reply": "2021-08-03T20:46:42.847365Z",
     "shell.execute_reply.started": "2021-08-03T19:04:56.856014Z"
    },
    "papermill": {
     "duration": 0.041372,
     "end_time": "2021-08-03T20:46:42.848191",
     "exception": false,
     "start_time": "2021-08-03T20:46:42.806819",
     "status": "completed"
    },
    "tags": []
   },
   "outputs": [
    {
     "data": {
      "application/javascript": [
       "parent.postMessage({\"jupyterEvent\": \"custom.exercise_interaction\", \"data\": {\"outcomeType\": 1, \"valueTowardsCompletion\": 0.25, \"interactionType\": 1, \"questionType\": 2, \"questionId\": \"2_VariableSwap\", \"learnToolsVersion\": \"0.3.4\", \"failureMessage\": \"\", \"exceptionClass\": \"\", \"trace\": \"\"}}, \"*\")"
      ],
      "text/plain": [
       "<IPython.core.display.Javascript object>"
      ]
     },
     "metadata": {},
     "output_type": "display_data"
    },
    {
     "data": {
      "text/markdown": [
       "<span style=\"color:#33cc33\">Correct:</span> \n",
       "\n",
       "The most straightforward solution is to use a third variable to temporarily store one of the old values. e.g.:\n",
       "\n",
       "    tmp = a\n",
       "    a = b\n",
       "    b = tmp\n",
       "\n",
       "If you've read lots of Python code, you might have seen the following trick to swap two variables in one line:\n",
       "\n",
       "    a, b = b, a\n",
       "\n",
       "We'll demystify this bit of Python magic later when we talk about *tuples*."
      ],
      "text/plain": [
       "Correct: \n",
       "\n",
       "The most straightforward solution is to use a third variable to temporarily store one of the old values. e.g.:\n",
       "\n",
       "    tmp = a\n",
       "    a = b\n",
       "    b = tmp\n",
       "\n",
       "If you've read lots of Python code, you might have seen the following trick to swap two variables in one line:\n",
       "\n",
       "    a, b = b, a\n",
       "\n",
       "We'll demystify this bit of Python magic later when we talk about *tuples*."
      ]
     },
     "metadata": {},
     "output_type": "display_data"
    }
   ],
   "source": [
    "########### Setup code - don't touch this part ######################\n",
    "# If you're curious, these are examples of lists. We'll talk about \n",
    "# them in depth a few lessons from now. For now, just know that they're\n",
    "# yet another type of Python object, like int or float.\n",
    "a = [1, 2, 3]\n",
    "b = [3, 2, 1]\n",
    "q2.store_original_ids()\n",
    "######################################################################\n",
    "\n",
    "# Your code goes here. Swap the values to which a and b refer.\n",
    "# If you get stuck, you can always uncomment one or both of the lines in\n",
    "# the next cell for a hint, or to peek at the solution.\n",
    "\n",
    "c = a\n",
    "a = b\n",
    "b = c\n",
    "\n",
    "\n",
    "######################################################################\n",
    "\n",
    "# Check your answer\n",
    "q2.check()"
   ]
  },
  {
   "cell_type": "code",
   "execution_count": 8,
   "id": "b0d346fc",
   "metadata": {
    "execution": {
     "iopub.execute_input": "2021-08-03T20:46:42.912514Z",
     "iopub.status.busy": "2021-08-03T20:46:42.911881Z",
     "iopub.status.idle": "2021-08-03T20:46:42.915331Z",
     "shell.execute_reply": "2021-08-03T20:46:42.915992Z"
    },
    "papermill": {
     "duration": 0.037969,
     "end_time": "2021-08-03T20:46:42.916150",
     "exception": false,
     "start_time": "2021-08-03T20:46:42.878181",
     "status": "completed"
    },
    "tags": []
   },
   "outputs": [],
   "source": [
    "#q2.hint()"
   ]
  },
  {
   "cell_type": "code",
   "execution_count": 9,
   "id": "e312007a",
   "metadata": {
    "execution": {
     "iopub.execute_input": "2021-08-03T20:46:42.978509Z",
     "iopub.status.busy": "2021-08-03T20:46:42.977869Z",
     "iopub.status.idle": "2021-08-03T20:46:42.981053Z",
     "shell.execute_reply": "2021-08-03T20:46:42.981712Z"
    },
    "papermill": {
     "duration": 0.036251,
     "end_time": "2021-08-03T20:46:42.981887",
     "exception": false,
     "start_time": "2021-08-03T20:46:42.945636",
     "status": "completed"
    },
    "tags": []
   },
   "outputs": [],
   "source": [
    "#q2.solution()"
   ]
  },
  {
   "cell_type": "markdown",
   "id": "53b580df",
   "metadata": {
    "papermill": {
     "duration": 0.031827,
     "end_time": "2021-08-03T20:46:43.044104",
     "exception": false,
     "start_time": "2021-08-03T20:46:43.012277",
     "status": "completed"
    },
    "tags": []
   },
   "source": [
    "<hr/>\n",
    "\n",
    "# 3a.\n",
    "\n",
    "Add parentheses to the following expression so that it evaluates to 1."
   ]
  },
  {
   "cell_type": "code",
   "execution_count": 10,
   "id": "9e700d70",
   "metadata": {
    "execution": {
     "iopub.execute_input": "2021-08-03T20:46:43.109246Z",
     "iopub.status.busy": "2021-08-03T20:46:43.108587Z",
     "iopub.status.idle": "2021-08-03T20:46:43.113641Z",
     "shell.execute_reply": "2021-08-03T20:46:43.114284Z",
     "shell.execute_reply.started": "2021-08-03T19:05:43.375524Z"
    },
    "papermill": {
     "duration": 0.039661,
     "end_time": "2021-08-03T20:46:43.114444",
     "exception": false,
     "start_time": "2021-08-03T20:46:43.074783",
     "status": "completed"
    },
    "tags": []
   },
   "outputs": [
    {
     "data": {
      "text/plain": [
       "1"
      ]
     },
     "execution_count": 10,
     "metadata": {},
     "output_type": "execute_result"
    }
   ],
   "source": [
    "(5 - 3) // 2"
   ]
  },
  {
   "cell_type": "code",
   "execution_count": 11,
   "id": "09eb3a75",
   "metadata": {
    "execution": {
     "iopub.execute_input": "2021-08-03T20:46:43.181311Z",
     "iopub.status.busy": "2021-08-03T20:46:43.180626Z",
     "iopub.status.idle": "2021-08-03T20:46:43.188098Z",
     "shell.execute_reply": "2021-08-03T20:46:43.188686Z",
     "shell.execute_reply.started": "2021-08-03T19:05:50.689108Z"
    },
    "papermill": {
     "duration": 0.042994,
     "end_time": "2021-08-03T20:46:43.188912",
     "exception": false,
     "start_time": "2021-08-03T20:46:43.145918",
     "status": "completed"
    },
    "tags": []
   },
   "outputs": [
    {
     "data": {
      "application/javascript": [
       "parent.postMessage({\"jupyterEvent\": \"custom.exercise_interaction\", \"data\": {\"interactionType\": 2, \"questionType\": 4, \"questionId\": \"3.1_ArithmeticParensEasy\", \"learnToolsVersion\": \"0.3.4\", \"valueTowardsCompletion\": 0.0, \"failureMessage\": \"\", \"exceptionClass\": \"\", \"trace\": \"\", \"outcomeType\": 4}}, \"*\")"
      ],
      "text/plain": [
       "<IPython.core.display.Javascript object>"
      ]
     },
     "metadata": {},
     "output_type": "display_data"
    },
    {
     "data": {
      "text/markdown": [
       "<span style=\"color:#3366cc\">Hint:</span> Following its default \"BEDMAS\"-like rules for order of operations, Python will first divide 3 by 2, then subtract the result from 5. You need to add parentheses to force it to perform the subtraction first."
      ],
      "text/plain": [
       "Hint: Following its default \"BEDMAS\"-like rules for order of operations, Python will first divide 3 by 2, then subtract the result from 5. You need to add parentheses to force it to perform the subtraction first."
      ]
     },
     "metadata": {},
     "output_type": "display_data"
    }
   ],
   "source": [
    "q3.a.hint()"
   ]
  },
  {
   "cell_type": "code",
   "execution_count": 12,
   "id": "8a26b13e",
   "metadata": {
    "execution": {
     "iopub.execute_input": "2021-08-03T20:46:43.256958Z",
     "iopub.status.busy": "2021-08-03T20:46:43.256291Z",
     "iopub.status.idle": "2021-08-03T20:46:43.264569Z",
     "shell.execute_reply": "2021-08-03T20:46:43.263913Z"
    },
    "papermill": {
     "duration": 0.043886,
     "end_time": "2021-08-03T20:46:43.264731",
     "exception": false,
     "start_time": "2021-08-03T20:46:43.220845",
     "status": "completed"
    },
    "tags": []
   },
   "outputs": [
    {
     "data": {
      "application/javascript": [
       "parent.postMessage({\"jupyterEvent\": \"custom.exercise_interaction\", \"data\": {\"interactionType\": 3, \"questionType\": 4, \"questionId\": \"3.1_ArithmeticParensEasy\", \"learnToolsVersion\": \"0.3.4\", \"valueTowardsCompletion\": 0.0, \"failureMessage\": \"\", \"exceptionClass\": \"\", \"trace\": \"\", \"outcomeType\": 4}}, \"*\")"
      ],
      "text/plain": [
       "<IPython.core.display.Javascript object>"
      ]
     },
     "metadata": {},
     "output_type": "display_data"
    },
    {
     "data": {
      "text/markdown": [
       "<span style=\"color:#33cc99\">Solution:</span> \n",
       "```python\n",
       "(5 - 3) // 2\n",
       "```"
      ],
      "text/plain": [
       "Solution: \n",
       "```python\n",
       "(5 - 3) // 2\n",
       "```"
      ]
     },
     "metadata": {},
     "output_type": "display_data"
    }
   ],
   "source": [
    "# Check your answer (Run this code cell to receive credit!)\n",
    "q3.a.solution()"
   ]
  },
  {
   "cell_type": "markdown",
   "id": "acf4b1f0",
   "metadata": {
    "papermill": {
     "duration": 0.033178,
     "end_time": "2021-08-03T20:46:43.330485",
     "exception": false,
     "start_time": "2021-08-03T20:46:43.297307",
     "status": "completed"
    },
    "tags": []
   },
   "source": [
    "# 3b.  <span title=\"A bit spicy\" style=\"color: darkgreen \">🌶️</span>\n",
    "\n",
    "<small>Questions, like this one, marked a spicy pepper are a bit harder.</small>\n",
    "\n",
    "Add parentheses to the following expression so that it evaluates to 0."
   ]
  },
  {
   "cell_type": "code",
   "execution_count": 13,
   "id": "79e39abb",
   "metadata": {
    "execution": {
     "iopub.execute_input": "2021-08-03T20:46:43.402450Z",
     "iopub.status.busy": "2021-08-03T20:46:43.401810Z",
     "iopub.status.idle": "2021-08-03T20:46:43.406656Z",
     "shell.execute_reply": "2021-08-03T20:46:43.406092Z",
     "shell.execute_reply.started": "2021-08-03T19:11:00.618752Z"
    },
    "papermill": {
     "duration": 0.042966,
     "end_time": "2021-08-03T20:46:43.406802",
     "exception": false,
     "start_time": "2021-08-03T20:46:43.363836",
     "status": "completed"
    },
    "tags": []
   },
   "outputs": [
    {
     "data": {
      "text/plain": [
       "0"
      ]
     },
     "execution_count": 13,
     "metadata": {},
     "output_type": "execute_result"
    }
   ],
   "source": [
    "8 - (3 * 2) - (1 + 1)"
   ]
  },
  {
   "cell_type": "code",
   "execution_count": 14,
   "id": "a64c96f6",
   "metadata": {
    "execution": {
     "iopub.execute_input": "2021-08-03T20:46:43.475894Z",
     "iopub.status.busy": "2021-08-03T20:46:43.475166Z",
     "iopub.status.idle": "2021-08-03T20:46:43.483354Z",
     "shell.execute_reply": "2021-08-03T20:46:43.482780Z",
     "shell.execute_reply.started": "2021-08-03T19:09:04.789327Z"
    },
    "papermill": {
     "duration": 0.043676,
     "end_time": "2021-08-03T20:46:43.483495",
     "exception": false,
     "start_time": "2021-08-03T20:46:43.439819",
     "status": "completed"
    },
    "tags": []
   },
   "outputs": [
    {
     "data": {
      "application/javascript": [
       "parent.postMessage({\"jupyterEvent\": \"custom.exercise_interaction\", \"data\": {\"interactionType\": 2, \"questionType\": 4, \"questionId\": \"3.2_ArithmeticParensHard\", \"learnToolsVersion\": \"0.3.4\", \"valueTowardsCompletion\": 0.0, \"failureMessage\": \"\", \"exceptionClass\": \"\", \"trace\": \"\", \"outcomeType\": 4}}, \"*\")"
      ],
      "text/plain": [
       "<IPython.core.display.Javascript object>"
      ]
     },
     "metadata": {},
     "output_type": "display_data"
    },
    {
     "data": {
      "text/markdown": [
       "<span style=\"color:#3366cc\">Hint:</span> You may need to use several pairs of parentheses."
      ],
      "text/plain": [
       "Hint: You may need to use several pairs of parentheses."
      ]
     },
     "metadata": {},
     "output_type": "display_data"
    }
   ],
   "source": [
    "q3.b.hint()"
   ]
  },
  {
   "cell_type": "code",
   "execution_count": 15,
   "id": "065b331d",
   "metadata": {
    "execution": {
     "iopub.execute_input": "2021-08-03T20:46:43.560037Z",
     "iopub.status.busy": "2021-08-03T20:46:43.559373Z",
     "iopub.status.idle": "2021-08-03T20:46:43.564157Z",
     "shell.execute_reply": "2021-08-03T20:46:43.564824Z",
     "shell.execute_reply.started": "2021-08-03T19:11:04.220652Z"
    },
    "papermill": {
     "duration": 0.045567,
     "end_time": "2021-08-03T20:46:43.564979",
     "exception": false,
     "start_time": "2021-08-03T20:46:43.519412",
     "status": "completed"
    },
    "tags": []
   },
   "outputs": [
    {
     "data": {
      "application/javascript": [
       "parent.postMessage({\"jupyterEvent\": \"custom.exercise_interaction\", \"data\": {\"interactionType\": 3, \"questionType\": 4, \"questionId\": \"3.2_ArithmeticParensHard\", \"learnToolsVersion\": \"0.3.4\", \"valueTowardsCompletion\": 0.0, \"failureMessage\": \"\", \"exceptionClass\": \"\", \"trace\": \"\", \"outcomeType\": 4}}, \"*\")"
      ],
      "text/plain": [
       "<IPython.core.display.Javascript object>"
      ]
     },
     "metadata": {},
     "output_type": "display_data"
    },
    {
     "data": {
      "text/markdown": [
       "<span style=\"color:#33cc99\">Solution:</span> `(8 - 3) * (2 - (1 + 1))` is one solution. There may be others."
      ],
      "text/plain": [
       "Solution: `(8 - 3) * (2 - (1 + 1))` is one solution. There may be others."
      ]
     },
     "metadata": {},
     "output_type": "display_data"
    }
   ],
   "source": [
    "# Check your answer (Run this code cell to receive credit!)\n",
    "q3.b.solution()"
   ]
  },
  {
   "cell_type": "markdown",
   "id": "9f8edc2f",
   "metadata": {
    "papermill": {
     "duration": 0.036499,
     "end_time": "2021-08-03T20:46:43.637298",
     "exception": false,
     "start_time": "2021-08-03T20:46:43.600799",
     "status": "completed"
    },
    "tags": []
   },
   "source": [
    "<hr/>\n",
    "\n",
    "# 4. \n",
    "Alice, Bob and Carol have agreed to pool their Halloween candy and split it evenly among themselves.\n",
    "For the sake of their friendship, any candies left over will be smashed. For example, if they collectively\n",
    "bring home 91 candies, they'll take 30 each and smash 1.\n",
    "\n",
    "Write an arithmetic expression below to calculate how many candies they must smash for a given haul."
   ]
  },
  {
   "cell_type": "code",
   "execution_count": 16,
   "id": "c7f1d77c",
   "metadata": {
    "execution": {
     "iopub.execute_input": "2021-08-03T20:46:43.718695Z",
     "iopub.status.busy": "2021-08-03T20:46:43.718028Z",
     "iopub.status.idle": "2021-08-03T20:46:43.726240Z",
     "shell.execute_reply": "2021-08-03T20:46:43.726877Z",
     "shell.execute_reply.started": "2021-08-03T19:12:40.020077Z"
    },
    "papermill": {
     "duration": 0.053919,
     "end_time": "2021-08-03T20:46:43.727032",
     "exception": false,
     "start_time": "2021-08-03T20:46:43.673113",
     "status": "completed"
    },
    "tags": []
   },
   "outputs": [
    {
     "data": {
      "application/javascript": [
       "parent.postMessage({\"jupyterEvent\": \"custom.exercise_interaction\", \"data\": {\"outcomeType\": 1, \"valueTowardsCompletion\": 0.25, \"interactionType\": 1, \"questionType\": 1, \"questionId\": \"4_CandySplitting\", \"learnToolsVersion\": \"0.3.4\", \"failureMessage\": \"\", \"exceptionClass\": \"\", \"trace\": \"\"}}, \"*\")"
      ],
      "text/plain": [
       "<IPython.core.display.Javascript object>"
      ]
     },
     "metadata": {},
     "output_type": "display_data"
    },
    {
     "data": {
      "text/markdown": [
       "<span style=\"color:#33cc33\">Correct</span>"
      ],
      "text/plain": [
       "Correct"
      ]
     },
     "metadata": {},
     "output_type": "display_data"
    }
   ],
   "source": [
    "# Variables representing the number of candies collected by alice, bob, and carol\n",
    "alice_candies = 121\n",
    "bob_candies = 77\n",
    "carol_candies = 109\n",
    "\n",
    "# Your code goes here! Replace the right-hand side of this assignment with an expression\n",
    "# involving alice_candies, bob_candies, and carol_candies\n",
    "to_smash = -1\n",
    "\n",
    "total = alice_candies + bob_candies + carol_candies \n",
    "\n",
    "to_smash = total % 3\n",
    "\n",
    "\n",
    "# Check your answer\n",
    "q4.check()"
   ]
  },
  {
   "cell_type": "code",
   "execution_count": 17,
   "id": "953ab650",
   "metadata": {
    "execution": {
     "iopub.execute_input": "2021-08-03T20:46:43.804528Z",
     "iopub.status.busy": "2021-08-03T20:46:43.803889Z",
     "iopub.status.idle": "2021-08-03T20:46:43.807700Z",
     "shell.execute_reply": "2021-08-03T20:46:43.808210Z"
    },
    "papermill": {
     "duration": 0.044972,
     "end_time": "2021-08-03T20:46:43.808375",
     "exception": false,
     "start_time": "2021-08-03T20:46:43.763403",
     "status": "completed"
    },
    "tags": []
   },
   "outputs": [],
   "source": [
    "#q4.hint()\n",
    "#q4.solution()"
   ]
  },
  {
   "cell_type": "markdown",
   "id": "c2ea1ac5",
   "metadata": {
    "papermill": {
     "duration": 0.038408,
     "end_time": "2021-08-03T20:46:43.884244",
     "exception": false,
     "start_time": "2021-08-03T20:46:43.845836",
     "status": "completed"
    },
    "tags": []
   },
   "source": [
    "# Keep Going\n",
    "\n",
    "Next up, you'll **[learn to write new functions and understand functions others write](https://www.kaggle.com/colinmorris/functions-and-getting-help)**. This will make you at least 10 times more productive as a Python programmer. "
   ]
  },
  {
   "cell_type": "markdown",
   "id": "fe9d56f5",
   "metadata": {
    "papermill": {
     "duration": 0.040559,
     "end_time": "2021-08-03T20:46:43.962729",
     "exception": false,
     "start_time": "2021-08-03T20:46:43.922170",
     "status": "completed"
    },
    "tags": []
   },
   "source": [
    "---\n",
    "\n",
    "\n",
    "\n",
    "\n",
    "*Have questions or comments? Visit the [Learn Discussion forum](https://www.kaggle.com/learn-forum/161283) to chat with other Learners.*"
   ]
  }
 ],
 "metadata": {
  "kernelspec": {
   "display_name": "Python 3",
   "language": "python",
   "name": "python3"
  },
  "language_info": {
   "codemirror_mode": {
    "name": "ipython",
    "version": 3
   },
   "file_extension": ".py",
   "mimetype": "text/x-python",
   "name": "python",
   "nbconvert_exporter": "python",
   "pygments_lexer": "ipython3",
   "version": "3.7.10"
  },
  "papermill": {
   "default_parameters": {},
   "duration": 10.655528,
   "end_time": "2021-08-03T20:46:45.326787",
   "environment_variables": {},
   "exception": null,
   "input_path": "__notebook__.ipynb",
   "output_path": "__notebook__.ipynb",
   "parameters": {},
   "start_time": "2021-08-03T20:46:34.671259",
   "version": "2.3.3"
  }
 },
 "nbformat": 4,
 "nbformat_minor": 5
}

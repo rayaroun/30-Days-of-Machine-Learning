{
 "cells": [
  {
   "cell_type": "markdown",
   "id": "08a9d03e",
   "metadata": {
    "papermill": {
     "duration": 0.012993,
     "end_time": "2021-08-10T19:13:42.550322",
     "exception": false,
     "start_time": "2021-08-10T19:13:42.537329",
     "status": "completed"
    },
    "tags": []
   },
   "source": [
    "**This notebook is an exercise in the [Python](https://www.kaggle.com/learn/python) course.  You can reference the tutorial at [this link](https://www.kaggle.com/colinmorris/strings-and-dictionaries).**\n",
    "\n",
    "---\n"
   ]
  },
  {
   "cell_type": "markdown",
   "id": "b699d3ac",
   "metadata": {
    "papermill": {
     "duration": 0.011542,
     "end_time": "2021-08-10T19:13:42.574052",
     "exception": false,
     "start_time": "2021-08-10T19:13:42.562510",
     "status": "completed"
    },
    "tags": []
   },
   "source": [
    "You are almost done with the course. Nice job!\n",
    "\n",
    "We have a couple more interesting problems for you before you go. \n",
    "\n",
    "As always, run the setup code below before working on the questions."
   ]
  },
  {
   "cell_type": "code",
   "execution_count": 1,
   "id": "7b928949",
   "metadata": {
    "execution": {
     "iopub.execute_input": "2021-08-10T19:13:42.607141Z",
     "iopub.status.busy": "2021-08-10T19:13:42.606420Z",
     "iopub.status.idle": "2021-08-10T19:13:42.725310Z",
     "shell.execute_reply": "2021-08-10T19:13:42.724626Z",
     "shell.execute_reply.started": "2021-08-10T18:26:28.520726Z"
    },
    "papermill": {
     "duration": 0.139517,
     "end_time": "2021-08-10T19:13:42.725480",
     "exception": false,
     "start_time": "2021-08-10T19:13:42.585963",
     "status": "completed"
    },
    "tags": []
   },
   "outputs": [
    {
     "name": "stdout",
     "output_type": "stream",
     "text": [
      "Setup complete.\n"
     ]
    }
   ],
   "source": [
    "from learntools.core import binder; binder.bind(globals())\n",
    "from learntools.python.ex6 import *\n",
    "print('Setup complete.')"
   ]
  },
  {
   "cell_type": "markdown",
   "id": "356597f8",
   "metadata": {
    "papermill": {
     "duration": 0.011876,
     "end_time": "2021-08-10T19:13:42.749846",
     "exception": false,
     "start_time": "2021-08-10T19:13:42.737970",
     "status": "completed"
    },
    "tags": []
   },
   "source": [
    "Let's start with a string lightning round to warm up. What are the lengths of the strings below?\n",
    "\n",
    "For each of the five strings below, predict what `len()` would return when passed that string. Use the variable `length` to record your answer, then run the cell to check whether you were right.  \n",
    "\n",
    "# 0a."
   ]
  },
  {
   "cell_type": "code",
   "execution_count": 2,
   "id": "f6ee7717",
   "metadata": {
    "execution": {
     "iopub.execute_input": "2021-08-10T19:13:42.780036Z",
     "iopub.status.busy": "2021-08-10T19:13:42.779465Z",
     "iopub.status.idle": "2021-08-10T19:13:42.784996Z",
     "shell.execute_reply": "2021-08-10T19:13:42.784459Z",
     "shell.execute_reply.started": "2021-08-10T18:26:31.187545Z"
    },
    "papermill": {
     "duration": 0.023275,
     "end_time": "2021-08-10T19:13:42.785114",
     "exception": false,
     "start_time": "2021-08-10T19:13:42.761839",
     "status": "completed"
    },
    "tags": []
   },
   "outputs": [
    {
     "data": {
      "application/javascript": [
       "parent.postMessage({\"jupyterEvent\": \"custom.exercise_interaction\", \"data\": {\"outcomeType\": 1, \"valueTowardsCompletion\": 0.3333333333333333, \"interactionType\": 1, \"questionType\": 1, \"questionId\": \"0.1_ZA\", \"learnToolsVersion\": \"0.3.4\", \"failureMessage\": \"\", \"exceptionClass\": \"\", \"trace\": \"\"}}, \"*\")"
      ],
      "text/plain": [
       "<IPython.core.display.Javascript object>"
      ]
     },
     "metadata": {},
     "output_type": "display_data"
    },
    {
     "data": {
      "text/markdown": [
       "<span style=\"color:#33cc33\">Correct:</span> \n",
       "\n",
       "The empty string has length zero. Note that the empty string is also the only string that Python considers as False when converting to boolean."
      ],
      "text/plain": [
       "Correct: \n",
       "\n",
       "The empty string has length zero. Note that the empty string is also the only string that Python considers as False when converting to boolean."
      ]
     },
     "metadata": {},
     "output_type": "display_data"
    }
   ],
   "source": [
    "a = \"\"\n",
    "length = 0\n",
    "q0.a.check()"
   ]
  },
  {
   "cell_type": "markdown",
   "id": "a2186610",
   "metadata": {
    "papermill": {
     "duration": 0.012598,
     "end_time": "2021-08-10T19:13:42.810702",
     "exception": false,
     "start_time": "2021-08-10T19:13:42.798104",
     "status": "completed"
    },
    "tags": []
   },
   "source": [
    "# 0b."
   ]
  },
  {
   "cell_type": "code",
   "execution_count": 3,
   "id": "fcf60bd8",
   "metadata": {
    "execution": {
     "iopub.execute_input": "2021-08-10T19:13:42.840762Z",
     "iopub.status.busy": "2021-08-10T19:13:42.840190Z",
     "iopub.status.idle": "2021-08-10T19:13:42.845033Z",
     "shell.execute_reply": "2021-08-10T19:13:42.844435Z",
     "shell.execute_reply.started": "2021-08-10T18:26:47.075240Z"
    },
    "papermill": {
     "duration": 0.021741,
     "end_time": "2021-08-10T19:13:42.845155",
     "exception": false,
     "start_time": "2021-08-10T19:13:42.823414",
     "status": "completed"
    },
    "tags": []
   },
   "outputs": [
    {
     "data": {
      "application/javascript": [
       "parent.postMessage({\"jupyterEvent\": \"custom.exercise_interaction\", \"data\": {\"outcomeType\": 1, \"valueTowardsCompletion\": 0.3333333333333333, \"interactionType\": 1, \"questionType\": 1, \"questionId\": \"0.2_ZB\", \"learnToolsVersion\": \"0.3.4\", \"failureMessage\": \"\", \"exceptionClass\": \"\", \"trace\": \"\"}}, \"*\")"
      ],
      "text/plain": [
       "<IPython.core.display.Javascript object>"
      ]
     },
     "metadata": {},
     "output_type": "display_data"
    },
    {
     "data": {
      "text/markdown": [
       "<span style=\"color:#33cc33\">Correct:</span> \n",
       "\n",
       "Keep in mind Python includes spaces (and punctuation) when counting string length."
      ],
      "text/plain": [
       "Correct: \n",
       "\n",
       "Keep in mind Python includes spaces (and punctuation) when counting string length."
      ]
     },
     "metadata": {},
     "output_type": "display_data"
    }
   ],
   "source": [
    "b = \"it's ok\"\n",
    "length = 7\n",
    "q0.b.check()"
   ]
  },
  {
   "cell_type": "markdown",
   "id": "0bdc555a",
   "metadata": {
    "papermill": {
     "duration": 0.013221,
     "end_time": "2021-08-10T19:13:42.871983",
     "exception": false,
     "start_time": "2021-08-10T19:13:42.858762",
     "status": "completed"
    },
    "tags": []
   },
   "source": [
    "# 0c."
   ]
  },
  {
   "cell_type": "code",
   "execution_count": 4,
   "id": "d1792200",
   "metadata": {
    "execution": {
     "iopub.execute_input": "2021-08-10T19:13:42.903771Z",
     "iopub.status.busy": "2021-08-10T19:13:42.903202Z",
     "iopub.status.idle": "2021-08-10T19:13:42.908768Z",
     "shell.execute_reply": "2021-08-10T19:13:42.908300Z",
     "shell.execute_reply.started": "2021-08-10T18:27:29.578910Z"
    },
    "papermill": {
     "duration": 0.023285,
     "end_time": "2021-08-10T19:13:42.908891",
     "exception": false,
     "start_time": "2021-08-10T19:13:42.885606",
     "status": "completed"
    },
    "tags": []
   },
   "outputs": [
    {
     "data": {
      "application/javascript": [
       "parent.postMessage({\"jupyterEvent\": \"custom.exercise_interaction\", \"data\": {\"outcomeType\": 1, \"valueTowardsCompletion\": 0.3333333333333333, \"interactionType\": 1, \"questionType\": 1, \"questionId\": \"0.3_ZC\", \"learnToolsVersion\": \"0.3.4\", \"failureMessage\": \"\", \"exceptionClass\": \"\", \"trace\": \"\"}}, \"*\")"
      ],
      "text/plain": [
       "<IPython.core.display.Javascript object>"
      ]
     },
     "metadata": {},
     "output_type": "display_data"
    },
    {
     "data": {
      "text/markdown": [
       "<span style=\"color:#33cc33\">Correct:</span> \n",
       "\n",
       "Even though we use different syntax to create it, the string `c` is identical to `b`. In particular, note that the backslash is not part of the string, so it doesn't contribute to its length."
      ],
      "text/plain": [
       "Correct: \n",
       "\n",
       "Even though we use different syntax to create it, the string `c` is identical to `b`. In particular, note that the backslash is not part of the string, so it doesn't contribute to its length."
      ]
     },
     "metadata": {},
     "output_type": "display_data"
    }
   ],
   "source": [
    "c = 'it\\'s ok'\n",
    "length = 7\n",
    "q0.c.check()"
   ]
  },
  {
   "cell_type": "markdown",
   "id": "db625ad3",
   "metadata": {
    "papermill": {
     "duration": 0.014297,
     "end_time": "2021-08-10T19:13:42.937900",
     "exception": false,
     "start_time": "2021-08-10T19:13:42.923603",
     "status": "completed"
    },
    "tags": []
   },
   "source": [
    "# 0d."
   ]
  },
  {
   "cell_type": "code",
   "execution_count": 5,
   "id": "df684c9b",
   "metadata": {
    "execution": {
     "iopub.execute_input": "2021-08-10T19:13:42.973099Z",
     "iopub.status.busy": "2021-08-10T19:13:42.972235Z",
     "iopub.status.idle": "2021-08-10T19:13:42.978004Z",
     "shell.execute_reply": "2021-08-10T19:13:42.977450Z",
     "shell.execute_reply.started": "2021-08-10T18:27:36.972772Z"
    },
    "papermill": {
     "duration": 0.025698,
     "end_time": "2021-08-10T19:13:42.978123",
     "exception": false,
     "start_time": "2021-08-10T19:13:42.952425",
     "status": "completed"
    },
    "tags": []
   },
   "outputs": [
    {
     "data": {
      "application/javascript": [
       "parent.postMessage({\"jupyterEvent\": \"custom.exercise_interaction\", \"data\": {\"outcomeType\": 1, \"valueTowardsCompletion\": 0.3333333333333333, \"interactionType\": 1, \"questionType\": 1, \"questionId\": \"0.4_ZD\", \"learnToolsVersion\": \"0.3.4\", \"failureMessage\": \"\", \"exceptionClass\": \"\", \"trace\": \"\"}}, \"*\")"
      ],
      "text/plain": [
       "<IPython.core.display.Javascript object>"
      ]
     },
     "metadata": {},
     "output_type": "display_data"
    },
    {
     "data": {
      "text/markdown": [
       "<span style=\"color:#33cc33\">Correct:</span> \n",
       "\n",
       "The fact that this string was created using triple-quote syntax doesn't make any difference in terms of its content or length. This string is exactly the same as `'hey'`."
      ],
      "text/plain": [
       "Correct: \n",
       "\n",
       "The fact that this string was created using triple-quote syntax doesn't make any difference in terms of its content or length. This string is exactly the same as `'hey'`."
      ]
     },
     "metadata": {},
     "output_type": "display_data"
    }
   ],
   "source": [
    "d = \"\"\"hey\"\"\"\n",
    "length = 3\n",
    "q0.d.check()"
   ]
  },
  {
   "cell_type": "markdown",
   "id": "0fb8e7f6",
   "metadata": {
    "papermill": {
     "duration": 0.01473,
     "end_time": "2021-08-10T19:13:43.008166",
     "exception": false,
     "start_time": "2021-08-10T19:13:42.993436",
     "status": "completed"
    },
    "tags": []
   },
   "source": [
    "# 0e."
   ]
  },
  {
   "cell_type": "code",
   "execution_count": 6,
   "id": "a46a4b92",
   "metadata": {
    "execution": {
     "iopub.execute_input": "2021-08-10T19:13:43.044102Z",
     "iopub.status.busy": "2021-08-10T19:13:43.043470Z",
     "iopub.status.idle": "2021-08-10T19:13:43.048318Z",
     "shell.execute_reply": "2021-08-10T19:13:43.047845Z",
     "shell.execute_reply.started": "2021-08-10T18:27:48.184184Z"
    },
    "papermill": {
     "duration": 0.025303,
     "end_time": "2021-08-10T19:13:43.048434",
     "exception": false,
     "start_time": "2021-08-10T19:13:43.023131",
     "status": "completed"
    },
    "tags": []
   },
   "outputs": [
    {
     "data": {
      "application/javascript": [
       "parent.postMessage({\"jupyterEvent\": \"custom.exercise_interaction\", \"data\": {\"outcomeType\": 1, \"valueTowardsCompletion\": 0.3333333333333333, \"interactionType\": 1, \"questionType\": 1, \"questionId\": \"0.5_ZE\", \"learnToolsVersion\": \"0.3.4\", \"failureMessage\": \"\", \"exceptionClass\": \"\", \"trace\": \"\"}}, \"*\")"
      ],
      "text/plain": [
       "<IPython.core.display.Javascript object>"
      ]
     },
     "metadata": {},
     "output_type": "display_data"
    },
    {
     "data": {
      "text/markdown": [
       "<span style=\"color:#33cc33\">Correct:</span> \n",
       "\n",
       "The newline character is just a single character! (Even though we represent it to Python using a combination of two characters.)"
      ],
      "text/plain": [
       "Correct: \n",
       "\n",
       "The newline character is just a single character! (Even though we represent it to Python using a combination of two characters.)"
      ]
     },
     "metadata": {},
     "output_type": "display_data"
    }
   ],
   "source": [
    "e = '\\n'\n",
    "length = 1\n",
    "q0.e.check()"
   ]
  },
  {
   "cell_type": "markdown",
   "id": "46a9384b",
   "metadata": {
    "papermill": {
     "duration": 0.015512,
     "end_time": "2021-08-10T19:13:43.079679",
     "exception": false,
     "start_time": "2021-08-10T19:13:43.064167",
     "status": "completed"
    },
    "tags": []
   },
   "source": [
    "# 1.\n",
    "\n",
    "There is a saying that \"Data scientists spend 80% of their time cleaning data, and 20% of their time complaining about cleaning data.\" Let's see if you can write a function to help clean US zip code data. Given a string, it should return whether or not that string represents a valid zip code. For our purposes, a valid zip code is any string consisting of exactly 5 digits.\n",
    "\n",
    "HINT: `str` has a method that will be useful here. Use `help(str)` to review a list of string methods."
   ]
  },
  {
   "cell_type": "code",
   "execution_count": 7,
   "id": "ecbed04f",
   "metadata": {
    "execution": {
     "iopub.execute_input": "2021-08-10T19:13:43.115823Z",
     "iopub.status.busy": "2021-08-10T19:13:43.115232Z",
     "iopub.status.idle": "2021-08-10T19:13:43.120035Z",
     "shell.execute_reply": "2021-08-10T19:13:43.119548Z",
     "shell.execute_reply.started": "2021-08-10T18:36:00.160479Z"
    },
    "papermill": {
     "duration": 0.024814,
     "end_time": "2021-08-10T19:13:43.120149",
     "exception": false,
     "start_time": "2021-08-10T19:13:43.095335",
     "status": "completed"
    },
    "tags": []
   },
   "outputs": [
    {
     "data": {
      "application/javascript": [
       "parent.postMessage({\"jupyterEvent\": \"custom.exercise_interaction\", \"data\": {\"outcomeType\": 1, \"valueTowardsCompletion\": 0.3333333333333333, \"interactionType\": 1, \"questionType\": 2, \"questionId\": \"1_ZipValidator\", \"learnToolsVersion\": \"0.3.4\", \"failureMessage\": \"\", \"exceptionClass\": \"\", \"trace\": \"\"}}, \"*\")"
      ],
      "text/plain": [
       "<IPython.core.display.Javascript object>"
      ]
     },
     "metadata": {},
     "output_type": "display_data"
    },
    {
     "data": {
      "text/markdown": [
       "<span style=\"color:#33cc33\">Correct</span>"
      ],
      "text/plain": [
       "Correct"
      ]
     },
     "metadata": {},
     "output_type": "display_data"
    }
   ],
   "source": [
    "def is_valid_zip(zip_code):\n",
    "    \"\"\"Returns whether the input string is a valid (5 digit) zip code\n",
    "    \"\"\"\n",
    "    \n",
    "    \n",
    "    if str.isdigit(zip_code) == True and len(zip_code) == 5:\n",
    "        return True\n",
    "    else:\n",
    "        return False\n",
    "\n",
    "# Check your answer\n",
    "q1.check()"
   ]
  },
  {
   "cell_type": "code",
   "execution_count": 8,
   "id": "84477794",
   "metadata": {
    "execution": {
     "iopub.execute_input": "2021-08-10T19:13:43.157297Z",
     "iopub.status.busy": "2021-08-10T19:13:43.156678Z",
     "iopub.status.idle": "2021-08-10T19:13:43.162309Z",
     "shell.execute_reply": "2021-08-10T19:13:43.161857Z",
     "shell.execute_reply.started": "2021-08-10T18:29:28.553413Z"
    },
    "papermill": {
     "duration": 0.02575,
     "end_time": "2021-08-10T19:13:43.162427",
     "exception": false,
     "start_time": "2021-08-10T19:13:43.136677",
     "status": "completed"
    },
    "tags": []
   },
   "outputs": [
    {
     "data": {
      "application/javascript": [
       "parent.postMessage({\"jupyterEvent\": \"custom.exercise_interaction\", \"data\": {\"interactionType\": 2, \"questionType\": 2, \"questionId\": \"1_ZipValidator\", \"learnToolsVersion\": \"0.3.4\", \"valueTowardsCompletion\": 0.0, \"failureMessage\": \"\", \"exceptionClass\": \"\", \"trace\": \"\", \"outcomeType\": 4}}, \"*\")"
      ],
      "text/plain": [
       "<IPython.core.display.Javascript object>"
      ]
     },
     "metadata": {},
     "output_type": "display_data"
    },
    {
     "data": {
      "text/markdown": [
       "<span style=\"color:#3366cc\">Hint:</span> Try looking up `help(str.isdigit)`"
      ],
      "text/plain": [
       "Hint: Try looking up `help(str.isdigit)`"
      ]
     },
     "metadata": {},
     "output_type": "display_data"
    }
   ],
   "source": [
    "q1.hint()\n",
    "#q1.solution()"
   ]
  },
  {
   "cell_type": "markdown",
   "id": "36dd8ae9",
   "metadata": {
    "papermill": {
     "duration": 0.016965,
     "end_time": "2021-08-10T19:13:43.196591",
     "exception": false,
     "start_time": "2021-08-10T19:13:43.179626",
     "status": "completed"
    },
    "tags": []
   },
   "source": [
    "# 2.\n",
    "\n",
    "A researcher has gathered thousands of news articles. But she wants to focus her attention on articles including a specific word. Complete the function below to help her filter her list of articles.\n",
    "\n",
    "Your function should meet the following criteria:\n",
    "\n",
    "- Do not include documents where the keyword string shows up only as a part of a larger word. For example, if she were looking for the keyword “closed”, you would not include the string “enclosed.” \n",
    "- She does not want you to distinguish upper case from lower case letters. So the phrase “Closed the case.” would be included when the keyword is “closed”\n",
    "- Do not let periods or commas affect what is matched. “It is closed.” would be included when the keyword is “closed”. But you can assume there are no other types of punctuation."
   ]
  },
  {
   "cell_type": "code",
   "execution_count": 9,
   "id": "095128e2",
   "metadata": {
    "execution": {
     "iopub.execute_input": "2021-08-10T19:13:43.238756Z",
     "iopub.status.busy": "2021-08-10T19:13:43.237838Z",
     "iopub.status.idle": "2021-08-10T19:13:43.243471Z",
     "shell.execute_reply": "2021-08-10T19:13:43.243043Z",
     "shell.execute_reply.started": "2021-08-10T19:12:48.582908Z"
    },
    "papermill": {
     "duration": 0.029527,
     "end_time": "2021-08-10T19:13:43.243594",
     "exception": false,
     "start_time": "2021-08-10T19:13:43.214067",
     "status": "completed"
    },
    "tags": []
   },
   "outputs": [
    {
     "data": {
      "application/javascript": [
       "parent.postMessage({\"jupyterEvent\": \"custom.exercise_interaction\", \"data\": {\"outcomeType\": 1, \"valueTowardsCompletion\": 0.3333333333333333, \"interactionType\": 1, \"questionType\": 2, \"questionId\": \"2_WordSearch\", \"learnToolsVersion\": \"0.3.4\", \"failureMessage\": \"\", \"exceptionClass\": \"\", \"trace\": \"\"}}, \"*\")"
      ],
      "text/plain": [
       "<IPython.core.display.Javascript object>"
      ]
     },
     "metadata": {},
     "output_type": "display_data"
    },
    {
     "data": {
      "text/markdown": [
       "<span style=\"color:#33cc33\">Correct</span>"
      ],
      "text/plain": [
       "Correct"
      ]
     },
     "metadata": {},
     "output_type": "display_data"
    }
   ],
   "source": [
    "def word_search(doc_list, keyword):\n",
    "    \"\"\"    \n",
    "    Takes a list of documents (each document is a string) and a keyword. \n",
    "    Returns list of the index values into the original list for all documents \n",
    "    containing the keyword.\n",
    "\n",
    "    Example:\n",
    "    doc_list = [\"The Learn Python Challenge Casino.\", \"They bought a car\", \"Casinoville\"]\n",
    "    >>> word_search(doc_list, 'casino')\n",
    "    >>> [0]\n",
    "    \"\"\"\n",
    "    \n",
    "    \n",
    "    # list to hold the indices of matching documents\n",
    "    indices = [] \n",
    "    # Iterate through the indices (i) and elements (doc) of documents\n",
    "    for i, doc in enumerate(doc_list):\n",
    "        # Split the string doc into a list of words (according to whitespace)\n",
    "        tokens = doc.split()\n",
    "        # Make a transformed list where we 'normalize' each word to facilitate matching.\n",
    "        # Periods and commas are removed from the end of each word, and it's set to all lowercase.\n",
    "        normalized = [token.rstrip('.,').lower() for token in tokens]\n",
    "        # Is there a match? If so, update the list of matching indices.\n",
    "        if keyword.lower() in normalized:\n",
    "            indices.append(i)\n",
    "    return indices\n",
    "    \n",
    "    \n",
    "#     counter = 0\n",
    "    \n",
    "#     wordindex = []\n",
    "    \n",
    "    \n",
    "    \n",
    "    \n",
    "    \n",
    "#     for doc in doc_list:\n",
    "#         for word in str.split(doc):\n",
    "#             wordt = str.lower(word.strip('.,?'))\n",
    "#             if wordt == keyword:\n",
    "#                 print(wordt,keyword)\n",
    "#                 wordindex.append(counter)\n",
    "                \n",
    "                \n",
    "        \n",
    "        \n",
    "#     print(wordindex)\n",
    "        \n",
    "#         for word in str.split(doc):\n",
    "#             word = word.strip(',')\n",
    "#             print(word)\n",
    "#             if str.lower(word) == str.lower(keyword):\n",
    "#                 wordindex.append(counter)\n",
    "#         counter += 1\n",
    "    \n",
    "    \n",
    "#     return wordindex\n",
    "    \n",
    "    \n",
    "    \n",
    "    \n",
    "# Check your answer\n",
    "q2.check()"
   ]
  },
  {
   "cell_type": "code",
   "execution_count": 10,
   "id": "b4367752",
   "metadata": {
    "execution": {
     "iopub.execute_input": "2021-08-10T19:13:43.284272Z",
     "iopub.status.busy": "2021-08-10T19:13:43.283751Z",
     "iopub.status.idle": "2021-08-10T19:13:43.288059Z",
     "shell.execute_reply": "2021-08-10T19:13:43.287503Z",
     "shell.execute_reply.started": "2021-08-10T19:12:54.432848Z"
    },
    "papermill": {
     "duration": 0.025729,
     "end_time": "2021-08-10T19:13:43.288172",
     "exception": false,
     "start_time": "2021-08-10T19:13:43.262443",
     "status": "completed"
    },
    "tags": []
   },
   "outputs": [
    {
     "data": {
      "application/javascript": [
       "parent.postMessage({\"jupyterEvent\": \"custom.exercise_interaction\", \"data\": {\"interactionType\": 2, \"questionType\": 2, \"questionId\": \"2_WordSearch\", \"learnToolsVersion\": \"0.3.4\", \"valueTowardsCompletion\": 0.0, \"failureMessage\": \"\", \"exceptionClass\": \"\", \"trace\": \"\", \"outcomeType\": 4}}, \"*\")"
      ],
      "text/plain": [
       "<IPython.core.display.Javascript object>"
      ]
     },
     "metadata": {},
     "output_type": "display_data"
    },
    {
     "data": {
      "text/markdown": [
       "<span style=\"color:#3366cc\">Hint:</span> Some methods that may be useful here: `str.split()`, `str.strip()`, `str.lower()`."
      ],
      "text/plain": [
       "Hint: Some methods that may be useful here: `str.split()`, `str.strip()`, `str.lower()`."
      ]
     },
     "metadata": {},
     "output_type": "display_data"
    }
   ],
   "source": [
    "q2.hint()\n",
    "# q2.solution()"
   ]
  },
  {
   "cell_type": "markdown",
   "id": "467022d4",
   "metadata": {
    "papermill": {
     "duration": 0.018463,
     "end_time": "2021-08-10T19:13:43.325347",
     "exception": false,
     "start_time": "2021-08-10T19:13:43.306884",
     "status": "completed"
    },
    "tags": []
   },
   "source": [
    "# 3.\n",
    "\n",
    "Now the researcher wants to supply multiple keywords to search for. Complete the function below to help her.\n",
    "\n",
    "(You're encouraged to use the `word_search` function you just wrote when implementing this function. Reusing code in this way makes your programs more robust and readable - and it saves typing!)"
   ]
  },
  {
   "cell_type": "code",
   "execution_count": 11,
   "id": "266cfb9e",
   "metadata": {
    "execution": {
     "iopub.execute_input": "2021-08-10T19:13:43.367716Z",
     "iopub.status.busy": "2021-08-10T19:13:43.367161Z",
     "iopub.status.idle": "2021-08-10T19:13:43.371091Z",
     "shell.execute_reply": "2021-08-10T19:13:43.371570Z",
     "shell.execute_reply.started": "2021-08-10T19:13:09.652472Z"
    },
    "papermill": {
     "duration": 0.027677,
     "end_time": "2021-08-10T19:13:43.371731",
     "exception": false,
     "start_time": "2021-08-10T19:13:43.344054",
     "status": "completed"
    },
    "tags": []
   },
   "outputs": [
    {
     "data": {
      "application/javascript": [
       "parent.postMessage({\"jupyterEvent\": \"custom.exercise_interaction\", \"data\": {\"outcomeType\": 1, \"valueTowardsCompletion\": 0.3333333333333333, \"interactionType\": 1, \"questionType\": 2, \"questionId\": \"3_MultiWordSearch\", \"learnToolsVersion\": \"0.3.4\", \"failureMessage\": \"\", \"exceptionClass\": \"\", \"trace\": \"\"}}, \"*\")"
      ],
      "text/plain": [
       "<IPython.core.display.Javascript object>"
      ]
     },
     "metadata": {},
     "output_type": "display_data"
    },
    {
     "data": {
      "text/markdown": [
       "<span style=\"color:#33cc33\">Correct</span>"
      ],
      "text/plain": [
       "Correct"
      ]
     },
     "metadata": {},
     "output_type": "display_data"
    }
   ],
   "source": [
    "def multi_word_search(doc_list, keywords):\n",
    "    \"\"\"\n",
    "    Takes list of documents (each document is a string) and a list of keywords.  \n",
    "    Returns a dictionary where each key is a keyword, and the value is a list of indices\n",
    "    (from doc_list) of the documents containing that keyword\n",
    "\n",
    "    >>> doc_list = [\"The Learn Python Challenge Casino.\", \"They bought a car and a casino\", \"Casinoville\"]\n",
    "    >>> keywords = ['casino', 'they']\n",
    "    >>> multi_word_search(doc_list, keywords)\n",
    "    {'casino': [0, 1], 'they': [1]}\n",
    "    \"\"\"\n",
    "    \n",
    "    keyword_to_indices = {}\n",
    "    for keyword in keywords:\n",
    "        keyword_to_indices[keyword] = word_search(doc_list, keyword)\n",
    "    return keyword_to_indices\n",
    "    \n",
    "    \n",
    "    \n",
    "\n",
    "# Check your answer\n",
    "q3.check()"
   ]
  },
  {
   "cell_type": "code",
   "execution_count": 12,
   "id": "05201533",
   "metadata": {
    "execution": {
     "iopub.execute_input": "2021-08-10T19:13:43.413277Z",
     "iopub.status.busy": "2021-08-10T19:13:43.412747Z",
     "iopub.status.idle": "2021-08-10T19:13:43.416718Z",
     "shell.execute_reply": "2021-08-10T19:13:43.416262Z",
     "shell.execute_reply.started": "2021-08-10T19:10:51.085329Z"
    },
    "papermill": {
     "duration": 0.02553,
     "end_time": "2021-08-10T19:13:43.416835",
     "exception": false,
     "start_time": "2021-08-10T19:13:43.391305",
     "status": "completed"
    },
    "tags": []
   },
   "outputs": [],
   "source": [
    "# q3.solution()"
   ]
  },
  {
   "cell_type": "markdown",
   "id": "407399ff",
   "metadata": {
    "papermill": {
     "duration": 0.019181,
     "end_time": "2021-08-10T19:13:43.455523",
     "exception": false,
     "start_time": "2021-08-10T19:13:43.436342",
     "status": "completed"
    },
    "tags": []
   },
   "source": [
    "# Keep Going\n",
    "\n",
    "You've learned a lot. But even the best programmers rely heavily on \"libraries\" of code from other programmers. You'll learn about that in **[the last lesson](https://www.kaggle.com/colinmorris/working-with-external-libraries)**.\n"
   ]
  },
  {
   "cell_type": "markdown",
   "id": "f704ee85",
   "metadata": {
    "papermill": {
     "duration": 0.019134,
     "end_time": "2021-08-10T19:13:43.493968",
     "exception": false,
     "start_time": "2021-08-10T19:13:43.474834",
     "status": "completed"
    },
    "tags": []
   },
   "source": [
    "---\n",
    "\n",
    "\n",
    "\n",
    "\n",
    "*Have questions or comments? Visit the [Learn Discussion forum](https://www.kaggle.com/learn-forum/161283) to chat with other Learners.*"
   ]
  }
 ],
 "metadata": {
  "kernelspec": {
   "display_name": "Python 3",
   "language": "python",
   "name": "python3"
  },
  "language_info": {
   "codemirror_mode": {
    "name": "ipython",
    "version": 3
   },
   "file_extension": ".py",
   "mimetype": "text/x-python",
   "name": "python",
   "nbconvert_exporter": "python",
   "pygments_lexer": "ipython3",
   "version": "3.7.10"
  },
  "papermill": {
   "default_parameters": {},
   "duration": 8.699275,
   "end_time": "2021-08-10T19:13:44.709302",
   "environment_variables": {},
   "exception": null,
   "input_path": "__notebook__.ipynb",
   "output_path": "__notebook__.ipynb",
   "parameters": {},
   "start_time": "2021-08-10T19:13:36.010027",
   "version": "2.3.3"
  }
 },
 "nbformat": 4,
 "nbformat_minor": 5
}

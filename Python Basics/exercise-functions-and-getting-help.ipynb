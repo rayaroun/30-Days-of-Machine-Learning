{
 "cells": [
  {
   "cell_type": "markdown",
   "id": "d41cb125",
   "metadata": {
    "papermill": {
     "duration": 0.014981,
     "end_time": "2021-08-09T21:26:09.984139",
     "exception": false,
     "start_time": "2021-08-09T21:26:09.969158",
     "status": "completed"
    },
    "tags": []
   },
   "source": [
    "**This notebook is an exercise in the [Python](https://www.kaggle.com/learn/python) course.  You can reference the tutorial at [this link](https://www.kaggle.com/colinmorris/functions-and-getting-help).**\n",
    "\n",
    "---\n"
   ]
  },
  {
   "cell_type": "markdown",
   "id": "9bcbbdd0",
   "metadata": {
    "papermill": {
     "duration": 0.013775,
     "end_time": "2021-08-09T21:26:10.012524",
     "exception": false,
     "start_time": "2021-08-09T21:26:09.998749",
     "status": "completed"
    },
    "tags": []
   },
   "source": [
    "Functions are powerful. Try writing some yourself.\n",
    "\n",
    "As before, don't forget to run the setup code below before jumping into question 1."
   ]
  },
  {
   "cell_type": "code",
   "execution_count": 1,
   "id": "a3755c37",
   "metadata": {
    "_kg_hide-input": true,
    "_kg_hide-output": true,
    "execution": {
     "iopub.execute_input": "2021-08-09T21:26:10.045761Z",
     "iopub.status.busy": "2021-08-09T21:26:10.044537Z",
     "iopub.status.idle": "2021-08-09T21:26:10.186715Z",
     "shell.execute_reply": "2021-08-09T21:26:10.185528Z",
     "shell.execute_reply.started": "2021-08-09T21:13:48.161159Z"
    },
    "papermill": {
     "duration": 0.159836,
     "end_time": "2021-08-09T21:26:10.186949",
     "exception": false,
     "start_time": "2021-08-09T21:26:10.027113",
     "status": "completed"
    },
    "tags": []
   },
   "outputs": [
    {
     "name": "stdout",
     "output_type": "stream",
     "text": [
      "Setup complete.\n"
     ]
    }
   ],
   "source": [
    "# SETUP. You don't need to worry for now about what this code does or how it works.\n",
    "from learntools.core import binder; binder.bind(globals())\n",
    "from learntools.python.ex2 import *\n",
    "print('Setup complete.')"
   ]
  },
  {
   "cell_type": "markdown",
   "id": "ee184b37",
   "metadata": {
    "papermill": {
     "duration": 0.014085,
     "end_time": "2021-08-09T21:26:10.216323",
     "exception": false,
     "start_time": "2021-08-09T21:26:10.202238",
     "status": "completed"
    },
    "tags": []
   },
   "source": [
    "# 1.\n",
    "\n",
    "Complete the body of the following function according to its docstring.\n",
    "\n",
    "HINT: Python has a built-in function `round`."
   ]
  },
  {
   "cell_type": "code",
   "execution_count": 2,
   "id": "faffecd3",
   "metadata": {
    "execution": {
     "iopub.execute_input": "2021-08-09T21:26:10.253516Z",
     "iopub.status.busy": "2021-08-09T21:26:10.252778Z",
     "iopub.status.idle": "2021-08-09T21:26:10.257171Z",
     "shell.execute_reply": "2021-08-09T21:26:10.257663Z",
     "shell.execute_reply.started": "2021-08-09T21:14:20.727826Z"
    },
    "papermill": {
     "duration": 0.02726,
     "end_time": "2021-08-09T21:26:10.257830",
     "exception": false,
     "start_time": "2021-08-09T21:26:10.230570",
     "status": "completed"
    },
    "tags": []
   },
   "outputs": [
    {
     "data": {
      "application/javascript": [
       "parent.postMessage({\"jupyterEvent\": \"custom.exercise_interaction\", \"data\": {\"outcomeType\": 1, \"valueTowardsCompletion\": 0.16666666666666666, \"interactionType\": 1, \"questionType\": 2, \"questionId\": \"1_RoundFunctionProblem\", \"learnToolsVersion\": \"0.3.4\", \"failureMessage\": \"\", \"exceptionClass\": \"\", \"trace\": \"\"}}, \"*\")"
      ],
      "text/plain": [
       "<IPython.core.display.Javascript object>"
      ]
     },
     "metadata": {},
     "output_type": "display_data"
    },
    {
     "data": {
      "text/markdown": [
       "<span style=\"color:#33cc33\">Correct</span>"
      ],
      "text/plain": [
       "Correct"
      ]
     },
     "metadata": {},
     "output_type": "display_data"
    }
   ],
   "source": [
    "def round_to_two_places(num):\n",
    "    \n",
    "    return round(num,2)\n",
    "    \n",
    "    \"\"\"Return the given number rounded to two decimal places. \n",
    "    \n",
    "    >>> round_to_two_places(3.14159)\n",
    "    3.14\n",
    "    \"\"\"\n",
    "    # Replace this body with your own code.\n",
    "    # (\"pass\" is a keyword that does literally nothing. We used it as a placeholder\n",
    "    # because after we begin a code block, Python requires at least one line of code)\n",
    "    pass\n",
    "\n",
    "# Check your answer\n",
    "q1.check()"
   ]
  },
  {
   "cell_type": "code",
   "execution_count": 3,
   "id": "5c587697",
   "metadata": {
    "execution": {
     "iopub.execute_input": "2021-08-09T21:26:10.291424Z",
     "iopub.status.busy": "2021-08-09T21:26:10.290796Z",
     "iopub.status.idle": "2021-08-09T21:26:10.299882Z",
     "shell.execute_reply": "2021-08-09T21:26:10.300426Z",
     "shell.execute_reply.started": "2021-08-09T21:14:32.228721Z"
    },
    "papermill": {
     "duration": 0.027503,
     "end_time": "2021-08-09T21:26:10.300597",
     "exception": false,
     "start_time": "2021-08-09T21:26:10.273094",
     "status": "completed"
    },
    "tags": []
   },
   "outputs": [
    {
     "data": {
      "application/javascript": [
       "parent.postMessage({\"jupyterEvent\": \"custom.exercise_interaction\", \"data\": {\"interactionType\": 2, \"questionType\": 2, \"questionId\": \"1_RoundFunctionProblem\", \"learnToolsVersion\": \"0.3.4\", \"valueTowardsCompletion\": 0.0, \"failureMessage\": \"\", \"exceptionClass\": \"\", \"trace\": \"\", \"outcomeType\": 4}}, \"*\")"
      ],
      "text/plain": [
       "<IPython.core.display.Javascript object>"
      ]
     },
     "metadata": {},
     "output_type": "display_data"
    },
    {
     "data": {
      "text/markdown": [
       "<span style=\"color:#3366cc\">Hint:</span> Run `help(round)` in the console (or in a code cell) to learn more about the round function. You'll need to use the function's optional second argument."
      ],
      "text/plain": [
       "Hint: Run `help(round)` in the console (or in a code cell) to learn more about the round function. You'll need to use the function's optional second argument."
      ]
     },
     "metadata": {},
     "output_type": "display_data"
    },
    {
     "data": {
      "application/javascript": [
       "parent.postMessage({\"jupyterEvent\": \"custom.exercise_interaction\", \"data\": {\"interactionType\": 3, \"questionType\": 2, \"questionId\": \"1_RoundFunctionProblem\", \"learnToolsVersion\": \"0.3.4\", \"valueTowardsCompletion\": 0.0, \"failureMessage\": \"\", \"exceptionClass\": \"\", \"trace\": \"\", \"outcomeType\": 4}}, \"*\")"
      ],
      "text/plain": [
       "<IPython.core.display.Javascript object>"
      ]
     },
     "metadata": {},
     "output_type": "display_data"
    },
    {
     "data": {
      "text/markdown": [
       "<span style=\"color:#33cc99\">Solution:</span> \n",
       "```python\n",
       "return round(num, 2)\n",
       "```"
      ],
      "text/plain": [
       "Solution: \n",
       "```python\n",
       "return round(num, 2)\n",
       "```"
      ]
     },
     "metadata": {},
     "output_type": "display_data"
    }
   ],
   "source": [
    "# Uncomment the following for a hint\n",
    "q1.hint()\n",
    "# Or uncomment the following to peek at the solution\n",
    "q1.solution()"
   ]
  },
  {
   "cell_type": "markdown",
   "id": "ccb75913",
   "metadata": {
    "papermill": {
     "duration": 0.016814,
     "end_time": "2021-08-09T21:26:10.334673",
     "exception": false,
     "start_time": "2021-08-09T21:26:10.317859",
     "status": "completed"
    },
    "tags": []
   },
   "source": [
    "# 2.\n",
    "The help for `round` says that `ndigits` (the second argument) may be negative.\n",
    "What do you think will happen when it is? Try some examples in the following cell."
   ]
  },
  {
   "cell_type": "code",
   "execution_count": 4,
   "id": "93b08b29",
   "metadata": {
    "execution": {
     "iopub.execute_input": "2021-08-09T21:26:10.371998Z",
     "iopub.status.busy": "2021-08-09T21:26:10.371400Z",
     "iopub.status.idle": "2021-08-09T21:26:10.377894Z",
     "shell.execute_reply": "2021-08-09T21:26:10.377204Z",
     "shell.execute_reply.started": "2021-08-09T21:16:21.913885Z"
    },
    "papermill": {
     "duration": 0.026348,
     "end_time": "2021-08-09T21:26:10.378034",
     "exception": false,
     "start_time": "2021-08-09T21:26:10.351686",
     "status": "completed"
    },
    "tags": []
   },
   "outputs": [
    {
     "name": "stdout",
     "output_type": "stream",
     "text": [
      "0.0\n"
     ]
    }
   ],
   "source": [
    "# Put your test code here\n",
    "\n",
    "\n",
    "a = 3.1234\n",
    "\n",
    "print(round(a,-1))\n"
   ]
  },
  {
   "cell_type": "markdown",
   "id": "e8dca3b4",
   "metadata": {
    "papermill": {
     "duration": 0.017446,
     "end_time": "2021-08-09T21:26:10.413224",
     "exception": false,
     "start_time": "2021-08-09T21:26:10.395778",
     "status": "completed"
    },
    "tags": []
   },
   "source": [
    "Can you think of a case where this would be useful?  Once you're ready, run the code cell below to see the answer and to receive credit for completing the problem."
   ]
  },
  {
   "cell_type": "code",
   "execution_count": 5,
   "id": "31d37f05",
   "metadata": {
    "execution": {
     "iopub.execute_input": "2021-08-09T21:26:10.453065Z",
     "iopub.status.busy": "2021-08-09T21:26:10.452424Z",
     "iopub.status.idle": "2021-08-09T21:26:10.457384Z",
     "shell.execute_reply": "2021-08-09T21:26:10.456873Z",
     "shell.execute_reply.started": "2021-08-09T21:16:26.146636Z"
    },
    "papermill": {
     "duration": 0.026902,
     "end_time": "2021-08-09T21:26:10.457529",
     "exception": false,
     "start_time": "2021-08-09T21:26:10.430627",
     "status": "completed"
    },
    "tags": []
   },
   "outputs": [
    {
     "data": {
      "application/javascript": [
       "parent.postMessage({\"jupyterEvent\": \"custom.exercise_interaction\", \"data\": {\"interactionType\": 3, \"questionType\": 4, \"questionId\": \"2_RoundNdigitsProblem\", \"learnToolsVersion\": \"0.3.4\", \"valueTowardsCompletion\": 0.0, \"failureMessage\": \"\", \"exceptionClass\": \"\", \"trace\": \"\", \"outcomeType\": 4}}, \"*\")"
      ],
      "text/plain": [
       "<IPython.core.display.Javascript object>"
      ]
     },
     "metadata": {},
     "output_type": "display_data"
    },
    {
     "data": {
      "text/markdown": [
       "<span style=\"color:#33cc99\">Solution:</span> As you've seen, `ndigits=-1` rounds to the nearest 10, `ndigits=-2` rounds to the nearest 100 and so on. Where might this be useful? Suppose we're dealing with large numbers:\n",
       "\n",
       "> The area of Finland is 338,424 km²  \n",
       "> The area of Greenland is 2,166,086 km²\n",
       "\n",
       "We probably don't care whether it's really 338,424, or 338,425, or 338,177. All those digits of accuracy are just distracting. We can chop them off by calling `round()` with `ndigits=-3`:\n",
       "\n",
       "> The area of Finland is 338,000 km²  \n",
       "> The area of Greenland is 2,166,000 km²\n",
       "\n",
       "(We'll talk about how we would get the commas later when we talk about string formatting :))\n"
      ],
      "text/plain": [
       "Solution: As you've seen, `ndigits=-1` rounds to the nearest 10, `ndigits=-2` rounds to the nearest 100 and so on. Where might this be useful? Suppose we're dealing with large numbers:\n",
       "\n",
       "> The area of Finland is 338,424 km²  \n",
       "> The area of Greenland is 2,166,086 km²\n",
       "\n",
       "We probably don't care whether it's really 338,424, or 338,425, or 338,177. All those digits of accuracy are just distracting. We can chop them off by calling `round()` with `ndigits=-3`:\n",
       "\n",
       "> The area of Finland is 338,000 km²  \n",
       "> The area of Greenland is 2,166,000 km²\n",
       "\n",
       "(We'll talk about how we would get the commas later when we talk about string formatting :))"
      ]
     },
     "metadata": {},
     "output_type": "display_data"
    }
   ],
   "source": [
    "# Check your answer (Run this code cell to receive credit!)\n",
    "q2.solution()"
   ]
  },
  {
   "cell_type": "markdown",
   "id": "c6e77411",
   "metadata": {
    "papermill": {
     "duration": 0.018307,
     "end_time": "2021-08-09T21:26:10.494665",
     "exception": false,
     "start_time": "2021-08-09T21:26:10.476358",
     "status": "completed"
    },
    "tags": []
   },
   "source": [
    "# 3.\n",
    "\n",
    "In the previous exercise, the candy-sharing friends Alice, Bob and Carol tried to split candies evenly. For the sake of their friendship, any candies left over would be smashed. For example, if they collectively bring home 91 candies, they'll take 30 each and smash 1.\n",
    "\n",
    "Below is a simple function that will calculate the number of candies to smash for *any* number of total candies.\n",
    "\n",
    "Modify it so that it optionally takes a second argument representing the number of friends the candies are being split between. If no second argument is provided, it should assume 3 friends, as before.\n",
    "\n",
    "Update the docstring to reflect this new behaviour."
   ]
  },
  {
   "cell_type": "code",
   "execution_count": 6,
   "id": "3c8d74b4",
   "metadata": {
    "execution": {
     "iopub.execute_input": "2021-08-09T21:26:10.538355Z",
     "iopub.status.busy": "2021-08-09T21:26:10.537695Z",
     "iopub.status.idle": "2021-08-09T21:26:10.542964Z",
     "shell.execute_reply": "2021-08-09T21:26:10.542452Z",
     "shell.execute_reply.started": "2021-08-09T21:23:26.898913Z"
    },
    "papermill": {
     "duration": 0.030022,
     "end_time": "2021-08-09T21:26:10.543097",
     "exception": false,
     "start_time": "2021-08-09T21:26:10.513075",
     "status": "completed"
    },
    "tags": []
   },
   "outputs": [
    {
     "data": {
      "application/javascript": [
       "parent.postMessage({\"jupyterEvent\": \"custom.exercise_interaction\", \"data\": {\"outcomeType\": 1, \"valueTowardsCompletion\": 0.16666666666666666, \"interactionType\": 1, \"questionType\": 2, \"questionId\": \"3_CandySmashingFunctionProblem\", \"learnToolsVersion\": \"0.3.4\", \"failureMessage\": \"\", \"exceptionClass\": \"\", \"trace\": \"\"}}, \"*\")"
      ],
      "text/plain": [
       "<IPython.core.display.Javascript object>"
      ]
     },
     "metadata": {},
     "output_type": "display_data"
    },
    {
     "data": {
      "text/markdown": [
       "<span style=\"color:#33cc33\">Correct</span>"
      ],
      "text/plain": [
       "Correct"
      ]
     },
     "metadata": {},
     "output_type": "display_data"
    }
   ],
   "source": [
    "def to_smash(total_candies,total_kids=3):\n",
    "    \"\"\"Return the number of leftover candies that must be smashed after distributing\n",
    "    the given number of candies evenly between 3 friends.\n",
    "    \n",
    "    >>> to_smash(91)\n",
    "    1\n",
    "    \"\"\"\n",
    "    \n",
    "    if total_kids != None:\n",
    "        return total_candies % int(total_kids)\n",
    "    else:\n",
    "        return total_candies % 3\n",
    "\n",
    "# Check your answer\n",
    "q3.check()"
   ]
  },
  {
   "cell_type": "code",
   "execution_count": 7,
   "id": "7e29079b",
   "metadata": {
    "execution": {
     "iopub.execute_input": "2021-08-09T21:26:10.588669Z",
     "iopub.status.busy": "2021-08-09T21:26:10.588037Z",
     "iopub.status.idle": "2021-08-09T21:26:10.593013Z",
     "shell.execute_reply": "2021-08-09T21:26:10.593531Z",
     "shell.execute_reply.started": "2021-08-09T21:22:55.768218Z"
    },
    "papermill": {
     "duration": 0.031,
     "end_time": "2021-08-09T21:26:10.593694",
     "exception": false,
     "start_time": "2021-08-09T21:26:10.562694",
     "status": "completed"
    },
    "tags": []
   },
   "outputs": [
    {
     "data": {
      "application/javascript": [
       "parent.postMessage({\"jupyterEvent\": \"custom.exercise_interaction\", \"data\": {\"interactionType\": 2, \"questionType\": 2, \"questionId\": \"3_CandySmashingFunctionProblem\", \"learnToolsVersion\": \"0.3.4\", \"valueTowardsCompletion\": 0.0, \"failureMessage\": \"\", \"exceptionClass\": \"\", \"trace\": \"\", \"outcomeType\": 4}}, \"*\")"
      ],
      "text/plain": [
       "<IPython.core.display.Javascript object>"
      ]
     },
     "metadata": {},
     "output_type": "display_data"
    },
    {
     "data": {
      "text/markdown": [
       "<span style=\"color:#3366cc\">Hint:</span> Refer to the section of the last tutorial notebook where we talked about default arguments"
      ],
      "text/plain": [
       "Hint: Refer to the section of the last tutorial notebook where we talked about default arguments"
      ]
     },
     "metadata": {},
     "output_type": "display_data"
    }
   ],
   "source": [
    "q3.hint()"
   ]
  },
  {
   "cell_type": "code",
   "execution_count": 8,
   "id": "8c244601",
   "metadata": {
    "execution": {
     "iopub.execute_input": "2021-08-09T21:26:10.637882Z",
     "iopub.status.busy": "2021-08-09T21:26:10.637280Z",
     "iopub.status.idle": "2021-08-09T21:26:10.643690Z",
     "shell.execute_reply": "2021-08-09T21:26:10.644176Z",
     "shell.execute_reply.started": "2021-08-09T21:23:08.156084Z"
    },
    "papermill": {
     "duration": 0.030155,
     "end_time": "2021-08-09T21:26:10.644371",
     "exception": false,
     "start_time": "2021-08-09T21:26:10.614216",
     "status": "completed"
    },
    "tags": []
   },
   "outputs": [
    {
     "data": {
      "application/javascript": [
       "parent.postMessage({\"jupyterEvent\": \"custom.exercise_interaction\", \"data\": {\"interactionType\": 3, \"questionType\": 2, \"questionId\": \"3_CandySmashingFunctionProblem\", \"learnToolsVersion\": \"0.3.4\", \"valueTowardsCompletion\": 0.0, \"failureMessage\": \"\", \"exceptionClass\": \"\", \"trace\": \"\", \"outcomeType\": 4}}, \"*\")"
      ],
      "text/plain": [
       "<IPython.core.display.Javascript object>"
      ]
     },
     "metadata": {},
     "output_type": "display_data"
    },
    {
     "data": {
      "text/markdown": [
       "<span style=\"color:#33cc99\">Solution:</span> \n",
       "```python\n",
       "def to_smash(total_candies, n_friends=3):\n",
       "    return total_candies % n_friends\n",
       "```"
      ],
      "text/plain": [
       "Solution: \n",
       "```python\n",
       "def to_smash(total_candies, n_friends=3):\n",
       "    return total_candies % n_friends\n",
       "```"
      ]
     },
     "metadata": {},
     "output_type": "display_data"
    }
   ],
   "source": [
    "q3.solution()"
   ]
  },
  {
   "cell_type": "markdown",
   "id": "4c2218d5",
   "metadata": {
    "papermill": {
     "duration": 0.021024,
     "end_time": "2021-08-09T21:26:10.686620",
     "exception": false,
     "start_time": "2021-08-09T21:26:10.665596",
     "status": "completed"
    },
    "tags": []
   },
   "source": [
    "# 4. (Optional)\n",
    "\n",
    "It may not be fun, but reading and understanding error messages will be an important part of your Python career.\n",
    "\n",
    "Each code cell below contains some commented buggy code. For each cell...\n",
    "\n",
    "1. Read the code and predict what you think will happen when it's run.\n",
    "2. Then uncomment the code and run it to see what happens. (**Tip**: In the kernel editor, you can highlight several lines and press `ctrl`+`/` to toggle commenting.)\n",
    "3. Fix the code (so that it accomplishes its intended purpose without throwing an exception)\n",
    "\n",
    "<!-- TODO: should this be autochecked? Delta is probably pretty small. -->"
   ]
  },
  {
   "cell_type": "code",
   "execution_count": 9,
   "id": "5b2c93ea",
   "metadata": {
    "execution": {
     "iopub.execute_input": "2021-08-09T21:26:10.732099Z",
     "iopub.status.busy": "2021-08-09T21:26:10.731498Z",
     "iopub.status.idle": "2021-08-09T21:26:10.814429Z",
     "shell.execute_reply": "2021-08-09T21:26:10.813355Z",
     "shell.execute_reply.started": "2021-08-09T21:25:13.939159Z"
    },
    "papermill": {
     "duration": 0.106877,
     "end_time": "2021-08-09T21:26:10.814818",
     "exception": true,
     "start_time": "2021-08-09T21:26:10.707941",
     "status": "failed"
    },
    "tags": []
   },
   "outputs": [
    {
     "ename": "NameError",
     "evalue": "name 'ruound_to_two_places' is not defined",
     "output_type": "error",
     "traceback": [
      "\u001b[0;31m---------------------------------------------------------------------------\u001b[0m",
      "\u001b[0;31mNameError\u001b[0m                                 Traceback (most recent call last)",
      "\u001b[0;32m<ipython-input-9-c6fedd2edf24>\u001b[0m in \u001b[0;36m<module>\u001b[0;34m\u001b[0m\n\u001b[0;32m----> 1\u001b[0;31m \u001b[0mruound_to_two_places\u001b[0m\u001b[0;34m(\u001b[0m\u001b[0;36m9.9999\u001b[0m\u001b[0;34m)\u001b[0m\u001b[0;34m\u001b[0m\u001b[0;34m\u001b[0m\u001b[0m\n\u001b[0m",
      "\u001b[0;31mNameError\u001b[0m: name 'ruound_to_two_places' is not defined"
     ]
    }
   ],
   "source": [
    "ruound_to_two_places(9.9999)"
   ]
  },
  {
   "cell_type": "code",
   "execution_count": null,
   "id": "356231bd",
   "metadata": {
    "execution": {
     "iopub.execute_input": "2021-08-09T21:25:28.835708Z",
     "iopub.status.busy": "2021-08-09T21:25:28.835190Z",
     "iopub.status.idle": "2021-08-09T21:25:28.853765Z",
     "shell.execute_reply": "2021-08-09T21:25:28.851943Z",
     "shell.execute_reply.started": "2021-08-09T21:25:28.835656Z"
    },
    "papermill": {
     "duration": null,
     "end_time": null,
     "exception": null,
     "start_time": null,
     "status": "pending"
    },
    "tags": []
   },
   "outputs": [],
   "source": [
    "# x = -10\n",
    "# y = 5\n",
    "# # Which of the two variables above has the smallest absolute value?\n",
    "smallest_abs = min(abs(x, y))"
   ]
  },
  {
   "cell_type": "code",
   "execution_count": null,
   "id": "4210e1f6",
   "metadata": {
    "papermill": {
     "duration": null,
     "end_time": null,
     "exception": null,
     "start_time": null,
     "status": "pending"
    },
    "tags": []
   },
   "outputs": [],
   "source": [
    "# def f(x):\n",
    "#     y = abs(x)\n",
    "# return y\n",
    "\n",
    "# print(f(5))"
   ]
  },
  {
   "cell_type": "markdown",
   "id": "e377e3ab",
   "metadata": {
    "papermill": {
     "duration": null,
     "end_time": null,
     "exception": null,
     "start_time": null,
     "status": "pending"
    },
    "tags": []
   },
   "source": [
    "# Keep Going\n",
    "\n",
    "Nice job with the code. Next up, you'll learn about *conditionals*, which you'll need to **[write interesting programs](https://www.kaggle.com/colinmorris/booleans-and-conditionals)**. "
   ]
  },
  {
   "cell_type": "markdown",
   "id": "afdaa106",
   "metadata": {
    "papermill": {
     "duration": null,
     "end_time": null,
     "exception": null,
     "start_time": null,
     "status": "pending"
    },
    "tags": []
   },
   "source": [
    "---\n",
    "\n",
    "\n",
    "\n",
    "\n",
    "*Have questions or comments? Visit the [Learn Discussion forum](https://www.kaggle.com/learn-forum/161283) to chat with other Learners.*"
   ]
  }
 ],
 "metadata": {
  "kernelspec": {
   "display_name": "Python 3",
   "language": "python",
   "name": "python3"
  },
  "language_info": {
   "codemirror_mode": {
    "name": "ipython",
    "version": 3
   },
   "file_extension": ".py",
   "mimetype": "text/x-python",
   "name": "python",
   "nbconvert_exporter": "python",
   "pygments_lexer": "ipython3",
   "version": "3.7.10"
  },
  "papermill": {
   "default_parameters": {},
   "duration": 9.636666,
   "end_time": "2021-08-09T21:26:11.452552",
   "environment_variables": {},
   "exception": true,
   "input_path": "__notebook__.ipynb",
   "output_path": "__notebook__.ipynb",
   "parameters": {},
   "start_time": "2021-08-09T21:26:01.815886",
   "version": "2.3.3"
  }
 },
 "nbformat": 4,
 "nbformat_minor": 5
}

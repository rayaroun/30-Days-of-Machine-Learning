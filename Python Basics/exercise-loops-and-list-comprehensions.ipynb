{
 "cells": [
  {
   "cell_type": "markdown",
   "id": "296d3219",
   "metadata": {
    "papermill": {
     "duration": 0.016954,
     "end_time": "2021-08-10T17:17:05.719665",
     "exception": false,
     "start_time": "2021-08-10T17:17:05.702711",
     "status": "completed"
    },
    "tags": []
   },
   "source": [
    "**This notebook is an exercise in the [Python](https://www.kaggle.com/learn/python) course.  You can reference the tutorial at [this link](https://www.kaggle.com/colinmorris/loops-and-list-comprehensions).**\n",
    "\n",
    "---\n"
   ]
  },
  {
   "cell_type": "markdown",
   "id": "8b7c37db",
   "metadata": {
    "papermill": {
     "duration": 0.015763,
     "end_time": "2021-08-10T17:17:05.752626",
     "exception": false,
     "start_time": "2021-08-10T17:17:05.736863",
     "status": "completed"
    },
    "tags": []
   },
   "source": [
    "With all you've learned, you can start writing much more interesting programs. See if you can solve the problems below.\n",
    "\n",
    "As always, run the setup code below before working on the questions."
   ]
  },
  {
   "cell_type": "code",
   "execution_count": 1,
   "id": "c9a8c434",
   "metadata": {
    "execution": {
     "iopub.execute_input": "2021-08-10T17:17:05.796145Z",
     "iopub.status.busy": "2021-08-10T17:17:05.795540Z",
     "iopub.status.idle": "2021-08-10T17:17:05.925717Z",
     "shell.execute_reply": "2021-08-10T17:17:05.926259Z",
     "shell.execute_reply.started": "2021-08-10T16:36:10.267472Z"
    },
    "papermill": {
     "duration": 0.157908,
     "end_time": "2021-08-10T17:17:05.926565",
     "exception": false,
     "start_time": "2021-08-10T17:17:05.768657",
     "status": "completed"
    },
    "tags": []
   },
   "outputs": [
    {
     "name": "stdout",
     "output_type": "stream",
     "text": [
      "Setup complete.\n"
     ]
    }
   ],
   "source": [
    "from learntools.core import binder; binder.bind(globals())\n",
    "from learntools.python.ex5 import *\n",
    "print('Setup complete.')"
   ]
  },
  {
   "cell_type": "markdown",
   "id": "98d38c86",
   "metadata": {
    "papermill": {
     "duration": 0.016451,
     "end_time": "2021-08-10T17:17:05.959586",
     "exception": false,
     "start_time": "2021-08-10T17:17:05.943135",
     "status": "completed"
    },
    "tags": []
   },
   "source": [
    "# 1.\n",
    "\n",
    "Have you ever felt debugging involved a bit of luck? The following program has a bug. Try to identify the bug and fix it."
   ]
  },
  {
   "cell_type": "code",
   "execution_count": 2,
   "id": "341a2a75",
   "metadata": {
    "execution": {
     "iopub.execute_input": "2021-08-10T17:17:05.998354Z",
     "iopub.status.busy": "2021-08-10T17:17:05.997621Z",
     "iopub.status.idle": "2021-08-10T17:17:06.000675Z",
     "shell.execute_reply": "2021-08-10T17:17:06.001138Z",
     "shell.execute_reply.started": "2021-08-10T16:40:16.988059Z"
    },
    "papermill": {
     "duration": 0.02546,
     "end_time": "2021-08-10T17:17:06.001332",
     "exception": false,
     "start_time": "2021-08-10T17:17:05.975872",
     "status": "completed"
    },
    "tags": []
   },
   "outputs": [],
   "source": [
    "def has_lucky_number(nums):\n",
    "    \"\"\"Return whether the given list of numbers is lucky. A lucky list contains\n",
    "    at least one number divisible by 7.\n",
    "    \"\"\"\n",
    "    for num in nums:\n",
    "        if num % 7 == 0:\n",
    "            return True\n",
    "        else:\n",
    "            return False"
   ]
  },
  {
   "cell_type": "markdown",
   "id": "6d7def1a",
   "metadata": {
    "papermill": {
     "duration": 0.016019,
     "end_time": "2021-08-10T17:17:06.033730",
     "exception": false,
     "start_time": "2021-08-10T17:17:06.017711",
     "status": "completed"
    },
    "tags": []
   },
   "source": [
    "Try to identify the bug and fix it in the cell below:"
   ]
  },
  {
   "cell_type": "code",
   "execution_count": 3,
   "id": "a797136e",
   "metadata": {
    "execution": {
     "iopub.execute_input": "2021-08-10T17:17:06.074829Z",
     "iopub.status.busy": "2021-08-10T17:17:06.074129Z",
     "iopub.status.idle": "2021-08-10T17:17:06.079819Z",
     "shell.execute_reply": "2021-08-10T17:17:06.079300Z",
     "shell.execute_reply.started": "2021-08-10T16:43:10.763756Z"
    },
    "papermill": {
     "duration": 0.029955,
     "end_time": "2021-08-10T17:17:06.079953",
     "exception": false,
     "start_time": "2021-08-10T17:17:06.049998",
     "status": "completed"
    },
    "tags": []
   },
   "outputs": [
    {
     "data": {
      "application/javascript": [
       "parent.postMessage({\"jupyterEvent\": \"custom.exercise_interaction\", \"data\": {\"outcomeType\": 1, \"valueTowardsCompletion\": 0.25, \"interactionType\": 1, \"questionType\": 2, \"questionId\": \"1_EarlyExitDebugging\", \"learnToolsVersion\": \"0.3.4\", \"failureMessage\": \"\", \"exceptionClass\": \"\", \"trace\": \"\"}}, \"*\")"
      ],
      "text/plain": [
       "<IPython.core.display.Javascript object>"
      ]
     },
     "metadata": {},
     "output_type": "display_data"
    },
    {
     "data": {
      "text/markdown": [
       "<span style=\"color:#33cc33\">Correct:</span> \n",
       "\n",
       "Remember that `return` causes a function to exit immediately. So our original implementation always ran for just one iteration. We can only return `False` if we've looked at every element of the list (and confirmed that none of them are lucky). Though we can return early if the answer is `True`:\n",
       "\n",
       "```python\n",
       "def has_lucky_number(nums):\n",
       "    for num in nums:\n",
       "        if num % 7 == 0:\n",
       "            return True\n",
       "    # We've exhausted the list without finding a lucky number\n",
       "    return False\n",
       "```\n",
       "\n",
       "Here's a one-line version using a list comprehension with Python's `any` function (you can read about what it does by calling `help(any)`):\n",
       "\n",
       "```python\n",
       "def has_lucky_number(nums):\n",
       "    return any([num % 7 == 0 for num in nums])\n",
       "```\n"
      ],
      "text/plain": [
       "Correct: \n",
       "\n",
       "Remember that `return` causes a function to exit immediately. So our original implementation always ran for just one iteration. We can only return `False` if we've looked at every element of the list (and confirmed that none of them are lucky). Though we can return early if the answer is `True`:\n",
       "\n",
       "```python\n",
       "def has_lucky_number(nums):\n",
       "    for num in nums:\n",
       "        if num % 7 == 0:\n",
       "            return True\n",
       "    # We've exhausted the list without finding a lucky number\n",
       "    return False\n",
       "```\n",
       "\n",
       "Here's a one-line version using a list comprehension with Python's `any` function (you can read about what it does by calling `help(any)`):\n",
       "\n",
       "```python\n",
       "def has_lucky_number(nums):\n",
       "    return any([num % 7 == 0 for num in nums])\n",
       "```"
      ]
     },
     "metadata": {},
     "output_type": "display_data"
    }
   ],
   "source": [
    "def has_lucky_number(nums):\n",
    "    \"\"\"Return whether the given list of numbers is lucky. A lucky list contains\n",
    "    at least one number divisible by 7.\n",
    "    \"\"\"\n",
    "    \n",
    "    if not nums:\n",
    "        return False\n",
    "    \n",
    "    for num in nums:\n",
    "        \n",
    "        if num % 7 == 0:\n",
    "            return True\n",
    "        \n",
    "    return False\n",
    "\n",
    "# Check your answer\n",
    "q1.check()"
   ]
  },
  {
   "cell_type": "code",
   "execution_count": 4,
   "id": "36fa7cd2",
   "metadata": {
    "execution": {
     "iopub.execute_input": "2021-08-10T17:17:06.119180Z",
     "iopub.status.busy": "2021-08-10T17:17:06.118499Z",
     "iopub.status.idle": "2021-08-10T17:17:06.122603Z",
     "shell.execute_reply": "2021-08-10T17:17:06.123099Z"
    },
    "papermill": {
     "duration": 0.025703,
     "end_time": "2021-08-10T17:17:06.123305",
     "exception": false,
     "start_time": "2021-08-10T17:17:06.097602",
     "status": "completed"
    },
    "tags": []
   },
   "outputs": [],
   "source": [
    "#q1.hint()\n",
    "#q1.solution()"
   ]
  },
  {
   "cell_type": "markdown",
   "id": "367b3f7b",
   "metadata": {
    "papermill": {
     "duration": 0.017305,
     "end_time": "2021-08-10T17:17:06.158563",
     "exception": false,
     "start_time": "2021-08-10T17:17:06.141258",
     "status": "completed"
    },
    "tags": []
   },
   "source": [
    "# 2.\n",
    "Look at the Python expression below. What do you think we'll get when we run it? When you've made your prediction, uncomment the code and run the cell to see if you were right."
   ]
  },
  {
   "cell_type": "code",
   "execution_count": 5,
   "id": "eaeed88b",
   "metadata": {
    "execution": {
     "iopub.execute_input": "2021-08-10T17:17:06.196936Z",
     "iopub.status.busy": "2021-08-10T17:17:06.196305Z",
     "iopub.status.idle": "2021-08-10T17:17:06.265070Z",
     "shell.execute_reply": "2021-08-10T17:17:06.263718Z",
     "shell.execute_reply.started": "2021-08-10T16:43:45.048306Z"
    },
    "papermill": {
     "duration": 0.089032,
     "end_time": "2021-08-10T17:17:06.265422",
     "exception": true,
     "start_time": "2021-08-10T17:17:06.176390",
     "status": "failed"
    },
    "tags": []
   },
   "outputs": [
    {
     "ename": "TypeError",
     "evalue": "'>' not supported between instances of 'list' and 'int'",
     "output_type": "error",
     "traceback": [
      "\u001b[0;31m---------------------------------------------------------------------------\u001b[0m",
      "\u001b[0;31mTypeError\u001b[0m                                 Traceback (most recent call last)",
      "\u001b[0;32m<ipython-input-5-6f064fcfe2b9>\u001b[0m in \u001b[0;36m<module>\u001b[0;34m\u001b[0m\n\u001b[0;32m----> 1\u001b[0;31m \u001b[0;34m[\u001b[0m\u001b[0;36m1\u001b[0m\u001b[0;34m,\u001b[0m \u001b[0;36m2\u001b[0m\u001b[0;34m,\u001b[0m \u001b[0;36m3\u001b[0m\u001b[0;34m,\u001b[0m \u001b[0;36m4\u001b[0m\u001b[0;34m]\u001b[0m \u001b[0;34m>\u001b[0m \u001b[0;36m2\u001b[0m\u001b[0;34m\u001b[0m\u001b[0;34m\u001b[0m\u001b[0m\n\u001b[0m",
      "\u001b[0;31mTypeError\u001b[0m: '>' not supported between instances of 'list' and 'int'"
     ]
    }
   ],
   "source": [
    "[1, 2, 3, 4] > 2"
   ]
  },
  {
   "cell_type": "markdown",
   "id": "b7131ad5",
   "metadata": {
    "papermill": {
     "duration": null,
     "end_time": null,
     "exception": null,
     "start_time": null,
     "status": "pending"
    },
    "tags": []
   },
   "source": [
    "R and Python have some libraries (like numpy and pandas) compare each element of the list to 2 (i.e. do an 'element-wise' comparison) and give us a list of booleans like `[False, False, True, True]`. \n",
    "\n",
    "Implement a function that reproduces this behaviour, returning a list of booleans corresponding to whether the corresponding element is greater than n."
   ]
  },
  {
   "cell_type": "code",
   "execution_count": null,
   "id": "96bb7994",
   "metadata": {
    "execution": {
     "iopub.execute_input": "2021-08-10T16:49:06.942291Z",
     "iopub.status.busy": "2021-08-10T16:49:06.941906Z",
     "iopub.status.idle": "2021-08-10T16:49:06.951642Z",
     "shell.execute_reply": "2021-08-10T16:49:06.950572Z",
     "shell.execute_reply.started": "2021-08-10T16:49:06.942256Z"
    },
    "papermill": {
     "duration": null,
     "end_time": null,
     "exception": null,
     "start_time": null,
     "status": "pending"
    },
    "tags": []
   },
   "outputs": [],
   "source": [
    "def elementwise_greater_than(L, thresh):\n",
    "    \n",
    "    \n",
    "    temp = []\n",
    "    \n",
    "    for item in L:\n",
    "        if item > thresh:\n",
    "            temp.append(True)\n",
    "        else:\n",
    "            temp.append(False)\n",
    "        \n",
    "        \n",
    "    return temp\n",
    "    \n",
    "    \"\"\"Return a list with the same length as L, where the value at index i is \n",
    "    True if L[i] is greater than thresh, and False otherwise.\n",
    "    \n",
    "    >>> elementwise_greater_than([1, 2, 3, 4], 2)\n",
    "    [False, False, True, True]\n",
    "    \"\"\"\n",
    "\n",
    "# Check your answer\n",
    "q2.check()"
   ]
  },
  {
   "cell_type": "code",
   "execution_count": null,
   "id": "876f8ea2",
   "metadata": {
    "papermill": {
     "duration": null,
     "end_time": null,
     "exception": null,
     "start_time": null,
     "status": "pending"
    },
    "tags": []
   },
   "outputs": [],
   "source": [
    "#q2.solution()"
   ]
  },
  {
   "cell_type": "markdown",
   "id": "05cabf4e",
   "metadata": {
    "papermill": {
     "duration": null,
     "end_time": null,
     "exception": null,
     "start_time": null,
     "status": "pending"
    },
    "tags": []
   },
   "source": [
    "# 3.\n",
    "\n",
    "Complete the body of the function below according to its docstring."
   ]
  },
  {
   "cell_type": "code",
   "execution_count": null,
   "id": "cf9cdb2e",
   "metadata": {
    "execution": {
     "iopub.execute_input": "2021-08-10T17:01:34.141507Z",
     "iopub.status.busy": "2021-08-10T17:01:34.141116Z",
     "iopub.status.idle": "2021-08-10T17:01:34.153045Z",
     "shell.execute_reply": "2021-08-10T17:01:34.152009Z",
     "shell.execute_reply.started": "2021-08-10T17:01:34.141474Z"
    },
    "papermill": {
     "duration": null,
     "end_time": null,
     "exception": null,
     "start_time": null,
     "status": "pending"
    },
    "tags": []
   },
   "outputs": [],
   "source": [
    "def menu_is_boring(meals):\n",
    "    \n",
    "    for i in range(0,len(meals)-1):\n",
    "#         if i == 0:\n",
    "#             continue        \n",
    "        if meals[i] == meals[i+1]:\n",
    "            print(meals[i],meals[i-1])\n",
    "            return True\n",
    "            \n",
    "    return False\n",
    "    \n",
    "    \n",
    "    \"\"\"Given a list of meals served over some period of time, return True if the\n",
    "    same meal has ever been served two days in a row, and False otherwise.\n",
    "    \"\"\"\n",
    "    \n",
    "\n",
    "# Check your answer\n",
    "q3.check()"
   ]
  },
  {
   "cell_type": "code",
   "execution_count": null,
   "id": "127d7be3",
   "metadata": {
    "execution": {
     "iopub.execute_input": "2021-08-10T17:01:31.664402Z",
     "iopub.status.busy": "2021-08-10T17:01:31.664040Z",
     "iopub.status.idle": "2021-08-10T17:01:31.667928Z",
     "shell.execute_reply": "2021-08-10T17:01:31.667099Z",
     "shell.execute_reply.started": "2021-08-10T17:01:31.664366Z"
    },
    "papermill": {
     "duration": null,
     "end_time": null,
     "exception": null,
     "start_time": null,
     "status": "pending"
    },
    "tags": []
   },
   "outputs": [],
   "source": [
    "#q3.hint()\n",
    "# q3.solution()"
   ]
  },
  {
   "cell_type": "markdown",
   "id": "8603c69f",
   "metadata": {
    "papermill": {
     "duration": null,
     "end_time": null,
     "exception": null,
     "start_time": null,
     "status": "pending"
    },
    "tags": []
   },
   "source": [
    "# 4. <span title=\"A bit spicy\" style=\"color: darkgreen \">🌶️</span>\n",
    "\n",
    "Next to the Blackjack table, the Python Challenge Casino has a slot machine. You can get a result from the slot machine by calling `play_slot_machine()`. The number it returns is your winnings in dollars. Usually it returns 0.  But sometimes you'll get lucky and get a big payday. Try running it below:"
   ]
  },
  {
   "cell_type": "code",
   "execution_count": null,
   "id": "2e4b555f",
   "metadata": {
    "execution": {
     "iopub.execute_input": "2021-08-10T17:10:18.626025Z",
     "iopub.status.busy": "2021-08-10T17:10:18.625480Z",
     "iopub.status.idle": "2021-08-10T17:10:18.630743Z",
     "shell.execute_reply": "2021-08-10T17:10:18.629959Z",
     "shell.execute_reply.started": "2021-08-10T17:10:18.625976Z"
    },
    "papermill": {
     "duration": null,
     "end_time": null,
     "exception": null,
     "start_time": null,
     "status": "pending"
    },
    "tags": []
   },
   "outputs": [],
   "source": [
    "play_slot_machine()"
   ]
  },
  {
   "cell_type": "markdown",
   "id": "c434bcfd",
   "metadata": {
    "papermill": {
     "duration": null,
     "end_time": null,
     "exception": null,
     "start_time": null,
     "status": "pending"
    },
    "tags": []
   },
   "source": [
    "By the way, did we mention that each play costs $1? Don't worry, we'll send you the bill later.\n",
    "\n",
    "On average, how much money can you expect to gain (or lose) every time you play the machine?  The casino keeps it a secret, but you can estimate the average value of each pull using a technique called the **Monte Carlo method**. To estimate the average outcome, we simulate the scenario many times, and return the average result.\n",
    "\n",
    "Complete the following function to calculate the average value per play of the slot machine."
   ]
  },
  {
   "cell_type": "code",
   "execution_count": null,
   "id": "899d740c",
   "metadata": {
    "execution": {
     "iopub.execute_input": "2021-08-10T17:16:00.420504Z",
     "iopub.status.busy": "2021-08-10T17:16:00.418372Z",
     "iopub.status.idle": "2021-08-10T17:16:00.426907Z",
     "shell.execute_reply": "2021-08-10T17:16:00.426001Z",
     "shell.execute_reply.started": "2021-08-10T17:16:00.420458Z"
    },
    "papermill": {
     "duration": null,
     "end_time": null,
     "exception": null,
     "start_time": null,
     "status": "pending"
    },
    "tags": []
   },
   "outputs": [],
   "source": [
    "def estimate_average_slot_payout(n_runs):\n",
    "    \n",
    "    bill = n_runs\n",
    "    win1 = 0\n",
    "    \n",
    "    \n",
    "    for i in range(n_runs):\n",
    "        win1 = win1 + play_slot_machine()\n",
    "    \n",
    "    for i in range(n_runs):\n",
    "        win2 = win2 + play_slot_machine()\n",
    "\n",
    "        \n",
    "        \n",
    "    total_profit1 = win1-bill\n",
    "    total_profit2 = win2-bill\n",
    "    \n",
    "    avg = (total_profit1 + total_profit2)/2\n",
    "    \n",
    "    return avg\n",
    "    \n",
    "    \n",
    "    \"\"\"Run the slot machine n_runs times and return the average net profit per run.\n",
    "    Example calls (note that return value is nondeterministic!):\n",
    "    >>> estimate_average_slot_payout(1)\n",
    "    -1\n",
    "    >>> estimate_average_slot_payout(1)\n",
    "    0.5\n",
    "    \"\"\""
   ]
  },
  {
   "cell_type": "markdown",
   "id": "b7d6f044",
   "metadata": {
    "papermill": {
     "duration": null,
     "end_time": null,
     "exception": null,
     "start_time": null,
     "status": "pending"
    },
    "tags": []
   },
   "source": [
    "When you think you know the expected value per spin, run the code cell below to view the solution and get credit for answering the question."
   ]
  },
  {
   "cell_type": "code",
   "execution_count": null,
   "id": "03944304",
   "metadata": {
    "execution": {
     "iopub.execute_input": "2021-08-10T17:16:04.510330Z",
     "iopub.status.busy": "2021-08-10T17:16:04.509978Z",
     "iopub.status.idle": "2021-08-10T17:16:04.517496Z",
     "shell.execute_reply": "2021-08-10T17:16:04.516770Z",
     "shell.execute_reply.started": "2021-08-10T17:16:04.510302Z"
    },
    "papermill": {
     "duration": null,
     "end_time": null,
     "exception": null,
     "start_time": null,
     "status": "pending"
    },
    "tags": []
   },
   "outputs": [],
   "source": [
    "# Check your answer (Run this code cell to receive credit!)\n",
    "q4.solution()"
   ]
  },
  {
   "cell_type": "markdown",
   "id": "55b91fca",
   "metadata": {
    "papermill": {
     "duration": null,
     "end_time": null,
     "exception": null,
     "start_time": null,
     "status": "pending"
    },
    "tags": []
   },
   "source": [
    "# Keep Going\n",
    "\n",
    "Many programmers report that dictionaries are their favorite data structure. You'll get to **[learn about them](https://www.kaggle.com/colinmorris/strings-and-dictionaries)** (as well as strings) in the next lesson."
   ]
  },
  {
   "cell_type": "markdown",
   "id": "13dd8f6a",
   "metadata": {
    "papermill": {
     "duration": null,
     "end_time": null,
     "exception": null,
     "start_time": null,
     "status": "pending"
    },
    "tags": []
   },
   "source": [
    "---\n",
    "\n",
    "\n",
    "\n",
    "\n",
    "*Have questions or comments? Visit the [Learn Discussion forum](https://www.kaggle.com/learn-forum/161283) to chat with other Learners.*"
   ]
  }
 ],
 "metadata": {
  "kernelspec": {
   "display_name": "Python 3",
   "language": "python",
   "name": "python3"
  },
  "language_info": {
   "codemirror_mode": {
    "name": "ipython",
    "version": 3
   },
   "file_extension": ".py",
   "mimetype": "text/x-python",
   "name": "python",
   "nbconvert_exporter": "python",
   "pygments_lexer": "ipython3",
   "version": "3.7.10"
  },
  "papermill": {
   "default_parameters": {},
   "duration": 9.712047,
   "end_time": "2021-08-10T17:17:07.485902",
   "environment_variables": {},
   "exception": true,
   "input_path": "__notebook__.ipynb",
   "output_path": "__notebook__.ipynb",
   "parameters": {},
   "start_time": "2021-08-10T17:16:57.773855",
   "version": "2.3.3"
  }
 },
 "nbformat": 4,
 "nbformat_minor": 5
}

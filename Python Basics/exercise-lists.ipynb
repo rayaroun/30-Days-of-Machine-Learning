{
 "cells": [
  {
   "cell_type": "markdown",
   "id": "5e61c713",
   "metadata": {
    "papermill": {
     "duration": 0.015675,
     "end_time": "2021-08-10T08:12:39.445143",
     "exception": false,
     "start_time": "2021-08-10T08:12:39.429468",
     "status": "completed"
    },
    "tags": []
   },
   "source": [
    "**This notebook is an exercise in the [Python](https://www.kaggle.com/learn/python) course.  You can reference the tutorial at [this link](https://www.kaggle.com/colinmorris/lists).**\n",
    "\n",
    "---\n"
   ]
  },
  {
   "cell_type": "markdown",
   "id": "969b8e26",
   "metadata": {
    "papermill": {
     "duration": 0.013913,
     "end_time": "2021-08-10T08:12:39.473610",
     "exception": false,
     "start_time": "2021-08-10T08:12:39.459697",
     "status": "completed"
    },
    "tags": []
   },
   "source": [
    "Things get more interesting with lists. You'll apply your new knowledge to solve the questions below. Remember to run the following cell first."
   ]
  },
  {
   "cell_type": "code",
   "execution_count": 1,
   "id": "26f4e1e1",
   "metadata": {
    "execution": {
     "iopub.execute_input": "2021-08-10T08:12:39.508212Z",
     "iopub.status.busy": "2021-08-10T08:12:39.506397Z",
     "iopub.status.idle": "2021-08-10T08:12:39.659428Z",
     "shell.execute_reply": "2021-08-10T08:12:39.659982Z",
     "shell.execute_reply.started": "2021-08-10T07:32:01.372637Z"
    },
    "papermill": {
     "duration": 0.17268,
     "end_time": "2021-08-10T08:12:39.660300",
     "exception": false,
     "start_time": "2021-08-10T08:12:39.487620",
     "status": "completed"
    },
    "tags": []
   },
   "outputs": [
    {
     "name": "stdout",
     "output_type": "stream",
     "text": [
      "Setup complete.\n"
     ]
    }
   ],
   "source": [
    "from learntools.core import binder; binder.bind(globals())\n",
    "from learntools.python.ex4 import *\n",
    "print('Setup complete.')"
   ]
  },
  {
   "cell_type": "markdown",
   "id": "290c0a38",
   "metadata": {
    "papermill": {
     "duration": 0.014124,
     "end_time": "2021-08-10T08:12:39.689136",
     "exception": false,
     "start_time": "2021-08-10T08:12:39.675012",
     "status": "completed"
    },
    "tags": []
   },
   "source": [
    "# 1.\n",
    "\n",
    "Complete the function below according to its docstring."
   ]
  },
  {
   "cell_type": "code",
   "execution_count": 2,
   "id": "91a8ee50",
   "metadata": {
    "execution": {
     "iopub.execute_input": "2021-08-10T08:12:39.721280Z",
     "iopub.status.busy": "2021-08-10T08:12:39.720513Z",
     "iopub.status.idle": "2021-08-10T08:12:39.731064Z",
     "shell.execute_reply": "2021-08-10T08:12:39.731546Z",
     "shell.execute_reply.started": "2021-08-10T07:40:58.498893Z"
    },
    "papermill": {
     "duration": 0.028164,
     "end_time": "2021-08-10T08:12:39.731724",
     "exception": false,
     "start_time": "2021-08-10T08:12:39.703560",
     "status": "completed"
    },
    "tags": []
   },
   "outputs": [
    {
     "data": {
      "application/javascript": [
       "parent.postMessage({\"jupyterEvent\": \"custom.exercise_interaction\", \"data\": {\"outcomeType\": 1, \"valueTowardsCompletion\": 0.2, \"interactionType\": 1, \"questionType\": 2, \"questionId\": \"1_SelectSecondItem\", \"learnToolsVersion\": \"0.3.4\", \"failureMessage\": \"\", \"exceptionClass\": \"\", \"trace\": \"\"}}, \"*\")"
      ],
      "text/plain": [
       "<IPython.core.display.Javascript object>"
      ]
     },
     "metadata": {},
     "output_type": "display_data"
    },
    {
     "data": {
      "text/markdown": [
       "<span style=\"color:#33cc33\">Correct</span>"
      ],
      "text/plain": [
       "Correct"
      ]
     },
     "metadata": {},
     "output_type": "display_data"
    }
   ],
   "source": [
    "def select_second(L):\n",
    "    \n",
    "#     print(L)\n",
    "    \n",
    "#     if L is None:\n",
    "#         return None\n",
    "#     elif L[1] == None :\n",
    "#         return None\n",
    "#     else:\n",
    "#         return L[1]   #won't work for some reason\n",
    "\n",
    "    if len(L) < 2:\n",
    "        return None\n",
    "    else:\n",
    "        return L[1]\n",
    "        \n",
    "    \"\"\"Return the second element of the given list. If the list has no second\n",
    "    element, return None.\n",
    "    \"\"\"\n",
    "\n",
    "# Check your answer\n",
    "q1.check()"
   ]
  },
  {
   "cell_type": "code",
   "execution_count": 3,
   "id": "abece8bc",
   "metadata": {
    "execution": {
     "iopub.execute_input": "2021-08-10T08:12:39.769812Z",
     "iopub.status.busy": "2021-08-10T08:12:39.769073Z",
     "iopub.status.idle": "2021-08-10T08:12:39.773973Z",
     "shell.execute_reply": "2021-08-10T08:12:39.774486Z",
     "shell.execute_reply.started": "2021-08-10T07:41:01.799617Z"
    },
    "papermill": {
     "duration": 0.026505,
     "end_time": "2021-08-10T08:12:39.774668",
     "exception": false,
     "start_time": "2021-08-10T08:12:39.748163",
     "status": "completed"
    },
    "tags": []
   },
   "outputs": [
    {
     "data": {
      "application/javascript": [
       "parent.postMessage({\"jupyterEvent\": \"custom.exercise_interaction\", \"data\": {\"interactionType\": 2, \"questionType\": 2, \"questionId\": \"1_SelectSecondItem\", \"learnToolsVersion\": \"0.3.4\", \"valueTowardsCompletion\": 0.0, \"failureMessage\": \"\", \"exceptionClass\": \"\", \"trace\": \"\", \"outcomeType\": 4}}, \"*\")"
      ],
      "text/plain": [
       "<IPython.core.display.Javascript object>"
      ]
     },
     "metadata": {},
     "output_type": "display_data"
    },
    {
     "data": {
      "text/markdown": [
       "<span style=\"color:#3366cc\">Hint:</span> Python starts counting at 0. So the second item isn't indexed with a 2"
      ],
      "text/plain": [
       "Hint: Python starts counting at 0. So the second item isn't indexed with a 2"
      ]
     },
     "metadata": {},
     "output_type": "display_data"
    }
   ],
   "source": [
    "q1.hint()\n",
    "# q1.solution()"
   ]
  },
  {
   "cell_type": "markdown",
   "id": "87579dc2",
   "metadata": {
    "papermill": {
     "duration": 0.016733,
     "end_time": "2021-08-10T08:12:39.807937",
     "exception": false,
     "start_time": "2021-08-10T08:12:39.791204",
     "status": "completed"
    },
    "tags": []
   },
   "source": [
    "# 2.\n",
    "\n",
    "You are analyzing sports teams.  Members of each team are stored in a list. The Coach is the first name in the list, the captain is the second name in the list, and other players are listed after that. \n",
    "These lists are stored in another list, which starts with the best team and proceeds through the list to the worst team last.  Complete the function below to select the **captain** of the worst team."
   ]
  },
  {
   "cell_type": "code",
   "execution_count": 4,
   "id": "6083e9b1",
   "metadata": {
    "execution": {
     "iopub.execute_input": "2021-08-10T08:12:39.847379Z",
     "iopub.status.busy": "2021-08-10T08:12:39.846565Z",
     "iopub.status.idle": "2021-08-10T08:12:39.852890Z",
     "shell.execute_reply": "2021-08-10T08:12:39.852348Z",
     "shell.execute_reply.started": "2021-08-10T07:43:33.530207Z"
    },
    "papermill": {
     "duration": 0.028886,
     "end_time": "2021-08-10T08:12:39.853053",
     "exception": false,
     "start_time": "2021-08-10T08:12:39.824167",
     "status": "completed"
    },
    "tags": []
   },
   "outputs": [
    {
     "data": {
      "application/javascript": [
       "parent.postMessage({\"jupyterEvent\": \"custom.exercise_interaction\", \"data\": {\"outcomeType\": 1, \"valueTowardsCompletion\": 0.2, \"interactionType\": 1, \"questionType\": 2, \"questionId\": \"2_LosingTeamCaptain\", \"learnToolsVersion\": \"0.3.4\", \"failureMessage\": \"\", \"exceptionClass\": \"\", \"trace\": \"\"}}, \"*\")"
      ],
      "text/plain": [
       "<IPython.core.display.Javascript object>"
      ]
     },
     "metadata": {},
     "output_type": "display_data"
    },
    {
     "data": {
      "text/markdown": [
       "<span style=\"color:#33cc33\">Correct</span>"
      ],
      "text/plain": [
       "Correct"
      ]
     },
     "metadata": {},
     "output_type": "display_data"
    }
   ],
   "source": [
    "def losing_team_captain(teams):\n",
    "    \n",
    "    return teams[len(teams)-1][1]\n",
    "    \n",
    "    \"\"\"Given a list of teams, where each team is a list of names, return the 2nd player (captain)\n",
    "    from the last listed team\n",
    "    \"\"\"\n",
    "    pass\n",
    "\n",
    "# Check your answer\n",
    "q2.check()"
   ]
  },
  {
   "cell_type": "code",
   "execution_count": 5,
   "id": "e2da8b5b",
   "metadata": {
    "collapsed": true,
    "execution": {
     "iopub.execute_input": "2021-08-10T08:12:39.892262Z",
     "iopub.status.busy": "2021-08-10T08:12:39.891551Z",
     "iopub.status.idle": "2021-08-10T08:12:39.895165Z",
     "shell.execute_reply": "2021-08-10T08:12:39.894581Z"
    },
    "jupyter": {
     "outputs_hidden": true
    },
    "papermill": {
     "duration": 0.024927,
     "end_time": "2021-08-10T08:12:39.895322",
     "exception": false,
     "start_time": "2021-08-10T08:12:39.870395",
     "status": "completed"
    },
    "tags": []
   },
   "outputs": [],
   "source": [
    "#q2.hint()\n",
    "#q2.solution()"
   ]
  },
  {
   "cell_type": "markdown",
   "id": "d3777e45",
   "metadata": {
    "papermill": {
     "duration": 0.017788,
     "end_time": "2021-08-10T08:12:39.930763",
     "exception": false,
     "start_time": "2021-08-10T08:12:39.912975",
     "status": "completed"
    },
    "tags": []
   },
   "source": [
    "# 3.\n",
    "\n",
    "The next iteration of Mario Kart will feature an extra-infuriating new item, the *Purple Shell*. When used, it warps the last place racer into first place and the first place racer into last place. Complete the function below to implement the Purple Shell's effect."
   ]
  },
  {
   "cell_type": "code",
   "execution_count": 6,
   "id": "b269969d",
   "metadata": {
    "execution": {
     "iopub.execute_input": "2021-08-10T08:12:39.970616Z",
     "iopub.status.busy": "2021-08-10T08:12:39.969770Z",
     "iopub.status.idle": "2021-08-10T08:12:39.977831Z",
     "shell.execute_reply": "2021-08-10T08:12:39.978370Z",
     "shell.execute_reply.started": "2021-08-10T07:49:47.323183Z"
    },
    "papermill": {
     "duration": 0.029672,
     "end_time": "2021-08-10T08:12:39.978548",
     "exception": false,
     "start_time": "2021-08-10T08:12:39.948876",
     "status": "completed"
    },
    "tags": []
   },
   "outputs": [
    {
     "data": {
      "application/javascript": [
       "parent.postMessage({\"jupyterEvent\": \"custom.exercise_interaction\", \"data\": {\"outcomeType\": 1, \"valueTowardsCompletion\": 0.2, \"interactionType\": 1, \"questionType\": 2, \"questionId\": \"3_PurpleShell\", \"learnToolsVersion\": \"0.3.4\", \"failureMessage\": \"\", \"exceptionClass\": \"\", \"trace\": \"\"}}, \"*\")"
      ],
      "text/plain": [
       "<IPython.core.display.Javascript object>"
      ]
     },
     "metadata": {},
     "output_type": "display_data"
    },
    {
     "data": {
      "text/markdown": [
       "<span style=\"color:#33cc33\">Correct</span>"
      ],
      "text/plain": [
       "Correct"
      ]
     },
     "metadata": {},
     "output_type": "display_data"
    }
   ],
   "source": [
    "def purple_shell(racers):\n",
    "    \n",
    "    \n",
    "    temp = racers[0]\n",
    "    \n",
    "    racers[0] = racers[len(racers)-1]\n",
    "    \n",
    "    racers[len(racers)-1] = temp\n",
    "    \n",
    "    \n",
    "    \"\"\"Given a list of racers, set the first place racer (at the front of the list) to last\n",
    "    place and vice versa.\n",
    "    \n",
    "    >>> r = [\"Mario\", \"Bowser\", \"Luigi\"]\n",
    "    >>> purple_shell(r)\n",
    "    >>> r\n",
    "    [\"Luigi\", \"Bowser\", \"Mario\"]\n",
    "    \"\"\"\n",
    "\n",
    "\n",
    "# Check your answer\n",
    "q3.check()"
   ]
  },
  {
   "cell_type": "code",
   "execution_count": 7,
   "id": "4565eb09",
   "metadata": {
    "collapsed": true,
    "execution": {
     "iopub.execute_input": "2021-08-10T08:12:40.021565Z",
     "iopub.status.busy": "2021-08-10T08:12:40.020757Z",
     "iopub.status.idle": "2021-08-10T08:12:40.023690Z",
     "shell.execute_reply": "2021-08-10T08:12:40.024224Z"
    },
    "jupyter": {
     "outputs_hidden": true
    },
    "papermill": {
     "duration": 0.027148,
     "end_time": "2021-08-10T08:12:40.024450",
     "exception": false,
     "start_time": "2021-08-10T08:12:39.997302",
     "status": "completed"
    },
    "tags": []
   },
   "outputs": [],
   "source": [
    "#q3.hint()\n",
    "#q3.solution()"
   ]
  },
  {
   "cell_type": "markdown",
   "id": "b3cf72c0",
   "metadata": {
    "papermill": {
     "duration": 0.01909,
     "end_time": "2021-08-10T08:12:40.063230",
     "exception": false,
     "start_time": "2021-08-10T08:12:40.044140",
     "status": "completed"
    },
    "tags": []
   },
   "source": [
    "# 4.\n",
    "\n",
    "What are the lengths of the following lists? Fill in the variable `lengths` with your predictions. (Try to make a prediction for each list *without* just calling `len()` on it.)"
   ]
  },
  {
   "cell_type": "code",
   "execution_count": 8,
   "id": "6d0018d6",
   "metadata": {
    "execution": {
     "iopub.execute_input": "2021-08-10T08:12:40.109994Z",
     "iopub.status.busy": "2021-08-10T08:12:40.108970Z",
     "iopub.status.idle": "2021-08-10T08:12:40.118783Z",
     "shell.execute_reply": "2021-08-10T08:12:40.118102Z",
     "shell.execute_reply.started": "2021-08-10T07:54:01.289819Z"
    },
    "papermill": {
     "duration": 0.035779,
     "end_time": "2021-08-10T08:12:40.118980",
     "exception": false,
     "start_time": "2021-08-10T08:12:40.083201",
     "status": "completed"
    },
    "tags": []
   },
   "outputs": [
    {
     "name": "stdout",
     "output_type": "stream",
     "text": [
      "[2, 3]\n"
     ]
    },
    {
     "data": {
      "application/javascript": [
       "parent.postMessage({\"jupyterEvent\": \"custom.exercise_interaction\", \"data\": {\"outcomeType\": 1, \"valueTowardsCompletion\": 0.2, \"interactionType\": 1, \"questionType\": 1, \"questionId\": \"4_UnderstandLen\", \"learnToolsVersion\": \"0.3.4\", \"failureMessage\": \"\", \"exceptionClass\": \"\", \"trace\": \"\"}}, \"*\")"
      ],
      "text/plain": [
       "<IPython.core.display.Javascript object>"
      ]
     },
     "metadata": {},
     "output_type": "display_data"
    },
    {
     "data": {
      "text/markdown": [
       "<span style=\"color:#33cc33\">Correct:</span> \n",
       "\n",
       "\n",
       "- a: There are three items in this list. Nothing tricky yet.\n",
       "- b: The list `[2, 3]` counts as a single item. It has one item before it. So we have 2 items in the list\n",
       "- c: The empty list has 0 items\n",
       "- d: The expression is the same as the list `[2, 3]`, which has length 2."
      ],
      "text/plain": [
       "Correct: \n",
       "\n",
       "\n",
       "- a: There are three items in this list. Nothing tricky yet.\n",
       "- b: The list `[2, 3]` counts as a single item. It has one item before it. So we have 2 items in the list\n",
       "- c: The empty list has 0 items\n",
       "- d: The expression is the same as the list `[2, 3]`, which has length 2."
      ]
     },
     "metadata": {},
     "output_type": "display_data"
    }
   ],
   "source": [
    "a = [1, 2, 3]\n",
    "b = [1, [2, 3]]\n",
    "c = []\n",
    "d = [1, 2, 3][1:]\n",
    "\n",
    "print(d)\n",
    "\n",
    "\n",
    "# Put your predictions in the list below. Lengths should contain 4 numbers, the\n",
    "# first being the length of a, the second being the length of b and so on.\n",
    "lengths = [3,2,0,2]\n",
    "\n",
    "# Check your answer\n",
    "q4.check()"
   ]
  },
  {
   "cell_type": "code",
   "execution_count": 9,
   "id": "1730a1a0",
   "metadata": {
    "execution": {
     "iopub.execute_input": "2021-08-10T08:12:40.165824Z",
     "iopub.status.busy": "2021-08-10T08:12:40.165117Z",
     "iopub.status.idle": "2021-08-10T08:12:40.168641Z",
     "shell.execute_reply": "2021-08-10T08:12:40.167924Z",
     "shell.execute_reply.started": "2021-08-10T07:54:04.345771Z"
    },
    "papermill": {
     "duration": 0.028978,
     "end_time": "2021-08-10T08:12:40.168795",
     "exception": false,
     "start_time": "2021-08-10T08:12:40.139817",
     "status": "completed"
    },
    "tags": []
   },
   "outputs": [],
   "source": [
    "# line below provides some explanation\n",
    "# q4.solution()"
   ]
  },
  {
   "cell_type": "markdown",
   "id": "0f69633b",
   "metadata": {
    "papermill": {
     "duration": 0.022536,
     "end_time": "2021-08-10T08:12:40.212040",
     "exception": false,
     "start_time": "2021-08-10T08:12:40.189504",
     "status": "completed"
    },
    "tags": []
   },
   "source": [
    "# 5. <span title=\"A bit spicy\" style=\"color: darkgreen \">🌶️</span>\n",
    "\n",
    "We're using lists to record people who attended our party and what order they arrived in. For example, the following list represents a party with 7 guests, in which Adela showed up first and Ford was the last to arrive:\n",
    "\n",
    "    party_attendees = ['Adela', 'Fleda', 'Owen', 'May', 'Mona', 'Gilbert', 'Ford']\n",
    "\n",
    "A guest is considered 'fashionably late' if they arrived after at least half of the party's guests. However, they must not be the very last guest (that's taking it too far). In the above example, Mona and Gilbert are the only guests who were fashionably late.\n",
    "\n",
    "Complete the function below which takes a list of party attendees as well as a person, and tells us whether that person is fashionably late."
   ]
  },
  {
   "cell_type": "code",
   "execution_count": 10,
   "id": "e5137580",
   "metadata": {
    "execution": {
     "iopub.execute_input": "2021-08-10T08:12:40.259161Z",
     "iopub.status.busy": "2021-08-10T08:12:40.258446Z",
     "iopub.status.idle": "2021-08-10T08:12:40.266761Z",
     "shell.execute_reply": "2021-08-10T08:12:40.267315Z",
     "shell.execute_reply.started": "2021-08-10T08:11:30.508615Z"
    },
    "papermill": {
     "duration": 0.033788,
     "end_time": "2021-08-10T08:12:40.267495",
     "exception": false,
     "start_time": "2021-08-10T08:12:40.233707",
     "status": "completed"
    },
    "tags": []
   },
   "outputs": [
    {
     "data": {
      "application/javascript": [
       "parent.postMessage({\"jupyterEvent\": \"custom.exercise_interaction\", \"data\": {\"outcomeType\": 1, \"valueTowardsCompletion\": 0.2, \"interactionType\": 1, \"questionType\": 2, \"questionId\": \"5_FashionablyLate\", \"learnToolsVersion\": \"0.3.4\", \"failureMessage\": \"\", \"exceptionClass\": \"\", \"trace\": \"\"}}, \"*\")"
      ],
      "text/plain": [
       "<IPython.core.display.Javascript object>"
      ]
     },
     "metadata": {},
     "output_type": "display_data"
    },
    {
     "data": {
      "text/markdown": [
       "<span style=\"color:#33cc33\">Correct</span>"
      ],
      "text/plain": [
       "Correct"
      ]
     },
     "metadata": {},
     "output_type": "display_data"
    }
   ],
   "source": [
    "def fashionably_late(arrivals, name):\n",
    "    \"\"\"Given an ordered list of arrivals to the party and a name, return whether the guest with that\n",
    "    name was fashionably late.\n",
    "    \"\"\"\n",
    "    num = arrivals.index(name)\n",
    " \n",
    "    return num >= len(arrivals) / 2 and num != len(arrivals) - 1\n",
    "        \n",
    "    \n",
    "    \n",
    "    \n",
    "    \n",
    "    \n",
    "    \n",
    "\n",
    "# Check your answer\n",
    "q5.check()"
   ]
  },
  {
   "cell_type": "code",
   "execution_count": 11,
   "id": "ec638821",
   "metadata": {
    "execution": {
     "iopub.execute_input": "2021-08-10T08:12:40.313837Z",
     "iopub.status.busy": "2021-08-10T08:12:40.313208Z",
     "iopub.status.idle": "2021-08-10T08:12:40.321553Z",
     "shell.execute_reply": "2021-08-10T08:12:40.320926Z",
     "shell.execute_reply.started": "2021-08-10T08:11:34.179108Z"
    },
    "papermill": {
     "duration": 0.033129,
     "end_time": "2021-08-10T08:12:40.321693",
     "exception": false,
     "start_time": "2021-08-10T08:12:40.288564",
     "status": "completed"
    },
    "tags": []
   },
   "outputs": [
    {
     "data": {
      "application/javascript": [
       "parent.postMessage({\"jupyterEvent\": \"custom.exercise_interaction\", \"data\": {\"interactionType\": 2, \"questionType\": 2, \"questionId\": \"5_FashionablyLate\", \"learnToolsVersion\": \"0.3.4\", \"valueTowardsCompletion\": 0.0, \"failureMessage\": \"\", \"exceptionClass\": \"\", \"trace\": \"\", \"outcomeType\": 4}}, \"*\")"
      ],
      "text/plain": [
       "<IPython.core.display.Javascript object>"
      ]
     },
     "metadata": {},
     "output_type": "display_data"
    },
    {
     "data": {
      "text/markdown": [
       "<span style=\"color:#3366cc\">Hint:</span> Use the index method to find when the person arrived. Check whether that is a fashionably late spot given the list length (`len`). Think about 0-indexing"
      ],
      "text/plain": [
       "Hint: Use the index method to find when the person arrived. Check whether that is a fashionably late spot given the list length (`len`). Think about 0-indexing"
      ]
     },
     "metadata": {},
     "output_type": "display_data"
    }
   ],
   "source": [
    "q5.hint()\n",
    "# q5.solution()"
   ]
  },
  {
   "cell_type": "markdown",
   "id": "6fc7b259",
   "metadata": {
    "papermill": {
     "duration": 0.022323,
     "end_time": "2021-08-10T08:12:40.367677",
     "exception": false,
     "start_time": "2021-08-10T08:12:40.345354",
     "status": "completed"
    },
    "tags": []
   },
   "source": [
    "# Keep Going\n",
    "\n",
    "That's it for lists and tuples! Now you have the baseline knowledge to **[learn about loops](https://www.kaggle.com/colinmorris/loops-and-list-comprehensions)**, which is where lists and tuples get really interesting. "
   ]
  },
  {
   "cell_type": "markdown",
   "id": "bdf611b3",
   "metadata": {
    "papermill": {
     "duration": 0.023228,
     "end_time": "2021-08-10T08:12:40.413548",
     "exception": false,
     "start_time": "2021-08-10T08:12:40.390320",
     "status": "completed"
    },
    "tags": []
   },
   "source": [
    "---\n",
    "\n",
    "\n",
    "\n",
    "\n",
    "*Have questions or comments? Visit the [Learn Discussion forum](https://www.kaggle.com/learn-forum/161283) to chat with other Learners.*"
   ]
  }
 ],
 "metadata": {
  "kernelspec": {
   "display_name": "Python 3",
   "language": "python",
   "name": "python3"
  },
  "language_info": {
   "codemirror_mode": {
    "name": "ipython",
    "version": 3
   },
   "file_extension": ".py",
   "mimetype": "text/x-python",
   "name": "python",
   "nbconvert_exporter": "python",
   "pygments_lexer": "ipython3",
   "version": "3.7.10"
  },
  "papermill": {
   "default_parameters": {},
   "duration": 10.806577,
   "end_time": "2021-08-10T08:12:41.148089",
   "environment_variables": {},
   "exception": null,
   "input_path": "__notebook__.ipynb",
   "output_path": "__notebook__.ipynb",
   "parameters": {},
   "start_time": "2021-08-10T08:12:30.341512",
   "version": "2.3.3"
  }
 },
 "nbformat": 4,
 "nbformat_minor": 5
}

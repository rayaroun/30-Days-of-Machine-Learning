{
 "cells": [
  {
   "cell_type": "markdown",
   "id": "d60a8098",
   "metadata": {
    "papermill": {
     "duration": 0.031632,
     "end_time": "2021-08-10T07:17:46.075421",
     "exception": false,
     "start_time": "2021-08-10T07:17:46.043789",
     "status": "completed"
    },
    "tags": []
   },
   "source": [
    "**This notebook is an exercise in the [Python](https://www.kaggle.com/learn/python) course.  You can reference the tutorial at [this link](https://www.kaggle.com/colinmorris/booleans-and-conditionals).**\n",
    "\n",
    "---\n"
   ]
  },
  {
   "cell_type": "markdown",
   "id": "36cc9195",
   "metadata": {
    "papermill": {
     "duration": 0.028183,
     "end_time": "2021-08-10T07:17:46.131244",
     "exception": false,
     "start_time": "2021-08-10T07:17:46.103061",
     "status": "completed"
    },
    "tags": []
   },
   "source": [
    "In this exercise, you'll put to work what you have learned about booleans and conditionals.\n",
    "\n",
    "To get started, **run the setup code below** before writing your own code (and if you leave this notebook and come back later, don't forget to run the setup code again)."
   ]
  },
  {
   "cell_type": "code",
   "execution_count": 1,
   "id": "bae260d3",
   "metadata": {
    "execution": {
     "iopub.execute_input": "2021-08-10T07:17:46.191273Z",
     "iopub.status.busy": "2021-08-10T07:17:46.190136Z",
     "iopub.status.idle": "2021-08-10T07:17:46.322046Z",
     "shell.execute_reply": "2021-08-10T07:17:46.322536Z",
     "shell.execute_reply.started": "2021-08-10T07:10:27.821149Z"
    },
    "papermill": {
     "duration": 0.163509,
     "end_time": "2021-08-10T07:17:46.322885",
     "exception": false,
     "start_time": "2021-08-10T07:17:46.159376",
     "status": "completed"
    },
    "tags": []
   },
   "outputs": [
    {
     "name": "stdout",
     "output_type": "stream",
     "text": [
      "Setup complete.\n"
     ]
    }
   ],
   "source": [
    "from learntools.core import binder; binder.bind(globals())\n",
    "from learntools.python.ex3 import *\n",
    "print('Setup complete.')"
   ]
  },
  {
   "cell_type": "markdown",
   "id": "2d5093fe",
   "metadata": {
    "papermill": {
     "duration": 0.027826,
     "end_time": "2021-08-10T07:17:46.379244",
     "exception": false,
     "start_time": "2021-08-10T07:17:46.351418",
     "status": "completed"
    },
    "tags": []
   },
   "source": [
    "# 1.\n",
    "\n",
    "Many programming languages have [`sign`](https://en.wikipedia.org/wiki/Sign_function) available as a built-in function. Python doesn't, but we can define our own!\n",
    "\n",
    "In the cell below, define a function called `sign` which takes a numerical argument and returns -1 if it's negative, 1 if it's positive, and 0 if it's 0."
   ]
  },
  {
   "cell_type": "code",
   "execution_count": 2,
   "id": "c15c7440",
   "metadata": {
    "execution": {
     "iopub.execute_input": "2021-08-10T07:17:46.444719Z",
     "iopub.status.busy": "2021-08-10T07:17:46.444060Z",
     "iopub.status.idle": "2021-08-10T07:17:46.449776Z",
     "shell.execute_reply": "2021-08-10T07:17:46.450333Z",
     "shell.execute_reply.started": "2021-08-09T21:41:29.243366Z"
    },
    "papermill": {
     "duration": 0.042743,
     "end_time": "2021-08-10T07:17:46.450487",
     "exception": false,
     "start_time": "2021-08-10T07:17:46.407744",
     "status": "completed"
    },
    "tags": []
   },
   "outputs": [
    {
     "data": {
      "application/javascript": [
       "parent.postMessage({\"jupyterEvent\": \"custom.exercise_interaction\", \"data\": {\"outcomeType\": 1, \"valueTowardsCompletion\": 0.2, \"interactionType\": 1, \"questionType\": 2, \"questionId\": \"1_SignFunctionProblem\", \"learnToolsVersion\": \"0.3.4\", \"failureMessage\": \"\", \"exceptionClass\": \"\", \"trace\": \"\"}}, \"*\")"
      ],
      "text/plain": [
       "<IPython.core.display.Javascript object>"
      ]
     },
     "metadata": {},
     "output_type": "display_data"
    },
    {
     "data": {
      "text/markdown": [
       "<span style=\"color:#33cc33\">Correct</span>"
      ],
      "text/plain": [
       "Correct"
      ]
     },
     "metadata": {},
     "output_type": "display_data"
    }
   ],
   "source": [
    "# Your code goes here. Define a function called 'sign'\n",
    "\n",
    "def sign(num):\n",
    "    if num < 0:\n",
    "        return -1\n",
    "    elif num == 0:\n",
    "        return 0\n",
    "    else: \n",
    "        return 1\n",
    "\n",
    "# Check your answer\n",
    "q1.check()"
   ]
  },
  {
   "cell_type": "code",
   "execution_count": 3,
   "id": "23508bc4",
   "metadata": {
    "execution": {
     "iopub.execute_input": "2021-08-10T07:17:46.514449Z",
     "iopub.status.busy": "2021-08-10T07:17:46.513834Z",
     "iopub.status.idle": "2021-08-10T07:17:46.517976Z",
     "shell.execute_reply": "2021-08-10T07:17:46.517378Z"
    },
    "papermill": {
     "duration": 0.037797,
     "end_time": "2021-08-10T07:17:46.518108",
     "exception": false,
     "start_time": "2021-08-10T07:17:46.480311",
     "status": "completed"
    },
    "tags": []
   },
   "outputs": [],
   "source": [
    "#q1.solution()"
   ]
  },
  {
   "cell_type": "markdown",
   "id": "16bb0f3c",
   "metadata": {
    "papermill": {
     "duration": 0.028962,
     "end_time": "2021-08-10T07:17:46.576842",
     "exception": false,
     "start_time": "2021-08-10T07:17:46.547880",
     "status": "completed"
    },
    "tags": []
   },
   "source": [
    "# 2.\n",
    "\n",
    "We've decided to add \"logging\" to our `to_smash` function from the previous exercise."
   ]
  },
  {
   "cell_type": "code",
   "execution_count": 4,
   "id": "c48c7f65",
   "metadata": {
    "execution": {
     "iopub.execute_input": "2021-08-10T07:17:46.642766Z",
     "iopub.status.busy": "2021-08-10T07:17:46.641884Z",
     "iopub.status.idle": "2021-08-10T07:17:46.645200Z",
     "shell.execute_reply": "2021-08-10T07:17:46.645744Z",
     "shell.execute_reply.started": "2021-08-09T21:42:31.576845Z"
    },
    "papermill": {
     "duration": 0.039684,
     "end_time": "2021-08-10T07:17:46.645899",
     "exception": false,
     "start_time": "2021-08-10T07:17:46.606215",
     "status": "completed"
    },
    "tags": []
   },
   "outputs": [
    {
     "data": {
      "text/plain": [
       "1"
      ]
     },
     "execution_count": 4,
     "metadata": {},
     "output_type": "execute_result"
    }
   ],
   "source": [
    "def to_smash(total_candies):\n",
    "    \"\"\"Return the number of leftover candies that must be smashed after distributing\n",
    "    the given number of candies evenly between 3 friends.\n",
    "    \n",
    "    \n",
    "    \n",
    "    >>> to_smash(91)\n",
    "    1\n",
    "    \"\"\"\n",
    "    return total_candies % 3\n",
    "    \n",
    "    \n",
    "    print(\"Splitting\", total_candies, \"candies\")\n",
    "    return total_candies % 3\n",
    "\n",
    "to_smash(91)"
   ]
  },
  {
   "cell_type": "markdown",
   "id": "6a15fe0f",
   "metadata": {
    "papermill": {
     "duration": 0.029501,
     "end_time": "2021-08-10T07:17:46.704885",
     "exception": false,
     "start_time": "2021-08-10T07:17:46.675384",
     "status": "completed"
    },
    "tags": []
   },
   "source": [
    "What happens if we call it with `total_candies = 1`?"
   ]
  },
  {
   "cell_type": "code",
   "execution_count": 5,
   "id": "8be9f93f",
   "metadata": {
    "execution": {
     "iopub.execute_input": "2021-08-10T07:17:46.768212Z",
     "iopub.status.busy": "2021-08-10T07:17:46.767250Z",
     "iopub.status.idle": "2021-08-10T07:17:46.772374Z",
     "shell.execute_reply": "2021-08-10T07:17:46.772871Z",
     "shell.execute_reply.started": "2021-08-09T21:42:35.362560Z"
    },
    "papermill": {
     "duration": 0.038171,
     "end_time": "2021-08-10T07:17:46.773032",
     "exception": false,
     "start_time": "2021-08-10T07:17:46.734861",
     "status": "completed"
    },
    "tags": []
   },
   "outputs": [
    {
     "data": {
      "text/plain": [
       "1"
      ]
     },
     "execution_count": 5,
     "metadata": {},
     "output_type": "execute_result"
    }
   ],
   "source": [
    "to_smash(1)"
   ]
  },
  {
   "cell_type": "markdown",
   "id": "5b29d3f7",
   "metadata": {
    "papermill": {
     "duration": 0.029673,
     "end_time": "2021-08-10T07:17:46.832687",
     "exception": false,
     "start_time": "2021-08-10T07:17:46.803014",
     "status": "completed"
    },
    "tags": []
   },
   "source": [
    "That isn't great grammar!\n",
    "\n",
    "Modify the definition in the cell below to correct the grammar of our print statement. (If there's only one candy, we should use the singular \"candy\" instead of the plural \"candies\")"
   ]
  },
  {
   "cell_type": "code",
   "execution_count": 6,
   "id": "93a388de",
   "metadata": {
    "execution": {
     "iopub.execute_input": "2021-08-10T07:17:46.896172Z",
     "iopub.status.busy": "2021-08-10T07:17:46.895215Z",
     "iopub.status.idle": "2021-08-10T07:17:46.904775Z",
     "shell.execute_reply": "2021-08-10T07:17:46.905711Z",
     "shell.execute_reply.started": "2021-08-09T21:44:18.143659Z"
    },
    "papermill": {
     "duration": 0.043245,
     "end_time": "2021-08-10T07:17:46.905941",
     "exception": false,
     "start_time": "2021-08-10T07:17:46.862696",
     "status": "completed"
    },
    "tags": []
   },
   "outputs": [
    {
     "name": "stdout",
     "output_type": "stream",
     "text": [
      "Splitting 91 candies\n",
      "Splitting 1 candy\n"
     ]
    },
    {
     "data": {
      "text/plain": [
       "1"
      ]
     },
     "execution_count": 6,
     "metadata": {},
     "output_type": "execute_result"
    }
   ],
   "source": [
    "def to_smash(total_candies):\n",
    "    \"\"\"Return the number of leftover candies that must be smashed after distributing\n",
    "    the given number of candies evenly between 3 friends.\n",
    "    \n",
    "    >>> to_smash(91)\n",
    "    1\n",
    "    \"\"\"\n",
    "    if total_candies > 1:\n",
    "        print(\"Splitting\", total_candies, \"candies\")\n",
    "        return total_candies % 3\n",
    "    else :\n",
    "        print(\"Splitting\", total_candies, \"candy\")\n",
    "        return total_candies % 3\n",
    "\n",
    "to_smash(91)\n",
    "to_smash(1)"
   ]
  },
  {
   "cell_type": "markdown",
   "id": "2d00f216",
   "metadata": {
    "papermill": {
     "duration": 0.030593,
     "end_time": "2021-08-10T07:17:46.967720",
     "exception": false,
     "start_time": "2021-08-10T07:17:46.937127",
     "status": "completed"
    },
    "tags": []
   },
   "source": [
    "To get credit for completing this problem, and to see the official answer, run the code cell below."
   ]
  },
  {
   "cell_type": "code",
   "execution_count": 7,
   "id": "4640a6ce",
   "metadata": {
    "execution": {
     "iopub.execute_input": "2021-08-10T07:17:47.033586Z",
     "iopub.status.busy": "2021-08-10T07:17:47.032966Z",
     "iopub.status.idle": "2021-08-10T07:17:47.038214Z",
     "shell.execute_reply": "2021-08-10T07:17:47.037699Z",
     "shell.execute_reply.started": "2021-08-09T21:44:23.646864Z"
    },
    "papermill": {
     "duration": 0.040176,
     "end_time": "2021-08-10T07:17:47.038345",
     "exception": false,
     "start_time": "2021-08-10T07:17:46.998169",
     "status": "completed"
    },
    "tags": []
   },
   "outputs": [
    {
     "data": {
      "application/javascript": [
       "parent.postMessage({\"jupyterEvent\": \"custom.exercise_interaction\", \"data\": {\"interactionType\": 3, \"questionType\": 4, \"questionId\": \"2_PluralizationProblem\", \"learnToolsVersion\": \"0.3.4\", \"valueTowardsCompletion\": 0.0, \"failureMessage\": \"\", \"exceptionClass\": \"\", \"trace\": \"\", \"outcomeType\": 4}}, \"*\")"
      ],
      "text/plain": [
       "<IPython.core.display.Javascript object>"
      ]
     },
     "metadata": {},
     "output_type": "display_data"
    },
    {
     "data": {
      "text/markdown": [
       "<span style=\"color:#33cc99\">Solution:</span> A straightforward (and totally fine) solution is to replace the original `print` call with:\n",
       "\n",
       "```python\n",
       "if total_candies == 1:\n",
       "    print(\"Splitting 1 candy\")\n",
       "else:\n",
       "    print(\"Splitting\", total_candies, \"candies\")\n",
       "```\n",
       "\n",
       "Here's a slightly more succinct solution using a conditional expression:\n",
       "\n",
       "```python\n",
       "print(\"Splitting\", total_candies, \"candy\" if total_candies == 1 else \"candies\")\n",
       "```"
      ],
      "text/plain": [
       "Solution: A straightforward (and totally fine) solution is to replace the original `print` call with:\n",
       "\n",
       "```python\n",
       "if total_candies == 1:\n",
       "    print(\"Splitting 1 candy\")\n",
       "else:\n",
       "    print(\"Splitting\", total_candies, \"candies\")\n",
       "```\n",
       "\n",
       "Here's a slightly more succinct solution using a conditional expression:\n",
       "\n",
       "```python\n",
       "print(\"Splitting\", total_candies, \"candy\" if total_candies == 1 else \"candies\")\n",
       "```"
      ]
     },
     "metadata": {},
     "output_type": "display_data"
    }
   ],
   "source": [
    "# Check your answer (Run this code cell to receive credit!)\n",
    "q2.solution()"
   ]
  },
  {
   "cell_type": "markdown",
   "id": "c141c9a6",
   "metadata": {
    "papermill": {
     "duration": 0.031304,
     "end_time": "2021-08-10T07:17:47.101111",
     "exception": false,
     "start_time": "2021-08-10T07:17:47.069807",
     "status": "completed"
    },
    "tags": []
   },
   "source": [
    "# 3. <span title=\"A bit spicy\" style=\"color: darkgreen \">🌶️</span>\n",
    "\n",
    "In the tutorial, we talked about deciding whether we're prepared for the weather. I said that I'm safe from today's weather if...\n",
    "- I have an umbrella...\n",
    "- or if the rain isn't too heavy and I have a hood...\n",
    "- otherwise, I'm still fine unless it's raining *and* it's a workday\n",
    "\n",
    "The function below uses our first attempt at turning this logic into a Python expression. I claimed that there was a bug in that code. Can you find it?\n",
    "\n",
    "To prove that `prepared_for_weather` is buggy, come up with a set of inputs where either:\n",
    "- the function returns `False` (but should have returned `True`), or\n",
    "- the function returned `True` (but should have returned `False`).\n",
    "\n",
    "To get credit for completing this question, your code should return a <font color='#33cc33'>Correct</font> result."
   ]
  },
  {
   "cell_type": "code",
   "execution_count": 8,
   "id": "c54675b2",
   "metadata": {
    "execution": {
     "iopub.execute_input": "2021-08-10T07:17:47.168596Z",
     "iopub.status.busy": "2021-08-10T07:17:47.167989Z",
     "iopub.status.idle": "2021-08-10T07:17:47.177787Z",
     "shell.execute_reply": "2021-08-10T07:17:47.178257Z",
     "shell.execute_reply.started": "2021-08-09T21:53:53.824350Z"
    },
    "papermill": {
     "duration": 0.045437,
     "end_time": "2021-08-10T07:17:47.178411",
     "exception": false,
     "start_time": "2021-08-10T07:17:47.132974",
     "status": "completed"
    },
    "tags": []
   },
   "outputs": [
    {
     "name": "stdout",
     "output_type": "stream",
     "text": [
      "True\n"
     ]
    },
    {
     "data": {
      "application/javascript": [
       "parent.postMessage({\"jupyterEvent\": \"custom.exercise_interaction\", \"data\": {\"outcomeType\": 2, \"failureMessage\": \"Given `have_umbrella=True`, `rain_level=0.0`, `have_hood=False`, `is_workday=True`, `prepared_for_weather` returned `True`. But I think that's correct. (We want inputs that lead to an incorrect result from `prepared_for_weather`.)\", \"interactionType\": 1, \"questionType\": 1, \"questionId\": \"3_WeatherDebug\", \"learnToolsVersion\": \"0.3.4\", \"valueTowardsCompletion\": 0.0, \"exceptionClass\": \"\", \"trace\": \"\"}}, \"*\")"
      ],
      "text/plain": [
       "<IPython.core.display.Javascript object>"
      ]
     },
     "metadata": {},
     "output_type": "display_data"
    },
    {
     "data": {
      "text/markdown": [
       "<span style=\"color:#cc3333\">Incorrect:</span> Given `have_umbrella=True`, `rain_level=0.0`, `have_hood=False`, `is_workday=True`, `prepared_for_weather` returned `True`. But I think that's correct. (We want inputs that lead to an incorrect result from `prepared_for_weather`.)"
      ],
      "text/plain": [
       "Incorrect: Given `have_umbrella=True`, `rain_level=0.0`, `have_hood=False`, `is_workday=True`, `prepared_for_weather` returned `True`. But I think that's correct. (We want inputs that lead to an incorrect result from `prepared_for_weather`.)"
      ]
     },
     "metadata": {},
     "output_type": "display_data"
    }
   ],
   "source": [
    "def prepared_for_weather(have_umbrella, rain_level, have_hood, is_workday):\n",
    "    # Don't change this code. Our goal is just to find the bug, not fix it!\n",
    "    return have_umbrella or rain_level < 5 and have_hood or not rain_level > 0 and is_workday\n",
    "\n",
    "# Change the values of these inputs so they represent a case where prepared_for_weather\n",
    "# returns the wrong answer.\n",
    "have_umbrella = True\n",
    "rain_level = 0.0\n",
    "have_hood = False\n",
    "is_workday = True\n",
    "\n",
    "# Check what the function returns given the current values of the variables above\n",
    "actual = prepared_for_weather(have_umbrella, rain_level, have_hood, is_workday)\n",
    "print(actual)\n",
    "\n",
    "# Check your answer\n",
    "q3.check()"
   ]
  },
  {
   "cell_type": "code",
   "execution_count": 9,
   "id": "f0cdf0cc",
   "metadata": {
    "execution": {
     "iopub.execute_input": "2021-08-10T07:17:47.247843Z",
     "iopub.status.busy": "2021-08-10T07:17:47.247206Z",
     "iopub.status.idle": "2021-08-10T07:17:47.259145Z",
     "shell.execute_reply": "2021-08-10T07:17:47.258536Z",
     "shell.execute_reply.started": "2021-08-09T21:54:10.384942Z"
    },
    "papermill": {
     "duration": 0.047338,
     "end_time": "2021-08-10T07:17:47.259293",
     "exception": false,
     "start_time": "2021-08-10T07:17:47.211955",
     "status": "completed"
    },
    "tags": []
   },
   "outputs": [
    {
     "data": {
      "application/javascript": [
       "parent.postMessage({\"jupyterEvent\": \"custom.exercise_interaction\", \"data\": {\"interactionType\": 2, \"questionType\": 1, \"questionId\": \"3_WeatherDebug\", \"learnToolsVersion\": \"0.3.4\", \"valueTowardsCompletion\": 0.0, \"failureMessage\": \"\", \"exceptionClass\": \"\", \"trace\": \"\", \"outcomeType\": 4}}, \"*\")"
      ],
      "text/plain": [
       "<IPython.core.display.Javascript object>"
      ]
     },
     "metadata": {},
     "output_type": "display_data"
    },
    {
     "data": {
      "text/markdown": [
       "<span style=\"color:#3366cc\">Hint:</span> Take a look at how we fixed our original expression in the main lesson. We added parentheses around certain subexpressions. The bug in this code is caused by Python evaluating certain operations in the \"wrong\" order."
      ],
      "text/plain": [
       "Hint: Take a look at how we fixed our original expression in the main lesson. We added parentheses around certain subexpressions. The bug in this code is caused by Python evaluating certain operations in the \"wrong\" order."
      ]
     },
     "metadata": {},
     "output_type": "display_data"
    },
    {
     "data": {
      "application/javascript": [
       "parent.postMessage({\"jupyterEvent\": \"custom.exercise_interaction\", \"data\": {\"interactionType\": 3, \"questionType\": 1, \"questionId\": \"3_WeatherDebug\", \"learnToolsVersion\": \"0.3.4\", \"valueTowardsCompletion\": 0.0, \"failureMessage\": \"\", \"exceptionClass\": \"\", \"trace\": \"\", \"outcomeType\": 4}}, \"*\")"
      ],
      "text/plain": [
       "<IPython.core.display.Javascript object>"
      ]
     },
     "metadata": {},
     "output_type": "display_data"
    },
    {
     "data": {
      "text/markdown": [
       "<span style=\"color:#33cc99\">Solution:</span> One example of a failing test case is:\n",
       "\n",
       "```python\n",
       "have_umbrella = False\n",
       "rain_level = 0.0\n",
       "have_hood = False\n",
       "is_workday = False\n",
       "```\n",
       "\n",
       "Clearly we're prepared for the weather in this case. It's not raining. Not only that, it's not a workday, so we don't even need to leave the house! But our function will return False on these inputs.\n",
       "\n",
       "The key problem is that Python implictly parenthesizes the last part as:\n",
       "\n",
       "```python\n",
       "(not (rain_level > 0)) and is_workday\n",
       "```\n",
       "\n",
       "Whereas what we were trying to express would look more like:\n",
       "\n",
       "```python\n",
       "not (rain_level > 0 and is_workday)\n",
       "```\n"
      ],
      "text/plain": [
       "Solution: One example of a failing test case is:\n",
       "\n",
       "```python\n",
       "have_umbrella = False\n",
       "rain_level = 0.0\n",
       "have_hood = False\n",
       "is_workday = False\n",
       "```\n",
       "\n",
       "Clearly we're prepared for the weather in this case. It's not raining. Not only that, it's not a workday, so we don't even need to leave the house! But our function will return False on these inputs.\n",
       "\n",
       "The key problem is that Python implictly parenthesizes the last part as:\n",
       "\n",
       "```python\n",
       "(not (rain_level > 0)) and is_workday\n",
       "```\n",
       "\n",
       "Whereas what we were trying to express would look more like:\n",
       "\n",
       "```python\n",
       "not (rain_level > 0 and is_workday)\n",
       "```"
      ]
     },
     "metadata": {},
     "output_type": "display_data"
    }
   ],
   "source": [
    "q3.hint()\n",
    "q3.solution()"
   ]
  },
  {
   "cell_type": "markdown",
   "id": "e0918ecf",
   "metadata": {
    "papermill": {
     "duration": 0.034747,
     "end_time": "2021-08-10T07:17:47.329488",
     "exception": false,
     "start_time": "2021-08-10T07:17:47.294741",
     "status": "completed"
    },
    "tags": []
   },
   "source": [
    "# 4.\n",
    "\n",
    "The function `is_negative` below is implemented correctly - it returns True if the given number is negative and False otherwise.\n",
    "\n",
    "However, it's more verbose than it needs to be. We can actually reduce the number of lines of code in this function by *75%* while keeping the same behaviour. \n",
    "\n",
    "See if you can come up with an equivalent body that uses just **one line** of code, and put it in the function `concise_is_negative`. (HINT: you don't even need Python's ternary syntax)"
   ]
  },
  {
   "cell_type": "code",
   "execution_count": 10,
   "id": "ecedf9df",
   "metadata": {
    "execution": {
     "iopub.execute_input": "2021-08-10T07:17:47.405699Z",
     "iopub.status.busy": "2021-08-10T07:17:47.405024Z",
     "iopub.status.idle": "2021-08-10T07:17:47.409728Z",
     "shell.execute_reply": "2021-08-10T07:17:47.410249Z",
     "shell.execute_reply.started": "2021-08-09T22:00:34.736518Z"
    },
    "papermill": {
     "duration": 0.045843,
     "end_time": "2021-08-10T07:17:47.410403",
     "exception": false,
     "start_time": "2021-08-10T07:17:47.364560",
     "status": "completed"
    },
    "tags": []
   },
   "outputs": [
    {
     "data": {
      "application/javascript": [
       "parent.postMessage({\"jupyterEvent\": \"custom.exercise_interaction\", \"data\": {\"outcomeType\": 1, \"valueTowardsCompletion\": 0.2, \"interactionType\": 1, \"questionType\": 2, \"questionId\": \"4_ConciseIsNegative\", \"learnToolsVersion\": \"0.3.4\", \"failureMessage\": \"\", \"exceptionClass\": \"\", \"trace\": \"\"}}, \"*\")"
      ],
      "text/plain": [
       "<IPython.core.display.Javascript object>"
      ]
     },
     "metadata": {},
     "output_type": "display_data"
    },
    {
     "data": {
      "text/markdown": [
       "<span style=\"color:#33cc33\">Correct</span>"
      ],
      "text/plain": [
       "Correct"
      ]
     },
     "metadata": {},
     "output_type": "display_data"
    }
   ],
   "source": [
    "def is_negative(number):\n",
    "    if number < 0:\n",
    "        return True\n",
    "    else:\n",
    "        return False\n",
    "\n",
    "def concise_is_negative(number):\n",
    "    return number < 0  # Your code goes here (try to keep it to one line!)\n",
    "\n",
    "# Check your answer\n",
    "q4.check()"
   ]
  },
  {
   "cell_type": "code",
   "execution_count": 11,
   "id": "bd57cc66",
   "metadata": {
    "execution": {
     "iopub.execute_input": "2021-08-10T07:17:47.489435Z",
     "iopub.status.busy": "2021-08-10T07:17:47.488455Z",
     "iopub.status.idle": "2021-08-10T07:17:47.500089Z",
     "shell.execute_reply": "2021-08-10T07:17:47.499534Z",
     "shell.execute_reply.started": "2021-08-10T07:10:35.881549Z"
    },
    "papermill": {
     "duration": 0.053929,
     "end_time": "2021-08-10T07:17:47.500234",
     "exception": false,
     "start_time": "2021-08-10T07:17:47.446305",
     "status": "completed"
    },
    "tags": []
   },
   "outputs": [
    {
     "data": {
      "application/javascript": [
       "parent.postMessage({\"jupyterEvent\": \"custom.exercise_interaction\", \"data\": {\"interactionType\": 2, \"questionType\": 2, \"questionId\": \"4_ConciseIsNegative\", \"learnToolsVersion\": \"0.3.4\", \"valueTowardsCompletion\": 0.0, \"failureMessage\": \"\", \"exceptionClass\": \"\", \"trace\": \"\", \"outcomeType\": 4}}, \"*\")"
      ],
      "text/plain": [
       "<IPython.core.display.Javascript object>"
      ]
     },
     "metadata": {},
     "output_type": "display_data"
    },
    {
     "data": {
      "text/markdown": [
       "<span style=\"color:#3366cc\">Hint:</span> If the value of the expression `number < 0` is `True`, then we return `True`. If it's `False`, then we return `False`..."
      ],
      "text/plain": [
       "Hint: If the value of the expression `number < 0` is `True`, then we return `True`. If it's `False`, then we return `False`..."
      ]
     },
     "metadata": {},
     "output_type": "display_data"
    },
    {
     "data": {
      "application/javascript": [
       "parent.postMessage({\"jupyterEvent\": \"custom.exercise_interaction\", \"data\": {\"interactionType\": 3, \"questionType\": 2, \"questionId\": \"4_ConciseIsNegative\", \"learnToolsVersion\": \"0.3.4\", \"valueTowardsCompletion\": 0.0, \"failureMessage\": \"\", \"exceptionClass\": \"\", \"trace\": \"\", \"outcomeType\": 4}}, \"*\")"
      ],
      "text/plain": [
       "<IPython.core.display.Javascript object>"
      ]
     },
     "metadata": {},
     "output_type": "display_data"
    },
    {
     "data": {
      "text/markdown": [
       "<span style=\"color:#33cc99\">Solution:</span> \n",
       "```python\n",
       "return number < 0\n",
       "```"
      ],
      "text/plain": [
       "Solution: \n",
       "```python\n",
       "return number < 0\n",
       "```"
      ]
     },
     "metadata": {},
     "output_type": "display_data"
    }
   ],
   "source": [
    "q4.hint()\n",
    "q4.solution()"
   ]
  },
  {
   "cell_type": "markdown",
   "id": "f4731b5b",
   "metadata": {
    "papermill": {
     "duration": 0.048498,
     "end_time": "2021-08-10T07:17:47.596913",
     "exception": false,
     "start_time": "2021-08-10T07:17:47.548415",
     "status": "completed"
    },
    "tags": []
   },
   "source": [
    "# 5a.\n",
    "\n",
    "The boolean variables `ketchup`, `mustard` and `onion` represent whether a customer wants a particular topping on their hot dog. We want to implement a number of boolean functions that correspond to some yes-or-no questions about the customer's order. For example:"
   ]
  },
  {
   "cell_type": "code",
   "execution_count": 12,
   "id": "fcf6456e",
   "metadata": {
    "execution": {
     "iopub.execute_input": "2021-08-10T07:17:47.678397Z",
     "iopub.status.busy": "2021-08-10T07:17:47.677726Z",
     "iopub.status.idle": "2021-08-10T07:17:47.680645Z",
     "shell.execute_reply": "2021-08-10T07:17:47.680019Z",
     "shell.execute_reply.started": "2021-08-10T07:10:38.422524Z"
    },
    "papermill": {
     "duration": 0.045569,
     "end_time": "2021-08-10T07:17:47.680774",
     "exception": false,
     "start_time": "2021-08-10T07:17:47.635205",
     "status": "completed"
    },
    "tags": []
   },
   "outputs": [],
   "source": [
    "def onionless(ketchup, mustard, onion):\n",
    "    \"\"\"Return whether the customer doesn't want onions.\n",
    "    \"\"\"\n",
    "    return not onion"
   ]
  },
  {
   "cell_type": "code",
   "execution_count": 13,
   "id": "cf954509",
   "metadata": {
    "execution": {
     "iopub.execute_input": "2021-08-10T07:17:47.762228Z",
     "iopub.status.busy": "2021-08-10T07:17:47.761599Z",
     "iopub.status.idle": "2021-08-10T07:17:47.767120Z",
     "shell.execute_reply": "2021-08-10T07:17:47.766522Z",
     "shell.execute_reply.started": "2021-08-10T07:10:40.717259Z"
    },
    "papermill": {
     "duration": 0.048292,
     "end_time": "2021-08-10T07:17:47.767251",
     "exception": false,
     "start_time": "2021-08-10T07:17:47.718959",
     "status": "completed"
    },
    "tags": []
   },
   "outputs": [
    {
     "data": {
      "application/javascript": [
       "parent.postMessage({\"jupyterEvent\": \"custom.exercise_interaction\", \"data\": {\"outcomeType\": 1, \"valueTowardsCompletion\": 0.2, \"interactionType\": 1, \"questionType\": 2, \"questionId\": \"5.1_AllToppings\", \"learnToolsVersion\": \"0.3.4\", \"failureMessage\": \"\", \"exceptionClass\": \"\", \"trace\": \"\"}}, \"*\")"
      ],
      "text/plain": [
       "<IPython.core.display.Javascript object>"
      ]
     },
     "metadata": {},
     "output_type": "display_data"
    },
    {
     "data": {
      "text/markdown": [
       "<span style=\"color:#33cc33\">Correct</span>"
      ],
      "text/plain": [
       "Correct"
      ]
     },
     "metadata": {},
     "output_type": "display_data"
    }
   ],
   "source": [
    "def wants_all_toppings(ketchup, mustard, onion):\n",
    "    \"\"\"Return whether the customer wants \"the works\" (all 3 toppings)\n",
    "    \"\"\"\n",
    "    return ketchup == mustard == onion == True\n",
    "\n",
    "# Check your answer\n",
    "q5.a.check()"
   ]
  },
  {
   "cell_type": "code",
   "execution_count": 14,
   "id": "33add0a9",
   "metadata": {
    "execution": {
     "iopub.execute_input": "2021-08-10T07:17:47.850248Z",
     "iopub.status.busy": "2021-08-10T07:17:47.849611Z",
     "iopub.status.idle": "2021-08-10T07:17:47.852643Z",
     "shell.execute_reply": "2021-08-10T07:17:47.853152Z"
    },
    "papermill": {
     "duration": 0.046608,
     "end_time": "2021-08-10T07:17:47.853303",
     "exception": false,
     "start_time": "2021-08-10T07:17:47.806695",
     "status": "completed"
    },
    "tags": []
   },
   "outputs": [],
   "source": [
    "#q5.a.hint()\n",
    "#q5.a.solution()"
   ]
  },
  {
   "cell_type": "markdown",
   "id": "0faeae79",
   "metadata": {
    "papermill": {
     "duration": 0.038699,
     "end_time": "2021-08-10T07:17:47.931161",
     "exception": false,
     "start_time": "2021-08-10T07:17:47.892462",
     "status": "completed"
    },
    "tags": []
   },
   "source": [
    "# 5b.\n",
    "\n",
    "For the next function, fill in the body to match the English description in the docstring. "
   ]
  },
  {
   "cell_type": "code",
   "execution_count": 15,
   "id": "6770ab22",
   "metadata": {
    "execution": {
     "iopub.execute_input": "2021-08-10T07:17:48.012167Z",
     "iopub.status.busy": "2021-08-10T07:17:48.011431Z",
     "iopub.status.idle": "2021-08-10T07:17:48.021114Z",
     "shell.execute_reply": "2021-08-10T07:17:48.020500Z",
     "shell.execute_reply.started": "2021-08-10T07:12:30.040962Z"
    },
    "papermill": {
     "duration": 0.051399,
     "end_time": "2021-08-10T07:17:48.021253",
     "exception": false,
     "start_time": "2021-08-10T07:17:47.969854",
     "status": "completed"
    },
    "tags": []
   },
   "outputs": [
    {
     "name": "stdout",
     "output_type": "stream",
     "text": [
      "Plain hot dog with no toppings\n"
     ]
    },
    {
     "data": {
      "application/javascript": [
       "parent.postMessage({\"jupyterEvent\": \"custom.exercise_interaction\", \"data\": {\"outcomeType\": 1, \"valueTowardsCompletion\": 0.2, \"interactionType\": 1, \"questionType\": 2, \"questionId\": \"5.2_PlainDog\", \"learnToolsVersion\": \"0.3.4\", \"failureMessage\": \"\", \"exceptionClass\": \"\", \"trace\": \"\"}}, \"*\")"
      ],
      "text/plain": [
       "<IPython.core.display.Javascript object>"
      ]
     },
     "metadata": {},
     "output_type": "display_data"
    },
    {
     "data": {
      "text/markdown": [
       "<span style=\"color:#33cc33\">Correct:</span> \n",
       "\n",
       "One solution looks like:\n",
       "```python\n",
       "return not ketchup and not mustard and not onion\n",
       "```\n",
       "\n",
       "We can also [\"factor out\" the nots](https://en.wikipedia.org/wiki/De_Morgan%27s_laws) to get:\n",
       "\n",
       "```python\n",
       "return not (ketchup or mustard or onion)\n",
       "```"
      ],
      "text/plain": [
       "Correct: \n",
       "\n",
       "One solution looks like:\n",
       "```python\n",
       "return not ketchup and not mustard and not onion\n",
       "```\n",
       "\n",
       "We can also [\"factor out\" the nots](https://en.wikipedia.org/wiki/De_Morgan%27s_laws) to get:\n",
       "\n",
       "```python\n",
       "return not (ketchup or mustard or onion)\n",
       "```"
      ]
     },
     "metadata": {},
     "output_type": "display_data"
    }
   ],
   "source": [
    "def wants_plain_hotdog(ketchup, mustard, onion):\n",
    "    \"\"\"Return whether the customer wants a plain hot dog with no toppings.\n",
    "    \"\"\"\n",
    "    if ketchup == mustard == onion == False:\n",
    "        print(\"Plain hot dog with no toppings\")\n",
    "        return True\n",
    "    else :\n",
    "        return False\n",
    "    \n",
    "    \n",
    "# Check your answer\n",
    "q5.b.check()"
   ]
  },
  {
   "cell_type": "code",
   "execution_count": 16,
   "id": "1b27f2eb",
   "metadata": {
    "execution": {
     "iopub.execute_input": "2021-08-10T07:17:48.107670Z",
     "iopub.status.busy": "2021-08-10T07:17:48.106721Z",
     "iopub.status.idle": "2021-08-10T07:17:48.113946Z",
     "shell.execute_reply": "2021-08-10T07:17:48.113361Z",
     "shell.execute_reply.started": "2021-08-10T07:12:33.816902Z"
    },
    "papermill": {
     "duration": 0.052364,
     "end_time": "2021-08-10T07:17:48.114082",
     "exception": false,
     "start_time": "2021-08-10T07:17:48.061718",
     "status": "completed"
    },
    "tags": []
   },
   "outputs": [
    {
     "data": {
      "application/javascript": [
       "parent.postMessage({\"jupyterEvent\": \"custom.exercise_interaction\", \"data\": {\"interactionType\": 2, \"questionType\": 2, \"questionId\": \"5.2_PlainDog\", \"learnToolsVersion\": \"0.3.4\", \"valueTowardsCompletion\": 0.0, \"failureMessage\": \"\", \"exceptionClass\": \"\", \"trace\": \"\", \"outcomeType\": 4}}, \"*\")"
      ],
      "text/plain": [
       "<IPython.core.display.Javascript object>"
      ]
     },
     "metadata": {},
     "output_type": "display_data"
    },
    {
     "data": {
      "text/markdown": [
       "<span style=\"color:#3366cc\">Hint:</span> You'll need to use the `not` operator."
      ],
      "text/plain": [
       "Hint: You'll need to use the `not` operator."
      ]
     },
     "metadata": {},
     "output_type": "display_data"
    }
   ],
   "source": [
    "q5.b.hint()\n",
    "#q5.b.solution()"
   ]
  },
  {
   "cell_type": "markdown",
   "id": "1717c8b3",
   "metadata": {
    "papermill": {
     "duration": 0.040472,
     "end_time": "2021-08-10T07:17:48.195573",
     "exception": false,
     "start_time": "2021-08-10T07:17:48.155101",
     "status": "completed"
    },
    "tags": []
   },
   "source": [
    "# 5c.\n",
    "\n",
    "You know what to do: for the next function, fill in the body to match the English description in the docstring."
   ]
  },
  {
   "cell_type": "code",
   "execution_count": 17,
   "id": "44a69813",
   "metadata": {
    "execution": {
     "iopub.execute_input": "2021-08-10T07:17:48.284830Z",
     "iopub.status.busy": "2021-08-10T07:17:48.284139Z",
     "iopub.status.idle": "2021-08-10T07:17:48.289498Z",
     "shell.execute_reply": "2021-08-10T07:17:48.289007Z",
     "shell.execute_reply.started": "2021-08-10T07:14:59.177065Z"
    },
    "papermill": {
     "duration": 0.052201,
     "end_time": "2021-08-10T07:17:48.289661",
     "exception": false,
     "start_time": "2021-08-10T07:17:48.237460",
     "status": "completed"
    },
    "tags": []
   },
   "outputs": [
    {
     "data": {
      "application/javascript": [
       "parent.postMessage({\"jupyterEvent\": \"custom.exercise_interaction\", \"data\": {\"outcomeType\": 1, \"valueTowardsCompletion\": 0.2, \"interactionType\": 1, \"questionType\": 2, \"questionId\": \"5.3_OneSauce\", \"learnToolsVersion\": \"0.3.4\", \"failureMessage\": \"\", \"exceptionClass\": \"\", \"trace\": \"\"}}, \"*\")"
      ],
      "text/plain": [
       "<IPython.core.display.Javascript object>"
      ]
     },
     "metadata": {},
     "output_type": "display_data"
    },
    {
     "data": {
      "text/markdown": [
       "<span style=\"color:#33cc33\">Correct</span>"
      ],
      "text/plain": [
       "Correct"
      ]
     },
     "metadata": {},
     "output_type": "display_data"
    }
   ],
   "source": [
    "def exactly_one_sauce(ketchup, mustard, onion):\n",
    "    \"\"\"Return whether the customer wants either ketchup or mustard, but not both.\n",
    "    (You may be familiar with this operation under the name \"exclusive or\")\n",
    "    \"\"\"\n",
    "    return (ketchup and not mustard) or (mustard and not ketchup)\n",
    "\n",
    "# Check your answer\n",
    "q5.c.check()"
   ]
  },
  {
   "cell_type": "code",
   "execution_count": 18,
   "id": "1ab2252b",
   "metadata": {
    "execution": {
     "iopub.execute_input": "2021-08-10T07:17:48.379614Z",
     "iopub.status.busy": "2021-08-10T07:17:48.378916Z",
     "iopub.status.idle": "2021-08-10T07:17:48.384904Z",
     "shell.execute_reply": "2021-08-10T07:17:48.384288Z",
     "shell.execute_reply.started": "2021-08-10T07:14:56.480549Z"
    },
    "papermill": {
     "duration": 0.053289,
     "end_time": "2021-08-10T07:17:48.385047",
     "exception": false,
     "start_time": "2021-08-10T07:17:48.331758",
     "status": "completed"
    },
    "tags": []
   },
   "outputs": [
    {
     "data": {
      "application/javascript": [
       "parent.postMessage({\"jupyterEvent\": \"custom.exercise_interaction\", \"data\": {\"interactionType\": 2, \"questionType\": 2, \"questionId\": \"5.3_OneSauce\", \"learnToolsVersion\": \"0.3.4\", \"valueTowardsCompletion\": 0.0, \"failureMessage\": \"\", \"exceptionClass\": \"\", \"trace\": \"\", \"outcomeType\": 4}}, \"*\")"
      ],
      "text/plain": [
       "<IPython.core.display.Javascript object>"
      ]
     },
     "metadata": {},
     "output_type": "display_data"
    },
    {
     "data": {
      "text/markdown": [
       "<span style=\"color:#3366cc\">Hint:</span> There are exactly two ways to set ketchup and mustard to make this true. What are they?"
      ],
      "text/plain": [
       "Hint: There are exactly two ways to set ketchup and mustard to make this true. What are they?"
      ]
     },
     "metadata": {},
     "output_type": "display_data"
    }
   ],
   "source": [
    "q5.c.hint()\n",
    "# q5.c.solution()"
   ]
  },
  {
   "cell_type": "markdown",
   "id": "c2b3f2a2",
   "metadata": {
    "papermill": {
     "duration": 0.043384,
     "end_time": "2021-08-10T07:17:48.472708",
     "exception": false,
     "start_time": "2021-08-10T07:17:48.429324",
     "status": "completed"
    },
    "tags": []
   },
   "source": [
    "# 6. <span title=\"A bit spicy\" style=\"color: darkgreen \">🌶️</span>\n",
    "\n",
    "We’ve seen that calling `bool()` on an integer returns `False` if it’s equal to 0 and `True` otherwise. What happens if we call `int()` on a bool? Try it out in the notebook cell below.\n",
    "\n",
    "Can you take advantage of this to write a succinct function that corresponds to the English sentence \"does the customer want exactly one topping?\"?"
   ]
  },
  {
   "cell_type": "code",
   "execution_count": 19,
   "id": "8fe77b03",
   "metadata": {
    "execution": {
     "iopub.execute_input": "2021-08-10T07:17:48.565254Z",
     "iopub.status.busy": "2021-08-10T07:17:48.564601Z",
     "iopub.status.idle": "2021-08-10T07:17:48.569770Z",
     "shell.execute_reply": "2021-08-10T07:17:48.569151Z",
     "shell.execute_reply.started": "2021-08-10T07:17:14.191409Z"
    },
    "papermill": {
     "duration": 0.053418,
     "end_time": "2021-08-10T07:17:48.569901",
     "exception": false,
     "start_time": "2021-08-10T07:17:48.516483",
     "status": "completed"
    },
    "tags": []
   },
   "outputs": [
    {
     "data": {
      "application/javascript": [
       "parent.postMessage({\"jupyterEvent\": \"custom.exercise_interaction\", \"data\": {\"outcomeType\": 1, \"valueTowardsCompletion\": 0.2, \"interactionType\": 1, \"questionType\": 2, \"questionId\": \"6_OneTopping\", \"learnToolsVersion\": \"0.3.4\", \"failureMessage\": \"\", \"exceptionClass\": \"\", \"trace\": \"\"}}, \"*\")"
      ],
      "text/plain": [
       "<IPython.core.display.Javascript object>"
      ]
     },
     "metadata": {},
     "output_type": "display_data"
    },
    {
     "data": {
      "text/markdown": [
       "<span style=\"color:#33cc33\">Correct:</span> \n",
       "\n",
       "This condition would be pretty complicated to express using just `and`, `or` and `not`, but using boolean-to-integer conversion gives us this short solution:\n",
       "```python\n",
       "return (int(ketchup) + int(mustard) + int(onion)) == 1\n",
       "```\n",
       "\n",
       "Fun fact: we don't technically need to call `int` on the arguments. Just by doing addition with booleans, Python implicitly does the integer conversion. So we could also write...\n",
       "\n",
       "```python\n",
       "return (ketchup + mustard + onion) == 1\n",
       "```"
      ],
      "text/plain": [
       "Correct: \n",
       "\n",
       "This condition would be pretty complicated to express using just `and`, `or` and `not`, but using boolean-to-integer conversion gives us this short solution:\n",
       "```python\n",
       "return (int(ketchup) + int(mustard) + int(onion)) == 1\n",
       "```\n",
       "\n",
       "Fun fact: we don't technically need to call `int` on the arguments. Just by doing addition with booleans, Python implicitly does the integer conversion. So we could also write...\n",
       "\n",
       "```python\n",
       "return (ketchup + mustard + onion) == 1\n",
       "```"
      ]
     },
     "metadata": {},
     "output_type": "display_data"
    }
   ],
   "source": [
    "def exactly_one_topping(ketchup, mustard, onion):\n",
    "    \"\"\"Return whether the customer wants exactly one of the three available toppings\n",
    "    on their hot dog.\n",
    "    \"\"\"\n",
    "    if int(ketchup) + int(mustard) + int(onion) == 1:\n",
    "        return True\n",
    "    else:\n",
    "        return False\n",
    "    \n",
    "    \n",
    "\n",
    "# Check your answer\n",
    "q6.check()"
   ]
  },
  {
   "cell_type": "code",
   "execution_count": 20,
   "id": "790106e4",
   "metadata": {
    "execution": {
     "iopub.execute_input": "2021-08-10T07:17:48.663030Z",
     "iopub.status.busy": "2021-08-10T07:17:48.662251Z",
     "iopub.status.idle": "2021-08-10T07:17:48.668249Z",
     "shell.execute_reply": "2021-08-10T07:17:48.667766Z",
     "shell.execute_reply.started": "2021-08-10T07:15:45.053903Z"
    },
    "papermill": {
     "duration": 0.05404,
     "end_time": "2021-08-10T07:17:48.668379",
     "exception": false,
     "start_time": "2021-08-10T07:17:48.614339",
     "status": "completed"
    },
    "tags": []
   },
   "outputs": [
    {
     "data": {
      "application/javascript": [
       "parent.postMessage({\"jupyterEvent\": \"custom.exercise_interaction\", \"data\": {\"interactionType\": 2, \"questionType\": 2, \"questionId\": \"6_OneTopping\", \"learnToolsVersion\": \"0.3.4\", \"valueTowardsCompletion\": 0.0, \"failureMessage\": \"\", \"exceptionClass\": \"\", \"trace\": \"\", \"outcomeType\": 4}}, \"*\")"
      ],
      "text/plain": [
       "<IPython.core.display.Javascript object>"
      ]
     },
     "metadata": {},
     "output_type": "display_data"
    },
    {
     "data": {
      "text/markdown": [
       "<span style=\"color:#3366cc\">Hint:</span> You may have already found that `int(True)` is 1, and `int(False)` is 0. Think about what kinds of basic arithmetic operations you might want to perform on `ketchup`, `mustard`, and `onion` after converting them to integers."
      ],
      "text/plain": [
       "Hint: You may have already found that `int(True)` is 1, and `int(False)` is 0. Think about what kinds of basic arithmetic operations you might want to perform on `ketchup`, `mustard`, and `onion` after converting them to integers."
      ]
     },
     "metadata": {},
     "output_type": "display_data"
    }
   ],
   "source": [
    "q6.hint()\n",
    "#q6.solution()"
   ]
  },
  {
   "cell_type": "markdown",
   "id": "60866db2",
   "metadata": {
    "papermill": {
     "duration": 0.044285,
     "end_time": "2021-08-10T07:17:48.758044",
     "exception": false,
     "start_time": "2021-08-10T07:17:48.713759",
     "status": "completed"
    },
    "tags": []
   },
   "source": [
    "# 7. <span title=\"A bit spicy\" style=\"color: darkgreen \">🌶️</span> (Optional)\n",
    "\n",
    "In this problem we'll be working with a simplified version of [blackjack](https://en.wikipedia.org/wiki/Blackjack) (aka twenty-one). In this version there is one player (who you'll control) and a dealer. Play proceeds as follows:\n",
    "\n",
    "- The player is dealt two face-up cards. The dealer is dealt one face-up card.\n",
    "- The player may ask to be dealt another card ('hit') as many times as they wish. If the sum of their cards exceeds 21, they lose the round immediately.\n",
    "- The dealer then deals additional cards to himself until either:\n",
    "    - the sum of the dealer's cards exceeds 21, in which case the player wins the round\n",
    "    - the sum of the dealer's cards is greater than or equal to 17. If the player's total is greater than the dealer's, the player wins. Otherwise, the dealer wins (even in case of a tie).\n",
    "    \n",
    "When calculating the sum of cards, Jack, Queen, and King count for 10. Aces can count as 1 or 11 (when referring to a player's \"total\" above, we mean the largest total that can be made without exceeding 21. So e.g. A+8 = 19, A+8+8 = 17)\n",
    "\n",
    "For this problem, you'll write a function representing the player's decision-making strategy in this game. We've provided a very unintelligent implementation below:"
   ]
  },
  {
   "cell_type": "code",
   "execution_count": 21,
   "id": "e3ab7a62",
   "metadata": {
    "execution": {
     "iopub.execute_input": "2021-08-10T07:17:48.852992Z",
     "iopub.status.busy": "2021-08-10T07:17:48.852363Z",
     "iopub.status.idle": "2021-08-10T07:17:48.854915Z",
     "shell.execute_reply": "2021-08-10T07:17:48.855341Z"
    },
    "papermill": {
     "duration": 0.052217,
     "end_time": "2021-08-10T07:17:48.855482",
     "exception": false,
     "start_time": "2021-08-10T07:17:48.803265",
     "status": "completed"
    },
    "tags": []
   },
   "outputs": [],
   "source": [
    "def should_hit(dealer_total, player_total, player_low_aces, player_high_aces):\n",
    "    \"\"\"Return True if the player should hit (request another card) given the current game\n",
    "    state, or False if the player should stay.\n",
    "    When calculating a hand's total value, we count aces as \"high\" (with value 11) if doing so\n",
    "    doesn't bring the total above 21, otherwise we count them as low (with value 1). \n",
    "    For example, if the player's hand is {A, A, A, 7}, we will count it as 11 + 1 + 1 + 7,\n",
    "    and therefore set player_total=20, player_low_aces=2, player_high_aces=1.\n",
    "    \"\"\"\n",
    "    return False"
   ]
  },
  {
   "cell_type": "markdown",
   "id": "eb2ffc15",
   "metadata": {
    "papermill": {
     "duration": 0.044968,
     "end_time": "2021-08-10T07:17:48.945582",
     "exception": false,
     "start_time": "2021-08-10T07:17:48.900614",
     "status": "completed"
    },
    "tags": []
   },
   "source": [
    "This very conservative agent *always* sticks with the hand of two cards that they're dealt.\n",
    "\n",
    "We'll be simulating games between your player agent and our own dealer agent by calling your function.\n",
    "\n",
    "Try running the function below to see an example of a simulated game:"
   ]
  },
  {
   "cell_type": "code",
   "execution_count": 22,
   "id": "1483da2f",
   "metadata": {
    "execution": {
     "iopub.execute_input": "2021-08-10T07:17:49.042980Z",
     "iopub.status.busy": "2021-08-10T07:17:49.042295Z",
     "iopub.status.idle": "2021-08-10T07:17:49.047792Z",
     "shell.execute_reply": "2021-08-10T07:17:49.046986Z"
    },
    "papermill": {
     "duration": 0.056855,
     "end_time": "2021-08-10T07:17:49.047971",
     "exception": false,
     "start_time": "2021-08-10T07:17:48.991116",
     "status": "completed"
    },
    "tags": []
   },
   "outputs": [
    {
     "name": "stdout",
     "output_type": "stream",
     "text": [
      "Player starts with 7 and 9 (total = 16)\n",
      "Dealer starts with 6\n",
      "\n",
      "__Player's turn__\n",
      "Player stays\n",
      "\n",
      "__Dealer's turn__\n",
      "Dealer hits and receives 2. (total = 8)\n",
      "Dealer hits and receives 3. (total = 11)\n",
      "Dealer hits and receives 3. (total = 14)\n",
      "Dealer hits and receives 8. (total = 22)\n",
      "Dealer busts! Player wins.\n"
     ]
    }
   ],
   "source": [
    "q7.simulate_one_game()"
   ]
  },
  {
   "cell_type": "markdown",
   "id": "4fb52394",
   "metadata": {
    "papermill": {
     "duration": 0.04614,
     "end_time": "2021-08-10T07:17:49.140871",
     "exception": false,
     "start_time": "2021-08-10T07:17:49.094731",
     "status": "completed"
    },
    "tags": []
   },
   "source": [
    "The real test of your agent's mettle is their average win rate over many games. Try calling the function below to simulate 50000 games of blackjack (it may take a couple seconds):"
   ]
  },
  {
   "cell_type": "code",
   "execution_count": 23,
   "id": "63622f52",
   "metadata": {
    "execution": {
     "iopub.execute_input": "2021-08-10T07:17:49.263278Z",
     "iopub.status.busy": "2021-08-10T07:17:49.253153Z",
     "iopub.status.idle": "2021-08-10T07:17:51.212052Z",
     "shell.execute_reply": "2021-08-10T07:17:51.212560Z"
    },
    "papermill": {
     "duration": 2.026849,
     "end_time": "2021-08-10T07:17:51.212746",
     "exception": false,
     "start_time": "2021-08-10T07:17:49.185897",
     "status": "completed"
    },
    "tags": []
   },
   "outputs": [
    {
     "name": "stdout",
     "output_type": "stream",
     "text": [
      "Player won 18902 out of 50000 games (win rate = 37.8%)\n"
     ]
    }
   ],
   "source": [
    "q7.simulate(n_games=50000)"
   ]
  },
  {
   "cell_type": "markdown",
   "id": "50f282e3",
   "metadata": {
    "papermill": {
     "duration": 0.049243,
     "end_time": "2021-08-10T07:17:51.310113",
     "exception": false,
     "start_time": "2021-08-10T07:17:51.260870",
     "status": "completed"
    },
    "tags": []
   },
   "source": [
    "Our dumb agent that completely ignores the game state still manages to win shockingly often!\n",
    "\n",
    "Try adding some more smarts to the `should_hit` function and see how it affects the results."
   ]
  },
  {
   "cell_type": "code",
   "execution_count": 24,
   "id": "7bf6205f",
   "metadata": {
    "execution": {
     "iopub.execute_input": "2021-08-10T07:17:51.427995Z",
     "iopub.status.busy": "2021-08-10T07:17:51.422972Z",
     "iopub.status.idle": "2021-08-10T07:17:53.370204Z",
     "shell.execute_reply": "2021-08-10T07:17:53.370752Z"
    },
    "papermill": {
     "duration": 2.013851,
     "end_time": "2021-08-10T07:17:53.370921",
     "exception": false,
     "start_time": "2021-08-10T07:17:51.357070",
     "status": "completed"
    },
    "tags": []
   },
   "outputs": [
    {
     "name": "stdout",
     "output_type": "stream",
     "text": [
      "Player won 19026 out of 50000 games (win rate = 38.1%)\n"
     ]
    }
   ],
   "source": [
    "def should_hit(dealer_total, player_total, player_low_aces, player_high_aces):\n",
    "    \"\"\"Return True if the player should hit (request another card) given the current game\n",
    "    state, or False if the player should stay.\n",
    "    When calculating a hand's total value, we count aces as \"high\" (with value 11) if doing so\n",
    "    doesn't bring the total above 21, otherwise we count them as low (with value 1). \n",
    "    For example, if the player's hand is {A, A, A, 7}, we will count it as 11 + 1 + 1 + 7,\n",
    "    and therefore set player_total=20, player_low_aces=2, player_high_aces=1.\n",
    "    \"\"\"\n",
    "    return False\n",
    "\n",
    "q7.simulate(n_games=50000)"
   ]
  },
  {
   "cell_type": "markdown",
   "id": "43dc4e4b",
   "metadata": {
    "papermill": {
     "duration": 0.04662,
     "end_time": "2021-08-10T07:17:53.464372",
     "exception": false,
     "start_time": "2021-08-10T07:17:53.417752",
     "status": "completed"
    },
    "tags": []
   },
   "source": [
    "# Keep Going\n",
    "\n",
    "Learn about **[lists and tuples](https://www.kaggle.com/colinmorris/lists)** to handle multiple items of data in a systematic way."
   ]
  },
  {
   "cell_type": "markdown",
   "id": "498bd198",
   "metadata": {
    "papermill": {
     "duration": 0.046185,
     "end_time": "2021-08-10T07:17:53.558940",
     "exception": false,
     "start_time": "2021-08-10T07:17:53.512755",
     "status": "completed"
    },
    "tags": []
   },
   "source": [
    "---\n",
    "\n",
    "\n",
    "\n",
    "\n",
    "*Have questions or comments? Visit the [Learn Discussion forum](https://www.kaggle.com/learn-forum/161283) to chat with other Learners.*"
   ]
  }
 ],
 "metadata": {
  "kernelspec": {
   "display_name": "Python 3",
   "language": "python",
   "name": "python3"
  },
  "language_info": {
   "codemirror_mode": {
    "name": "ipython",
    "version": 3
   },
   "file_extension": ".py",
   "mimetype": "text/x-python",
   "name": "python",
   "nbconvert_exporter": "python",
   "pygments_lexer": "ipython3",
   "version": "3.7.10"
  },
  "papermill": {
   "default_parameters": {},
   "duration": 15.750538,
   "end_time": "2021-08-10T07:17:54.216234",
   "environment_variables": {},
   "exception": null,
   "input_path": "__notebook__.ipynb",
   "output_path": "__notebook__.ipynb",
   "parameters": {},
   "start_time": "2021-08-10T07:17:38.465696",
   "version": "2.3.3"
  }
 },
 "nbformat": 4,
 "nbformat_minor": 5
}

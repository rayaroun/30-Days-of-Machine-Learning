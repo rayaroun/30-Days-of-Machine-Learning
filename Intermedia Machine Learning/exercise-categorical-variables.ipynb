{
 "cells": [
  {
   "cell_type": "markdown",
   "id": "e9bd7eec",
   "metadata": {
    "papermill": {
     "duration": 0.032812,
     "end_time": "2021-08-16T23:02:02.584935",
     "exception": false,
     "start_time": "2021-08-16T23:02:02.552123",
     "status": "completed"
    },
    "tags": []
   },
   "source": [
    "**This notebook is an exercise in the [Intermediate Machine Learning](https://www.kaggle.com/learn/intermediate-machine-learning) course.  You can reference the tutorial at [this link](https://www.kaggle.com/alexisbcook/categorical-variables).**\n",
    "\n",
    "---\n"
   ]
  },
  {
   "cell_type": "markdown",
   "id": "c7ee1763",
   "metadata": {
    "papermill": {
     "duration": 0.030519,
     "end_time": "2021-08-16T23:02:02.650105",
     "exception": false,
     "start_time": "2021-08-16T23:02:02.619586",
     "status": "completed"
    },
    "tags": []
   },
   "source": [
    "By encoding **categorical variables**, you'll obtain your best results thus far!\n",
    "\n",
    "# Setup\n",
    "\n",
    "The questions below will give you feedback on your work. Run the following cell to set up the feedback system."
   ]
  },
  {
   "cell_type": "code",
   "execution_count": 1,
   "id": "9e5787ad",
   "metadata": {
    "execution": {
     "iopub.execute_input": "2021-08-16T23:02:02.728605Z",
     "iopub.status.busy": "2021-08-16T23:02:02.727604Z",
     "iopub.status.idle": "2021-08-16T23:02:02.869312Z",
     "shell.execute_reply": "2021-08-16T23:02:02.869819Z",
     "shell.execute_reply.started": "2021-08-16T23:00:49.599754Z"
    },
    "papermill": {
     "duration": 0.189011,
     "end_time": "2021-08-16T23:02:02.870147",
     "exception": false,
     "start_time": "2021-08-16T23:02:02.681136",
     "status": "completed"
    },
    "tags": []
   },
   "outputs": [
    {
     "name": "stdout",
     "output_type": "stream",
     "text": [
      "Setup Complete\n"
     ]
    }
   ],
   "source": [
    "# Set up code checking\n",
    "import os\n",
    "if not os.path.exists(\"../input/train.csv\"):\n",
    "    os.symlink(\"../input/home-data-for-ml-course/train.csv\", \"../input/train.csv\")  \n",
    "    os.symlink(\"../input/home-data-for-ml-course/test.csv\", \"../input/test.csv\") \n",
    "from learntools.core import binder\n",
    "binder.bind(globals())\n",
    "from learntools.ml_intermediate.ex3 import *\n",
    "print(\"Setup Complete\")"
   ]
  },
  {
   "cell_type": "markdown",
   "id": "9ee3e0c1",
   "metadata": {
    "papermill": {
     "duration": 0.031062,
     "end_time": "2021-08-16T23:02:02.931663",
     "exception": false,
     "start_time": "2021-08-16T23:02:02.900601",
     "status": "completed"
    },
    "tags": []
   },
   "source": [
    "In this exercise, you will work with data from the [Housing Prices Competition for Kaggle Learn Users](https://www.kaggle.com/c/home-data-for-ml-course). \n",
    "\n",
    "![Ames Housing dataset image](https://i.imgur.com/lTJVG4e.png)\n",
    "\n",
    "Run the next code cell without changes to load the training and validation sets in `X_train`, `X_valid`, `y_train`, and `y_valid`.  The test set is loaded in `X_test`."
   ]
  },
  {
   "cell_type": "code",
   "execution_count": 2,
   "id": "688c63d4",
   "metadata": {
    "execution": {
     "iopub.execute_input": "2021-08-16T23:02:03.005256Z",
     "iopub.status.busy": "2021-08-16T23:02:03.004331Z",
     "iopub.status.idle": "2021-08-16T23:02:04.107816Z",
     "shell.execute_reply": "2021-08-16T23:02:04.108326Z",
     "shell.execute_reply.started": "2021-08-16T23:00:49.736547Z"
    },
    "papermill": {
     "duration": 1.144204,
     "end_time": "2021-08-16T23:02:04.108512",
     "exception": false,
     "start_time": "2021-08-16T23:02:02.964308",
     "status": "completed"
    },
    "tags": []
   },
   "outputs": [],
   "source": [
    "import pandas as pd\n",
    "from sklearn.model_selection import train_test_split\n",
    "\n",
    "# Read the data\n",
    "X = pd.read_csv('../input/train.csv', index_col='Id') \n",
    "X_test = pd.read_csv('../input/test.csv', index_col='Id')\n",
    "\n",
    "# Remove rows with missing target, separate target from predictors\n",
    "X.dropna(axis=0, subset=['SalePrice'], inplace=True)\n",
    "y = X.SalePrice\n",
    "X.drop(['SalePrice'], axis=1, inplace=True)\n",
    "\n",
    "# To keep things simple, we'll drop columns with missing values\n",
    "cols_with_missing = [col for col in X.columns if X[col].isnull().any()] \n",
    "X.drop(cols_with_missing, axis=1, inplace=True)\n",
    "X_test.drop(cols_with_missing, axis=1, inplace=True)\n",
    "\n",
    "# Break off validation set from training data\n",
    "X_train, X_valid, y_train, y_valid = train_test_split(X, y,\n",
    "                                                      train_size=0.8, test_size=0.2,\n",
    "                                                      random_state=0)"
   ]
  },
  {
   "cell_type": "markdown",
   "id": "d2b72c93",
   "metadata": {
    "papermill": {
     "duration": 0.030263,
     "end_time": "2021-08-16T23:02:04.170418",
     "exception": false,
     "start_time": "2021-08-16T23:02:04.140155",
     "status": "completed"
    },
    "tags": []
   },
   "source": [
    "Use the next code cell to print the first five rows of the data."
   ]
  },
  {
   "cell_type": "code",
   "execution_count": 3,
   "id": "f49db068",
   "metadata": {
    "execution": {
     "iopub.execute_input": "2021-08-16T23:02:04.235876Z",
     "iopub.status.busy": "2021-08-16T23:02:04.234777Z",
     "iopub.status.idle": "2021-08-16T23:02:04.273311Z",
     "shell.execute_reply": "2021-08-16T23:02:04.273959Z",
     "shell.execute_reply.started": "2021-08-16T23:00:50.749207Z"
    },
    "papermill": {
     "duration": 0.073514,
     "end_time": "2021-08-16T23:02:04.274127",
     "exception": false,
     "start_time": "2021-08-16T23:02:04.200613",
     "status": "completed"
    },
    "tags": []
   },
   "outputs": [
    {
     "data": {
      "text/html": [
       "<div>\n",
       "<style scoped>\n",
       "    .dataframe tbody tr th:only-of-type {\n",
       "        vertical-align: middle;\n",
       "    }\n",
       "\n",
       "    .dataframe tbody tr th {\n",
       "        vertical-align: top;\n",
       "    }\n",
       "\n",
       "    .dataframe thead th {\n",
       "        text-align: right;\n",
       "    }\n",
       "</style>\n",
       "<table border=\"1\" class=\"dataframe\">\n",
       "  <thead>\n",
       "    <tr style=\"text-align: right;\">\n",
       "      <th></th>\n",
       "      <th>MSSubClass</th>\n",
       "      <th>MSZoning</th>\n",
       "      <th>LotArea</th>\n",
       "      <th>Street</th>\n",
       "      <th>LotShape</th>\n",
       "      <th>LandContour</th>\n",
       "      <th>Utilities</th>\n",
       "      <th>LotConfig</th>\n",
       "      <th>LandSlope</th>\n",
       "      <th>Neighborhood</th>\n",
       "      <th>...</th>\n",
       "      <th>OpenPorchSF</th>\n",
       "      <th>EnclosedPorch</th>\n",
       "      <th>3SsnPorch</th>\n",
       "      <th>ScreenPorch</th>\n",
       "      <th>PoolArea</th>\n",
       "      <th>MiscVal</th>\n",
       "      <th>MoSold</th>\n",
       "      <th>YrSold</th>\n",
       "      <th>SaleType</th>\n",
       "      <th>SaleCondition</th>\n",
       "    </tr>\n",
       "    <tr>\n",
       "      <th>Id</th>\n",
       "      <th></th>\n",
       "      <th></th>\n",
       "      <th></th>\n",
       "      <th></th>\n",
       "      <th></th>\n",
       "      <th></th>\n",
       "      <th></th>\n",
       "      <th></th>\n",
       "      <th></th>\n",
       "      <th></th>\n",
       "      <th></th>\n",
       "      <th></th>\n",
       "      <th></th>\n",
       "      <th></th>\n",
       "      <th></th>\n",
       "      <th></th>\n",
       "      <th></th>\n",
       "      <th></th>\n",
       "      <th></th>\n",
       "      <th></th>\n",
       "      <th></th>\n",
       "    </tr>\n",
       "  </thead>\n",
       "  <tbody>\n",
       "    <tr>\n",
       "      <th>619</th>\n",
       "      <td>20</td>\n",
       "      <td>RL</td>\n",
       "      <td>11694</td>\n",
       "      <td>Pave</td>\n",
       "      <td>Reg</td>\n",
       "      <td>Lvl</td>\n",
       "      <td>AllPub</td>\n",
       "      <td>Inside</td>\n",
       "      <td>Gtl</td>\n",
       "      <td>NridgHt</td>\n",
       "      <td>...</td>\n",
       "      <td>108</td>\n",
       "      <td>0</td>\n",
       "      <td>0</td>\n",
       "      <td>260</td>\n",
       "      <td>0</td>\n",
       "      <td>0</td>\n",
       "      <td>7</td>\n",
       "      <td>2007</td>\n",
       "      <td>New</td>\n",
       "      <td>Partial</td>\n",
       "    </tr>\n",
       "    <tr>\n",
       "      <th>871</th>\n",
       "      <td>20</td>\n",
       "      <td>RL</td>\n",
       "      <td>6600</td>\n",
       "      <td>Pave</td>\n",
       "      <td>Reg</td>\n",
       "      <td>Lvl</td>\n",
       "      <td>AllPub</td>\n",
       "      <td>Inside</td>\n",
       "      <td>Gtl</td>\n",
       "      <td>NAmes</td>\n",
       "      <td>...</td>\n",
       "      <td>0</td>\n",
       "      <td>0</td>\n",
       "      <td>0</td>\n",
       "      <td>0</td>\n",
       "      <td>0</td>\n",
       "      <td>0</td>\n",
       "      <td>8</td>\n",
       "      <td>2009</td>\n",
       "      <td>WD</td>\n",
       "      <td>Normal</td>\n",
       "    </tr>\n",
       "    <tr>\n",
       "      <th>93</th>\n",
       "      <td>30</td>\n",
       "      <td>RL</td>\n",
       "      <td>13360</td>\n",
       "      <td>Pave</td>\n",
       "      <td>IR1</td>\n",
       "      <td>HLS</td>\n",
       "      <td>AllPub</td>\n",
       "      <td>Inside</td>\n",
       "      <td>Gtl</td>\n",
       "      <td>Crawfor</td>\n",
       "      <td>...</td>\n",
       "      <td>0</td>\n",
       "      <td>44</td>\n",
       "      <td>0</td>\n",
       "      <td>0</td>\n",
       "      <td>0</td>\n",
       "      <td>0</td>\n",
       "      <td>8</td>\n",
       "      <td>2009</td>\n",
       "      <td>WD</td>\n",
       "      <td>Normal</td>\n",
       "    </tr>\n",
       "    <tr>\n",
       "      <th>818</th>\n",
       "      <td>20</td>\n",
       "      <td>RL</td>\n",
       "      <td>13265</td>\n",
       "      <td>Pave</td>\n",
       "      <td>IR1</td>\n",
       "      <td>Lvl</td>\n",
       "      <td>AllPub</td>\n",
       "      <td>CulDSac</td>\n",
       "      <td>Gtl</td>\n",
       "      <td>Mitchel</td>\n",
       "      <td>...</td>\n",
       "      <td>59</td>\n",
       "      <td>0</td>\n",
       "      <td>0</td>\n",
       "      <td>0</td>\n",
       "      <td>0</td>\n",
       "      <td>0</td>\n",
       "      <td>7</td>\n",
       "      <td>2008</td>\n",
       "      <td>WD</td>\n",
       "      <td>Normal</td>\n",
       "    </tr>\n",
       "    <tr>\n",
       "      <th>303</th>\n",
       "      <td>20</td>\n",
       "      <td>RL</td>\n",
       "      <td>13704</td>\n",
       "      <td>Pave</td>\n",
       "      <td>IR1</td>\n",
       "      <td>Lvl</td>\n",
       "      <td>AllPub</td>\n",
       "      <td>Corner</td>\n",
       "      <td>Gtl</td>\n",
       "      <td>CollgCr</td>\n",
       "      <td>...</td>\n",
       "      <td>81</td>\n",
       "      <td>0</td>\n",
       "      <td>0</td>\n",
       "      <td>0</td>\n",
       "      <td>0</td>\n",
       "      <td>0</td>\n",
       "      <td>1</td>\n",
       "      <td>2006</td>\n",
       "      <td>WD</td>\n",
       "      <td>Normal</td>\n",
       "    </tr>\n",
       "  </tbody>\n",
       "</table>\n",
       "<p>5 rows × 60 columns</p>\n",
       "</div>"
      ],
      "text/plain": [
       "     MSSubClass MSZoning  LotArea Street LotShape LandContour Utilities  \\\n",
       "Id                                                                        \n",
       "619          20       RL    11694   Pave      Reg         Lvl    AllPub   \n",
       "871          20       RL     6600   Pave      Reg         Lvl    AllPub   \n",
       "93           30       RL    13360   Pave      IR1         HLS    AllPub   \n",
       "818          20       RL    13265   Pave      IR1         Lvl    AllPub   \n",
       "303          20       RL    13704   Pave      IR1         Lvl    AllPub   \n",
       "\n",
       "    LotConfig LandSlope Neighborhood  ... OpenPorchSF EnclosedPorch 3SsnPorch  \\\n",
       "Id                                    ...                                       \n",
       "619    Inside       Gtl      NridgHt  ...         108             0         0   \n",
       "871    Inside       Gtl        NAmes  ...           0             0         0   \n",
       "93     Inside       Gtl      Crawfor  ...           0            44         0   \n",
       "818   CulDSac       Gtl      Mitchel  ...          59             0         0   \n",
       "303    Corner       Gtl      CollgCr  ...          81             0         0   \n",
       "\n",
       "    ScreenPorch  PoolArea  MiscVal  MoSold  YrSold SaleType SaleCondition  \n",
       "Id                                                                         \n",
       "619         260         0        0       7    2007      New       Partial  \n",
       "871           0         0        0       8    2009       WD        Normal  \n",
       "93            0         0        0       8    2009       WD        Normal  \n",
       "818           0         0        0       7    2008       WD        Normal  \n",
       "303           0         0        0       1    2006       WD        Normal  \n",
       "\n",
       "[5 rows x 60 columns]"
      ]
     },
     "execution_count": 3,
     "metadata": {},
     "output_type": "execute_result"
    }
   ],
   "source": [
    "X_train.head()"
   ]
  },
  {
   "cell_type": "markdown",
   "id": "8634d4e7",
   "metadata": {
    "papermill": {
     "duration": 0.031813,
     "end_time": "2021-08-16T23:02:04.338245",
     "exception": false,
     "start_time": "2021-08-16T23:02:04.306432",
     "status": "completed"
    },
    "tags": []
   },
   "source": [
    "Notice that the dataset contains both numerical and categorical variables.  You'll need to encode the categorical data before training a model.\n",
    "\n",
    "To compare different models, you'll use the same `score_dataset()` function from the tutorial.  This function reports the [mean absolute error](https://en.wikipedia.org/wiki/Mean_absolute_error) (MAE) from a random forest model."
   ]
  },
  {
   "cell_type": "code",
   "execution_count": 4,
   "id": "c06ad52e",
   "metadata": {
    "execution": {
     "iopub.execute_input": "2021-08-16T23:02:04.403543Z",
     "iopub.status.busy": "2021-08-16T23:02:04.402552Z",
     "iopub.status.idle": "2021-08-16T23:02:04.610810Z",
     "shell.execute_reply": "2021-08-16T23:02:04.611382Z",
     "shell.execute_reply.started": "2021-08-16T23:00:50.782871Z"
    },
    "papermill": {
     "duration": 0.242664,
     "end_time": "2021-08-16T23:02:04.611565",
     "exception": false,
     "start_time": "2021-08-16T23:02:04.368901",
     "status": "completed"
    },
    "tags": []
   },
   "outputs": [],
   "source": [
    "from sklearn.ensemble import RandomForestRegressor\n",
    "from sklearn.metrics import mean_absolute_error\n",
    "\n",
    "# function for comparing different approaches\n",
    "def score_dataset(X_train, X_valid, y_train, y_valid):\n",
    "    model = RandomForestRegressor(n_estimators=100, random_state=0)\n",
    "    model.fit(X_train, y_train)\n",
    "    preds = model.predict(X_valid)\n",
    "    return mean_absolute_error(y_valid, preds)"
   ]
  },
  {
   "cell_type": "markdown",
   "id": "cf34ceba",
   "metadata": {
    "papermill": {
     "duration": 0.030747,
     "end_time": "2021-08-16T23:02:04.673060",
     "exception": false,
     "start_time": "2021-08-16T23:02:04.642313",
     "status": "completed"
    },
    "tags": []
   },
   "source": [
    "# Step 1: Drop columns with categorical data\n",
    "\n",
    "You'll get started with the most straightforward approach.  Use the code cell below to preprocess the data in `X_train` and `X_valid` to remove columns with categorical data.  Set the preprocessed DataFrames to `drop_X_train` and `drop_X_valid`, respectively.  "
   ]
  },
  {
   "cell_type": "code",
   "execution_count": 5,
   "id": "6651dbd8",
   "metadata": {
    "execution": {
     "iopub.execute_input": "2021-08-16T23:02:04.738084Z",
     "iopub.status.busy": "2021-08-16T23:02:04.737051Z",
     "iopub.status.idle": "2021-08-16T23:02:04.751344Z",
     "shell.execute_reply": "2021-08-16T23:02:04.751895Z",
     "shell.execute_reply.started": "2021-08-16T23:00:50.976925Z"
    },
    "papermill": {
     "duration": 0.048234,
     "end_time": "2021-08-16T23:02:04.752060",
     "exception": false,
     "start_time": "2021-08-16T23:02:04.703826",
     "status": "completed"
    },
    "tags": []
   },
   "outputs": [
    {
     "data": {
      "application/javascript": [
       "parent.postMessage({\"jupyterEvent\": \"custom.exercise_interaction\", \"data\": {\"outcomeType\": 1, \"valueTowardsCompletion\": 0.5, \"interactionType\": 1, \"questionType\": 2, \"questionId\": \"1_Drop\", \"learnToolsVersion\": \"0.3.4\", \"failureMessage\": \"\", \"exceptionClass\": \"\", \"trace\": \"\"}}, \"*\")"
      ],
      "text/plain": [
       "<IPython.core.display.Javascript object>"
      ]
     },
     "metadata": {},
     "output_type": "display_data"
    },
    {
     "data": {
      "text/markdown": [
       "<span style=\"color:#33cc33\">Correct</span>"
      ],
      "text/plain": [
       "Correct"
      ]
     },
     "metadata": {},
     "output_type": "display_data"
    }
   ],
   "source": [
    "# Fill in the lines below: drop columns in training and validation data\n",
    "\n",
    "st = (X_train.dtypes == 'object')\n",
    "sv = (X_valid.dtypes == 'object')\n",
    "object_cols = list(st[st].index)\n",
    "\n",
    "\n",
    "drop_X_train = X_train.drop(list(st[st].index),axis = 1)\n",
    "drop_X_valid = X_valid.drop(list(sv[sv].index),axis = 1)\n",
    "\n",
    "# Check your answers\n",
    "step_1.check()"
   ]
  },
  {
   "cell_type": "code",
   "execution_count": 6,
   "id": "6da0b721",
   "metadata": {
    "execution": {
     "iopub.execute_input": "2021-08-16T23:02:04.820410Z",
     "iopub.status.busy": "2021-08-16T23:02:04.819390Z",
     "iopub.status.idle": "2021-08-16T23:02:04.822962Z",
     "shell.execute_reply": "2021-08-16T23:02:04.823542Z",
     "shell.execute_reply.started": "2021-08-16T23:00:50.992073Z"
    },
    "papermill": {
     "duration": 0.039906,
     "end_time": "2021-08-16T23:02:04.823716",
     "exception": false,
     "start_time": "2021-08-16T23:02:04.783810",
     "status": "completed"
    },
    "tags": []
   },
   "outputs": [],
   "source": [
    "# Lines below will give you a hint or solution code\n",
    "#step_1.hint()\n",
    "#step_1.solution()"
   ]
  },
  {
   "cell_type": "markdown",
   "id": "6a14045e",
   "metadata": {
    "papermill": {
     "duration": 0.031409,
     "end_time": "2021-08-16T23:02:04.886835",
     "exception": false,
     "start_time": "2021-08-16T23:02:04.855426",
     "status": "completed"
    },
    "tags": []
   },
   "source": [
    "Run the next code cell to get the MAE for this approach."
   ]
  },
  {
   "cell_type": "code",
   "execution_count": 7,
   "id": "d4a1bf26",
   "metadata": {
    "execution": {
     "iopub.execute_input": "2021-08-16T23:02:04.967726Z",
     "iopub.status.busy": "2021-08-16T23:02:04.956682Z",
     "iopub.status.idle": "2021-08-16T23:02:06.216071Z",
     "shell.execute_reply": "2021-08-16T23:02:06.216647Z",
     "shell.execute_reply.started": "2021-08-16T23:00:51.000120Z"
    },
    "papermill": {
     "duration": 1.298238,
     "end_time": "2021-08-16T23:02:06.216828",
     "exception": false,
     "start_time": "2021-08-16T23:02:04.918590",
     "status": "completed"
    },
    "tags": []
   },
   "outputs": [
    {
     "name": "stdout",
     "output_type": "stream",
     "text": [
      "MAE from Approach 1 (Drop categorical variables):\n",
      "17837.82570776256\n"
     ]
    }
   ],
   "source": [
    "print(\"MAE from Approach 1 (Drop categorical variables):\")\n",
    "print(score_dataset(drop_X_train, drop_X_valid, y_train, y_valid))"
   ]
  },
  {
   "cell_type": "markdown",
   "id": "2c4f5e36",
   "metadata": {
    "papermill": {
     "duration": 0.032223,
     "end_time": "2021-08-16T23:02:06.281614",
     "exception": false,
     "start_time": "2021-08-16T23:02:06.249391",
     "status": "completed"
    },
    "tags": []
   },
   "source": [
    "Before jumping into ordinal encoding, we'll investigate the dataset.  Specifically, we'll look at the `'Condition2'` column.  The code cell below prints the unique entries in both the training and validation sets."
   ]
  },
  {
   "cell_type": "code",
   "execution_count": 8,
   "id": "02ceaf5a",
   "metadata": {
    "execution": {
     "iopub.execute_input": "2021-08-16T23:02:06.354025Z",
     "iopub.status.busy": "2021-08-16T23:02:06.353013Z",
     "iopub.status.idle": "2021-08-16T23:02:06.362524Z",
     "shell.execute_reply": "2021-08-16T23:02:06.361842Z",
     "shell.execute_reply.started": "2021-08-16T23:00:52.212907Z"
    },
    "papermill": {
     "duration": 0.046058,
     "end_time": "2021-08-16T23:02:06.362666",
     "exception": false,
     "start_time": "2021-08-16T23:02:06.316608",
     "status": "completed"
    },
    "tags": []
   },
   "outputs": [
    {
     "name": "stdout",
     "output_type": "stream",
     "text": [
      "Unique values in 'Condition2' column in training data: ['Norm' 'PosA' 'Feedr' 'PosN' 'Artery' 'RRAe']\n",
      "\n",
      "Unique values in 'Condition2' column in validation data: ['Norm' 'RRAn' 'RRNn' 'Artery' 'Feedr' 'PosN']\n"
     ]
    }
   ],
   "source": [
    "print(\"Unique values in 'Condition2' column in training data:\", X_train['Condition2'].unique())\n",
    "print(\"\\nUnique values in 'Condition2' column in validation data:\", X_valid['Condition2'].unique())"
   ]
  },
  {
   "cell_type": "markdown",
   "id": "4911d24d",
   "metadata": {
    "papermill": {
     "duration": 0.032854,
     "end_time": "2021-08-16T23:02:06.428372",
     "exception": false,
     "start_time": "2021-08-16T23:02:06.395518",
     "status": "completed"
    },
    "tags": []
   },
   "source": [
    "# Step 2: Ordinal encoding\n",
    "\n",
    "### Part A\n",
    "\n",
    "If you now write code to: \n",
    "- fit an ordinal encoder to the training data, and then \n",
    "- use it to transform both the training and validation data, \n",
    "\n",
    "you'll get an error.  Can you see why this is the case?  (_You'll need  to use the above output to answer this question._)"
   ]
  },
  {
   "cell_type": "code",
   "execution_count": 9,
   "id": "82dbfa86",
   "metadata": {
    "execution": {
     "iopub.execute_input": "2021-08-16T23:02:06.500365Z",
     "iopub.status.busy": "2021-08-16T23:02:06.499668Z",
     "iopub.status.idle": "2021-08-16T23:02:06.504505Z",
     "shell.execute_reply": "2021-08-16T23:02:06.505005Z",
     "shell.execute_reply.started": "2021-08-16T23:00:52.222840Z"
    },
    "papermill": {
     "duration": 0.043701,
     "end_time": "2021-08-16T23:02:06.505286",
     "exception": false,
     "start_time": "2021-08-16T23:02:06.461585",
     "status": "completed"
    },
    "tags": []
   },
   "outputs": [
    {
     "data": {
      "application/javascript": [
       "parent.postMessage({\"jupyterEvent\": \"custom.exercise_interaction\", \"data\": {\"outcomeType\": 1, \"valueTowardsCompletion\": 0.5, \"interactionType\": 1, \"questionType\": 4, \"questionId\": \"2.1_LabelA\", \"learnToolsVersion\": \"0.3.4\", \"failureMessage\": \"\", \"exceptionClass\": \"\", \"trace\": \"\"}}, \"*\")"
      ],
      "text/plain": [
       "<IPython.core.display.Javascript object>"
      ]
     },
     "metadata": {},
     "output_type": "display_data"
    },
    {
     "data": {
      "text/markdown": [
       "<span style=\"color:#33cc33\">Correct:</span> \n",
       "\n",
       "Fitting an ordinal encoder to a column in the training data creates a corresponding integer-valued label for each unique value **that appears in the training data**. In the case that the validation data contains values that don't also appear in the training data, the encoder will throw an error, because these values won't have an integer assigned to them.  Notice that the `'Condition2'` column in the validation data contains the values `'RRAn'` and `'RRNn'`, but these don't appear in the training data -- thus, if we try to use an ordinal encoder with scikit-learn, the code will throw an error."
      ],
      "text/plain": [
       "Correct: \n",
       "\n",
       "Fitting an ordinal encoder to a column in the training data creates a corresponding integer-valued label for each unique value **that appears in the training data**. In the case that the validation data contains values that don't also appear in the training data, the encoder will throw an error, because these values won't have an integer assigned to them.  Notice that the `'Condition2'` column in the validation data contains the values `'RRAn'` and `'RRNn'`, but these don't appear in the training data -- thus, if we try to use an ordinal encoder with scikit-learn, the code will throw an error."
      ]
     },
     "metadata": {},
     "output_type": "display_data"
    }
   ],
   "source": [
    "# Check your answer (Run this code cell to receive credit!)\n",
    "step_2.a.check()"
   ]
  },
  {
   "cell_type": "code",
   "execution_count": 10,
   "id": "a5c7e3c8",
   "metadata": {
    "execution": {
     "iopub.execute_input": "2021-08-16T23:02:06.580387Z",
     "iopub.status.busy": "2021-08-16T23:02:06.579652Z",
     "iopub.status.idle": "2021-08-16T23:02:06.583138Z",
     "shell.execute_reply": "2021-08-16T23:02:06.582589Z",
     "shell.execute_reply.started": "2021-08-16T23:00:52.234855Z"
    },
    "papermill": {
     "duration": 0.043616,
     "end_time": "2021-08-16T23:02:06.583367",
     "exception": false,
     "start_time": "2021-08-16T23:02:06.539751",
     "status": "completed"
    },
    "tags": []
   },
   "outputs": [],
   "source": [
    "#step_2.a.hint()"
   ]
  },
  {
   "cell_type": "markdown",
   "id": "9a99a6df",
   "metadata": {
    "papermill": {
     "duration": 0.034556,
     "end_time": "2021-08-16T23:02:06.653232",
     "exception": false,
     "start_time": "2021-08-16T23:02:06.618676",
     "status": "completed"
    },
    "tags": []
   },
   "source": [
    "This is a common problem that you'll encounter with real-world data, and there are many approaches to fixing this issue.  For instance, you can write a custom ordinal encoder to deal with new categories.  The simplest approach, however, is to drop the problematic categorical columns.  \n",
    "\n",
    "Run the code cell below to save the problematic columns to a Python list `bad_label_cols`.  Likewise, columns that can be safely ordinal encoded are stored in `good_label_cols`."
   ]
  },
  {
   "cell_type": "code",
   "execution_count": 11,
   "id": "37eb0c03",
   "metadata": {
    "execution": {
     "iopub.execute_input": "2021-08-16T23:02:06.725981Z",
     "iopub.status.busy": "2021-08-16T23:02:06.725253Z",
     "iopub.status.idle": "2021-08-16T23:02:06.742860Z",
     "shell.execute_reply": "2021-08-16T23:02:06.742157Z",
     "shell.execute_reply.started": "2021-08-16T23:00:52.241845Z"
    },
    "papermill": {
     "duration": 0.055264,
     "end_time": "2021-08-16T23:02:06.742999",
     "exception": false,
     "start_time": "2021-08-16T23:02:06.687735",
     "status": "completed"
    },
    "tags": []
   },
   "outputs": [
    {
     "name": "stdout",
     "output_type": "stream",
     "text": [
      "Categorical columns that will be ordinal encoded: ['MSZoning', 'Street', 'LotShape', 'LandContour', 'Utilities', 'LotConfig', 'LandSlope', 'Neighborhood', 'Condition1', 'BldgType', 'HouseStyle', 'RoofStyle', 'Exterior1st', 'Exterior2nd', 'ExterQual', 'ExterCond', 'Foundation', 'Heating', 'HeatingQC', 'CentralAir', 'KitchenQual', 'PavedDrive', 'SaleType', 'SaleCondition']\n",
      "\n",
      "Categorical columns that will be dropped from the dataset: ['Condition2', 'Functional', 'RoofMatl']\n"
     ]
    }
   ],
   "source": [
    "# All categorical columns\n",
    "object_cols = [col for col in X_train.columns if X_train[col].dtype == \"object\"]\n",
    "\n",
    "# Columns that can be safely ordinal encoded\n",
    "good_label_cols = [col for col in object_cols if \n",
    "                   set(X_valid[col]).issubset(set(X_train[col]))]  #this line checks if all the unique values of the object coluns in the validation dataset are in the training dataset or not\n",
    "        \n",
    "# Problematic columns that will be dropped from the dataset\n",
    "bad_label_cols = list(set(object_cols)-set(good_label_cols))\n",
    "        \n",
    "print('Categorical columns that will be ordinal encoded:', good_label_cols)\n",
    "print('\\nCategorical columns that will be dropped from the dataset:', bad_label_cols)"
   ]
  },
  {
   "cell_type": "markdown",
   "id": "660a80b9",
   "metadata": {
    "papermill": {
     "duration": 0.035566,
     "end_time": "2021-08-16T23:02:06.812769",
     "exception": false,
     "start_time": "2021-08-16T23:02:06.777203",
     "status": "completed"
    },
    "tags": []
   },
   "source": [
    "### Part B\n",
    "\n",
    "Use the next code cell to ordinal encode the data in `X_train` and `X_valid`.  Set the preprocessed DataFrames to `label_X_train` and `label_X_valid`, respectively.  \n",
    "- We have provided code below to drop the categorical columns in `bad_label_cols` from the dataset. \n",
    "- You should ordinal encode the categorical columns in `good_label_cols`.  "
   ]
  },
  {
   "cell_type": "code",
   "execution_count": 12,
   "id": "9b562d0d",
   "metadata": {
    "execution": {
     "iopub.execute_input": "2021-08-16T23:02:06.907663Z",
     "iopub.status.busy": "2021-08-16T23:02:06.906143Z",
     "iopub.status.idle": "2021-08-16T23:02:06.961185Z",
     "shell.execute_reply": "2021-08-16T23:02:06.960574Z",
     "shell.execute_reply.started": "2021-08-16T23:00:52.261536Z"
    },
    "papermill": {
     "duration": 0.113825,
     "end_time": "2021-08-16T23:02:06.961327",
     "exception": false,
     "start_time": "2021-08-16T23:02:06.847502",
     "status": "completed"
    },
    "tags": []
   },
   "outputs": [
    {
     "data": {
      "application/javascript": [
       "parent.postMessage({\"jupyterEvent\": \"custom.exercise_interaction\", \"data\": {\"outcomeType\": 1, \"valueTowardsCompletion\": 0.5, \"interactionType\": 1, \"questionType\": 2, \"questionId\": \"2.2_LabelB\", \"learnToolsVersion\": \"0.3.4\", \"failureMessage\": \"\", \"exceptionClass\": \"\", \"trace\": \"\"}}, \"*\")"
      ],
      "text/plain": [
       "<IPython.core.display.Javascript object>"
      ]
     },
     "metadata": {},
     "output_type": "display_data"
    },
    {
     "data": {
      "text/markdown": [
       "<span style=\"color:#33cc33\">Correct</span>"
      ],
      "text/plain": [
       "Correct"
      ]
     },
     "metadata": {},
     "output_type": "display_data"
    }
   ],
   "source": [
    "from sklearn.preprocessing import OrdinalEncoder\n",
    "\n",
    "# Drop categorical columns that will not be encoded\n",
    "label_X_train = X_train.drop(bad_label_cols, axis=1)\n",
    "label_X_valid = X_valid.drop(bad_label_cols, axis=1)\n",
    "\n",
    "\n",
    "\n",
    "# Apply ordinal encoder \n",
    "# Your code here\n",
    "\n",
    "\n",
    "# Apply ordinal encoder to each column with categorical data\n",
    "ordinal_encoder = OrdinalEncoder()\n",
    "label_X_train[good_label_cols] = ordinal_encoder.fit_transform(X_train[good_label_cols])\n",
    "label_X_valid[good_label_cols] = ordinal_encoder.transform(X_valid[good_label_cols])\n",
    "\n",
    "\n",
    "\n",
    "# Check your answer\n",
    "step_2.b.check()"
   ]
  },
  {
   "cell_type": "code",
   "execution_count": 13,
   "id": "0ab69df8",
   "metadata": {
    "execution": {
     "iopub.execute_input": "2021-08-16T23:02:07.037440Z",
     "iopub.status.busy": "2021-08-16T23:02:07.036684Z",
     "iopub.status.idle": "2021-08-16T23:02:07.039962Z",
     "shell.execute_reply": "2021-08-16T23:02:07.039383Z",
     "shell.execute_reply.started": "2021-08-16T23:00:52.313719Z"
    },
    "papermill": {
     "duration": 0.043378,
     "end_time": "2021-08-16T23:02:07.040102",
     "exception": false,
     "start_time": "2021-08-16T23:02:06.996724",
     "status": "completed"
    },
    "tags": []
   },
   "outputs": [],
   "source": [
    "# Lines below will give you a hint or solution code\n",
    "#step_2.b.hint()\n",
    "#step_2.b.solution()"
   ]
  },
  {
   "cell_type": "markdown",
   "id": "bb8ed7f1",
   "metadata": {
    "papermill": {
     "duration": 0.036443,
     "end_time": "2021-08-16T23:02:07.112968",
     "exception": false,
     "start_time": "2021-08-16T23:02:07.076525",
     "status": "completed"
    },
    "tags": []
   },
   "source": [
    "Run the next code cell to get the MAE for this approach."
   ]
  },
  {
   "cell_type": "code",
   "execution_count": 14,
   "id": "872414ab",
   "metadata": {
    "execution": {
     "iopub.execute_input": "2021-08-16T23:02:07.190894Z",
     "iopub.status.busy": "2021-08-16T23:02:07.190055Z",
     "iopub.status.idle": "2021-08-16T23:02:08.789799Z",
     "shell.execute_reply": "2021-08-16T23:02:08.789274Z",
     "shell.execute_reply.started": "2021-08-16T23:00:52.318496Z"
    },
    "papermill": {
     "duration": 1.642211,
     "end_time": "2021-08-16T23:02:08.789946",
     "exception": false,
     "start_time": "2021-08-16T23:02:07.147735",
     "status": "completed"
    },
    "tags": []
   },
   "outputs": [
    {
     "name": "stdout",
     "output_type": "stream",
     "text": [
      "MAE from Approach 2 (Ordinal Encoding):\n",
      "17098.01649543379\n"
     ]
    }
   ],
   "source": [
    "print(\"MAE from Approach 2 (Ordinal Encoding):\") \n",
    "print(score_dataset(label_X_train, label_X_valid, y_train, y_valid))"
   ]
  },
  {
   "cell_type": "markdown",
   "id": "a642f77a",
   "metadata": {
    "papermill": {
     "duration": 0.035429,
     "end_time": "2021-08-16T23:02:08.862034",
     "exception": false,
     "start_time": "2021-08-16T23:02:08.826605",
     "status": "completed"
    },
    "tags": []
   },
   "source": [
    "So far, you've tried two different approaches to dealing with categorical variables.  And, you've seen that encoding categorical data yields better results than removing columns from the dataset.\n",
    "\n",
    "Soon, you'll try one-hot encoding.  Before then, there's one additional topic we need to cover.  Begin by running the next code cell without changes.  "
   ]
  },
  {
   "cell_type": "code",
   "execution_count": 15,
   "id": "fbf7b9ef",
   "metadata": {
    "execution": {
     "iopub.execute_input": "2021-08-16T23:02:08.942230Z",
     "iopub.status.busy": "2021-08-16T23:02:08.941136Z",
     "iopub.status.idle": "2021-08-16T23:02:08.959194Z",
     "shell.execute_reply": "2021-08-16T23:02:08.958559Z",
     "shell.execute_reply.started": "2021-08-16T23:00:53.878737Z"
    },
    "papermill": {
     "duration": 0.060761,
     "end_time": "2021-08-16T23:02:08.959362",
     "exception": false,
     "start_time": "2021-08-16T23:02:08.898601",
     "status": "completed"
    },
    "tags": []
   },
   "outputs": [
    {
     "data": {
      "text/plain": [
       "[('Street', 2),\n",
       " ('Utilities', 2),\n",
       " ('CentralAir', 2),\n",
       " ('LandSlope', 3),\n",
       " ('PavedDrive', 3),\n",
       " ('LotShape', 4),\n",
       " ('LandContour', 4),\n",
       " ('ExterQual', 4),\n",
       " ('KitchenQual', 4),\n",
       " ('MSZoning', 5),\n",
       " ('LotConfig', 5),\n",
       " ('BldgType', 5),\n",
       " ('ExterCond', 5),\n",
       " ('HeatingQC', 5),\n",
       " ('Condition2', 6),\n",
       " ('RoofStyle', 6),\n",
       " ('Foundation', 6),\n",
       " ('Heating', 6),\n",
       " ('Functional', 6),\n",
       " ('SaleCondition', 6),\n",
       " ('RoofMatl', 7),\n",
       " ('HouseStyle', 8),\n",
       " ('Condition1', 9),\n",
       " ('SaleType', 9),\n",
       " ('Exterior1st', 15),\n",
       " ('Exterior2nd', 16),\n",
       " ('Neighborhood', 25)]"
      ]
     },
     "execution_count": 15,
     "metadata": {},
     "output_type": "execute_result"
    }
   ],
   "source": [
    "# Get number of unique entries in each column with categorical data\n",
    "object_nunique = list(map(lambda column: X_train[column].nunique(), object_cols))\n",
    "d = dict(zip(object_cols, object_nunique))\n",
    "\n",
    "# Print number of unique entries by column, in ascending order\n",
    "sorted(d.items(), key=lambda x: x[1])"
   ]
  },
  {
   "cell_type": "markdown",
   "id": "82e5a479",
   "metadata": {
    "papermill": {
     "duration": 0.035489,
     "end_time": "2021-08-16T23:02:09.031810",
     "exception": false,
     "start_time": "2021-08-16T23:02:08.996321",
     "status": "completed"
    },
    "tags": []
   },
   "source": [
    "# Step 3: Investigating cardinality\n",
    "\n",
    "### Part A\n",
    "\n",
    "The output above shows, for each column with categorical data, the number of unique values in the column.  For instance, the `'Street'` column in the training data has two unique values: `'Grvl'` and `'Pave'`, corresponding to a gravel road and a paved road, respectively.\n",
    "\n",
    "We refer to the number of unique entries of a categorical variable as the **cardinality** of that categorical variable.  For instance, the `'Street'` variable has cardinality 2.\n",
    "\n",
    "Use the output above to answer the questions below."
   ]
  },
  {
   "cell_type": "code",
   "execution_count": 16,
   "id": "476eeeb4",
   "metadata": {
    "execution": {
     "iopub.execute_input": "2021-08-16T23:02:09.110071Z",
     "iopub.status.busy": "2021-08-16T23:02:09.109395Z",
     "iopub.status.idle": "2021-08-16T23:02:09.114966Z",
     "shell.execute_reply": "2021-08-16T23:02:09.114431Z",
     "shell.execute_reply.started": "2021-08-16T23:00:53.898618Z"
    },
    "papermill": {
     "duration": 0.047491,
     "end_time": "2021-08-16T23:02:09.115203",
     "exception": false,
     "start_time": "2021-08-16T23:02:09.067712",
     "status": "completed"
    },
    "tags": []
   },
   "outputs": [
    {
     "data": {
      "application/javascript": [
       "parent.postMessage({\"jupyterEvent\": \"custom.exercise_interaction\", \"data\": {\"outcomeType\": 1, \"valueTowardsCompletion\": 0.5, \"interactionType\": 1, \"questionType\": 1, \"questionId\": \"3.1_CardinalityA\", \"learnToolsVersion\": \"0.3.4\", \"failureMessage\": \"\", \"exceptionClass\": \"\", \"trace\": \"\"}}, \"*\")"
      ],
      "text/plain": [
       "<IPython.core.display.Javascript object>"
      ]
     },
     "metadata": {},
     "output_type": "display_data"
    },
    {
     "data": {
      "text/markdown": [
       "<span style=\"color:#33cc33\">Correct</span>"
      ],
      "text/plain": [
       "Correct"
      ]
     },
     "metadata": {},
     "output_type": "display_data"
    }
   ],
   "source": [
    "# Fill in the line below: How many categorical variables in the training data\n",
    "# have cardinality greater than 10?\n",
    "high_cardinality_numcols = 3\n",
    "\n",
    "# Fill in the line below: How many columns are needed to one-hot encode the \n",
    "# 'Neighborhood' variable in the training data?\n",
    "num_cols_neighborhood = 25\n",
    "\n",
    "# Check your answers\n",
    "step_3.a.check()"
   ]
  },
  {
   "cell_type": "code",
   "execution_count": 17,
   "id": "b04a4067",
   "metadata": {
    "execution": {
     "iopub.execute_input": "2021-08-16T23:02:09.194712Z",
     "iopub.status.busy": "2021-08-16T23:02:09.193875Z",
     "iopub.status.idle": "2021-08-16T23:02:09.198470Z",
     "shell.execute_reply": "2021-08-16T23:02:09.197786Z",
     "shell.execute_reply.started": "2021-08-16T23:00:53.906913Z"
    },
    "papermill": {
     "duration": 0.045928,
     "end_time": "2021-08-16T23:02:09.198616",
     "exception": false,
     "start_time": "2021-08-16T23:02:09.152688",
     "status": "completed"
    },
    "tags": []
   },
   "outputs": [],
   "source": [
    "# Lines below will give you a hint or solution code\n",
    "#step_3.a.hint()\n",
    "#step_3.a.solution()"
   ]
  },
  {
   "cell_type": "markdown",
   "id": "0f23a681",
   "metadata": {
    "papermill": {
     "duration": 0.03895,
     "end_time": "2021-08-16T23:02:09.275867",
     "exception": false,
     "start_time": "2021-08-16T23:02:09.236917",
     "status": "completed"
    },
    "tags": []
   },
   "source": [
    "## Part B\n",
    "\n",
    "For large datasets with many rows, one-hot encoding can greatly expand the size of the dataset.  For this reason, we typically will only one-hot encode columns with relatively low cardinality.  Then, high cardinality columns can either be dropped from the dataset, or we can use ordinal encoding.\n",
    "\n",
    "As an example, consider a dataset with 10,000 rows, and containing one categorical column with 100 unique entries.  \n",
    "- If this column is replaced with the corresponding one-hot encoding, how many entries are added to the dataset?  \n",
    "- If we instead replace the column with the ordinal encoding, how many entries are added?  \n",
    "\n",
    "Use your answers to fill in the lines below."
   ]
  },
  {
   "cell_type": "code",
   "execution_count": 18,
   "id": "898b434f",
   "metadata": {
    "execution": {
     "iopub.execute_input": "2021-08-16T23:02:09.356070Z",
     "iopub.status.busy": "2021-08-16T23:02:09.355388Z",
     "iopub.status.idle": "2021-08-16T23:02:09.361688Z",
     "shell.execute_reply": "2021-08-16T23:02:09.361064Z",
     "shell.execute_reply.started": "2021-08-16T23:00:53.916507Z"
    },
    "papermill": {
     "duration": 0.048776,
     "end_time": "2021-08-16T23:02:09.361840",
     "exception": false,
     "start_time": "2021-08-16T23:02:09.313064",
     "status": "completed"
    },
    "tags": []
   },
   "outputs": [
    {
     "data": {
      "application/javascript": [
       "parent.postMessage({\"jupyterEvent\": \"custom.exercise_interaction\", \"data\": {\"outcomeType\": 1, \"valueTowardsCompletion\": 0.5, \"interactionType\": 1, \"questionType\": 1, \"questionId\": \"3.2_CardinalityB\", \"learnToolsVersion\": \"0.3.4\", \"failureMessage\": \"\", \"exceptionClass\": \"\", \"trace\": \"\"}}, \"*\")"
      ],
      "text/plain": [
       "<IPython.core.display.Javascript object>"
      ]
     },
     "metadata": {},
     "output_type": "display_data"
    },
    {
     "data": {
      "text/markdown": [
       "<span style=\"color:#33cc33\">Correct</span>"
      ],
      "text/plain": [
       "Correct"
      ]
     },
     "metadata": {},
     "output_type": "display_data"
    }
   ],
   "source": [
    "# Fill in the line below: How many entries are added to the dataset by \n",
    "# replacing the column with a one-hot encoding?\n",
    "OH_entries_added = 10000*100 - 10000\n",
    "\n",
    "# Fill in the line below: How many entries are added to the dataset by\n",
    "# replacing the column with an ordinal encoding?\n",
    "label_entries_added = 0\n",
    "\n",
    "# Check your answers\n",
    "step_3.b.check()"
   ]
  },
  {
   "cell_type": "code",
   "execution_count": 19,
   "id": "dde968fe",
   "metadata": {
    "execution": {
     "iopub.execute_input": "2021-08-16T23:02:09.442920Z",
     "iopub.status.busy": "2021-08-16T23:02:09.442095Z",
     "iopub.status.idle": "2021-08-16T23:02:09.448988Z",
     "shell.execute_reply": "2021-08-16T23:02:09.448347Z",
     "shell.execute_reply.started": "2021-08-16T23:00:53.931671Z"
    },
    "papermill": {
     "duration": 0.049323,
     "end_time": "2021-08-16T23:02:09.449127",
     "exception": false,
     "start_time": "2021-08-16T23:02:09.399804",
     "status": "completed"
    },
    "tags": []
   },
   "outputs": [
    {
     "data": {
      "application/javascript": [
       "parent.postMessage({\"jupyterEvent\": \"custom.exercise_interaction\", \"data\": {\"interactionType\": 2, \"questionType\": 1, \"questionId\": \"3.2_CardinalityB\", \"learnToolsVersion\": \"0.3.4\", \"valueTowardsCompletion\": 0.0, \"failureMessage\": \"\", \"exceptionClass\": \"\", \"trace\": \"\", \"outcomeType\": 4}}, \"*\")"
      ],
      "text/plain": [
       "<IPython.core.display.Javascript object>"
      ]
     },
     "metadata": {},
     "output_type": "display_data"
    },
    {
     "data": {
      "text/markdown": [
       "<span style=\"color:#3366cc\">Hint:</span> To calculate how many entries are added to the dataset through the one-hot encoding, begin by calculating how many entries are needed to encode the categorical variable (by multiplying the number of rows by the number of columns in the one-hot encoding). Then, to obtain how many entries are **added** to the dataset, subtract the number of entries in the original column."
      ],
      "text/plain": [
       "Hint: To calculate how many entries are added to the dataset through the one-hot encoding, begin by calculating how many entries are needed to encode the categorical variable (by multiplying the number of rows by the number of columns in the one-hot encoding). Then, to obtain how many entries are **added** to the dataset, subtract the number of entries in the original column."
      ]
     },
     "metadata": {},
     "output_type": "display_data"
    }
   ],
   "source": [
    "# Lines below will give you a hint or solution code\n",
    "step_3.b.hint()\n",
    "# step_3.b.solution()"
   ]
  },
  {
   "cell_type": "markdown",
   "id": "66ad1e21",
   "metadata": {
    "papermill": {
     "duration": 0.038351,
     "end_time": "2021-08-16T23:02:09.527678",
     "exception": false,
     "start_time": "2021-08-16T23:02:09.489327",
     "status": "completed"
    },
    "tags": []
   },
   "source": [
    "Next, you'll experiment with one-hot encoding.  But, instead of encoding all of the categorical variables in the dataset, you'll only create a one-hot encoding for columns with cardinality less than 10.\n",
    "\n",
    "Run the code cell below without changes to set `low_cardinality_cols` to a Python list containing the columns that will be one-hot encoded.  Likewise, `high_cardinality_cols` contains a list of categorical columns that will be dropped from the dataset."
   ]
  },
  {
   "cell_type": "code",
   "execution_count": 20,
   "id": "4849b03b",
   "metadata": {
    "execution": {
     "iopub.execute_input": "2021-08-16T23:02:09.612589Z",
     "iopub.status.busy": "2021-08-16T23:02:09.611487Z",
     "iopub.status.idle": "2021-08-16T23:02:09.628977Z",
     "shell.execute_reply": "2021-08-16T23:02:09.629760Z",
     "shell.execute_reply.started": "2021-08-16T23:00:53.941973Z"
    },
    "papermill": {
     "duration": 0.06349,
     "end_time": "2021-08-16T23:02:09.630003",
     "exception": false,
     "start_time": "2021-08-16T23:02:09.566513",
     "status": "completed"
    },
    "tags": []
   },
   "outputs": [
    {
     "name": "stdout",
     "output_type": "stream",
     "text": [
      "Categorical columns that will be one-hot encoded: ['MSZoning', 'Street', 'LotShape', 'LandContour', 'Utilities', 'LotConfig', 'LandSlope', 'Condition1', 'Condition2', 'BldgType', 'HouseStyle', 'RoofStyle', 'RoofMatl', 'ExterQual', 'ExterCond', 'Foundation', 'Heating', 'HeatingQC', 'CentralAir', 'KitchenQual', 'Functional', 'PavedDrive', 'SaleType', 'SaleCondition']\n",
      "\n",
      "Categorical columns that will be dropped from the dataset: ['Neighborhood', 'Exterior1st', 'Exterior2nd']\n"
     ]
    }
   ],
   "source": [
    "# Columns that will be one-hot encoded\n",
    "low_cardinality_cols = [col for col in object_cols if X_train[col].nunique() < 10]\n",
    "\n",
    "# Columns that will be dropped from the dataset\n",
    "high_cardinality_cols = list(set(object_cols)-set(low_cardinality_cols))\n",
    "\n",
    "print('Categorical columns that will be one-hot encoded:', low_cardinality_cols)\n",
    "print('\\nCategorical columns that will be dropped from the dataset:', high_cardinality_cols)"
   ]
  },
  {
   "cell_type": "markdown",
   "id": "847514ac",
   "metadata": {
    "papermill": {
     "duration": 0.039945,
     "end_time": "2021-08-16T23:02:09.709546",
     "exception": false,
     "start_time": "2021-08-16T23:02:09.669601",
     "status": "completed"
    },
    "tags": []
   },
   "source": [
    "# Step 4: One-hot encoding\n",
    "\n",
    "Use the next code cell to one-hot encode the data in `X_train` and `X_valid`.  Set the preprocessed DataFrames to `OH_X_train` and `OH_X_valid`, respectively.  \n",
    "- The full list of categorical columns in the dataset can be found in the Python list `object_cols`.\n",
    "- You should only one-hot encode the categorical columns in `low_cardinality_cols`.  All other categorical columns should be dropped from the dataset. "
   ]
  },
  {
   "cell_type": "code",
   "execution_count": 21,
   "id": "0f3e69c3",
   "metadata": {
    "execution": {
     "iopub.execute_input": "2021-08-16T23:02:09.822004Z",
     "iopub.status.busy": "2021-08-16T23:02:09.820790Z",
     "iopub.status.idle": "2021-08-16T23:02:09.849000Z",
     "shell.execute_reply": "2021-08-16T23:02:09.848384Z",
     "shell.execute_reply.started": "2021-08-16T23:01:28.499660Z"
    },
    "papermill": {
     "duration": 0.100015,
     "end_time": "2021-08-16T23:02:09.849137",
     "exception": false,
     "start_time": "2021-08-16T23:02:09.749122",
     "status": "completed"
    },
    "tags": []
   },
   "outputs": [
    {
     "data": {
      "application/javascript": [
       "parent.postMessage({\"jupyterEvent\": \"custom.exercise_interaction\", \"data\": {\"outcomeType\": 1, \"valueTowardsCompletion\": 0.5, \"interactionType\": 1, \"questionType\": 2, \"questionId\": \"4_OneHot\", \"learnToolsVersion\": \"0.3.4\", \"failureMessage\": \"\", \"exceptionClass\": \"\", \"trace\": \"\"}}, \"*\")"
      ],
      "text/plain": [
       "<IPython.core.display.Javascript object>"
      ]
     },
     "metadata": {},
     "output_type": "display_data"
    },
    {
     "data": {
      "text/markdown": [
       "<span style=\"color:#33cc33\">Correct</span>"
      ],
      "text/plain": [
       "Correct"
      ]
     },
     "metadata": {},
     "output_type": "display_data"
    }
   ],
   "source": [
    "from sklearn.preprocessing import OneHotEncoder\n",
    "\n",
    "# Use as many lines of code as you need!\n",
    "\n",
    "\n",
    "# oh_label_X_train = X_train.drop(high_cardinality_cols, axis=1)\n",
    "# oh_label_X_valid = X_valid.drop(high_cardinality_cols, axis=1)\n",
    "\n",
    "\n",
    "\n",
    "\n",
    "# Apply one-hot encoder to each column with categorical data\n",
    "OH_encoder = OneHotEncoder(handle_unknown='ignore', sparse=False)\n",
    "\n",
    "\n",
    "OH_cols_train = pd.DataFrame(OH_encoder.fit_transform(X_train[low_cardinality_cols]))\n",
    "OH_cols_valid = pd.DataFrame(OH_encoder.transform(X_valid[low_cardinality_cols]))\n",
    "\n",
    "# One-hot encoding removed index; put it back\n",
    "OH_cols_train.index = X_train.index\n",
    "OH_cols_valid.index = X_valid.index\n",
    "\n",
    "# Remove categorical columns (will replace with one-hot encoding)\n",
    "num_X_train = X_train.drop(low_cardinality_cols, axis=1)\n",
    "num_X_valid = X_valid.drop(low_cardinality_cols, axis=1)\n",
    "\n",
    "# Add one-hot encoded columns to numerical features\n",
    "OH_X_train = pd.concat([num_X_train, OH_cols_train], axis=1)\n",
    "OH_X_valid = pd.concat([num_X_valid, OH_cols_valid], axis=1)\n",
    "\n",
    "\n",
    "OH_X_train = OH_X_train.drop(high_cardinality_cols, axis = 1)\n",
    "OH_X_valid = OH_X_valid.drop(high_cardinality_cols, axis = 1)\n",
    "\n",
    "\n",
    "\n",
    "\n",
    "\n",
    "\n",
    "\n",
    "\n",
    "\n",
    "\n",
    "# OH_X_train = ____ # Your code here\n",
    "# OH_X_valid = ____ # Your code here\n",
    "\n",
    "# Check your answer\n",
    "step_4.check()"
   ]
  },
  {
   "cell_type": "code",
   "execution_count": 22,
   "id": "d2ef5dd6",
   "metadata": {
    "execution": {
     "iopub.execute_input": "2021-08-16T23:02:09.934514Z",
     "iopub.status.busy": "2021-08-16T23:02:09.933808Z",
     "iopub.status.idle": "2021-08-16T23:02:09.936853Z",
     "shell.execute_reply": "2021-08-16T23:02:09.936231Z"
    },
    "papermill": {
     "duration": 0.046989,
     "end_time": "2021-08-16T23:02:09.936993",
     "exception": false,
     "start_time": "2021-08-16T23:02:09.890004",
     "status": "completed"
    },
    "tags": []
   },
   "outputs": [],
   "source": [
    "# Lines below will give you a hint or solution code\n",
    "#step_4.hint()\n",
    "#step_4.solution()"
   ]
  },
  {
   "cell_type": "markdown",
   "id": "f511280d",
   "metadata": {
    "papermill": {
     "duration": 0.040436,
     "end_time": "2021-08-16T23:02:10.018983",
     "exception": false,
     "start_time": "2021-08-16T23:02:09.978547",
     "status": "completed"
    },
    "tags": []
   },
   "source": [
    "Run the next code cell to get the MAE for this approach."
   ]
  },
  {
   "cell_type": "code",
   "execution_count": 23,
   "id": "aa9d5540",
   "metadata": {
    "execution": {
     "iopub.execute_input": "2021-08-16T23:02:10.108642Z",
     "iopub.status.busy": "2021-08-16T23:02:10.107857Z",
     "iopub.status.idle": "2021-08-16T23:02:12.142733Z",
     "shell.execute_reply": "2021-08-16T23:02:12.143350Z",
     "shell.execute_reply.started": "2021-08-16T23:01:36.840132Z"
    },
    "papermill": {
     "duration": 2.084163,
     "end_time": "2021-08-16T23:02:12.143523",
     "exception": false,
     "start_time": "2021-08-16T23:02:10.059360",
     "status": "completed"
    },
    "tags": []
   },
   "outputs": [
    {
     "name": "stdout",
     "output_type": "stream",
     "text": [
      "MAE from Approach 3 (One-Hot Encoding):\n",
      "17525.345719178084\n"
     ]
    }
   ],
   "source": [
    "print(\"MAE from Approach 3 (One-Hot Encoding):\") \n",
    "print(score_dataset(OH_X_train, OH_X_valid, y_train, y_valid))"
   ]
  },
  {
   "cell_type": "markdown",
   "id": "b872800e",
   "metadata": {
    "papermill": {
     "duration": 0.04088,
     "end_time": "2021-08-16T23:02:12.226283",
     "exception": false,
     "start_time": "2021-08-16T23:02:12.185403",
     "status": "completed"
    },
    "tags": []
   },
   "source": [
    "# Generate test predictions and submit your results\n",
    "\n",
    "After you complete Step 4, if you'd like to use what you've learned to submit your results to the leaderboard, you'll need to preprocess the test data before generating predictions.\n",
    "\n",
    "**This step is completely optional, and you do not need to submit results to the leaderboard to successfully complete the exercise.**\n",
    "\n",
    "Check out the previous exercise if you need help with remembering how to [join the competition](https://www.kaggle.com/c/home-data-for-ml-course) or save your results to CSV.  Once you have generated a file with your results, follow the instructions below:\n",
    "1. Begin by clicking on the **Save Version** button in the top right corner of the window.  This will generate a pop-up window.  \n",
    "2. Ensure that the **Save and Run All** option is selected, and then click on the **Save** button.\n",
    "3. This generates a window in the bottom left corner of the notebook.  After it has finished running, click on the number to the right of the **Save Version** button.  This pulls up a list of versions on the right of the screen.  Click on the ellipsis **(...)** to the right of the most recent version, and select **Open in Viewer**.  This brings you into view mode of the same page. You will need to scroll down to get back to these instructions.\n",
    "4. Click on the **Output** tab on the right of the screen.  Then, click on the file you would like to submit, and click on the blue **Submit** button to submit your results to the leaderboard.\n",
    "\n",
    "You have now successfully submitted to the competition!\n",
    "\n",
    "If you want to keep working to improve your performance, select the **Edit** button in the top right of the screen. Then you can change your code and repeat the process. There's a lot of room to improve, and you will climb up the leaderboard as you work.\n"
   ]
  },
  {
   "cell_type": "code",
   "execution_count": 24,
   "id": "434904f6",
   "metadata": {
    "execution": {
     "iopub.execute_input": "2021-08-16T23:02:12.316126Z",
     "iopub.status.busy": "2021-08-16T23:02:12.315494Z",
     "iopub.status.idle": "2021-08-16T23:02:12.318582Z",
     "shell.execute_reply": "2021-08-16T23:02:12.318005Z"
    },
    "papermill": {
     "duration": 0.04989,
     "end_time": "2021-08-16T23:02:12.318759",
     "exception": false,
     "start_time": "2021-08-16T23:02:12.268869",
     "status": "completed"
    },
    "tags": []
   },
   "outputs": [],
   "source": [
    "# (Optional) Your code here"
   ]
  },
  {
   "cell_type": "markdown",
   "id": "69be0697",
   "metadata": {
    "papermill": {
     "duration": 0.042182,
     "end_time": "2021-08-16T23:02:12.402704",
     "exception": false,
     "start_time": "2021-08-16T23:02:12.360522",
     "status": "completed"
    },
    "tags": []
   },
   "source": [
    "# Keep going\n",
    "\n",
    "With missing value handling and categorical encoding, your modeling process is getting complex. This complexity gets worse when you want to save your model to use in the future. The key to managing this complexity is something called **pipelines**. \n",
    "\n",
    "**[Learn to use pipelines](https://www.kaggle.com/alexisbcook/pipelines)** to preprocess datasets with categorical variables, missing values and any other messiness your data throws at you."
   ]
  },
  {
   "cell_type": "markdown",
   "id": "1487d29a",
   "metadata": {
    "papermill": {
     "duration": 0.042173,
     "end_time": "2021-08-16T23:02:12.486140",
     "exception": false,
     "start_time": "2021-08-16T23:02:12.443967",
     "status": "completed"
    },
    "tags": []
   },
   "source": [
    "---\n",
    "\n",
    "\n",
    "\n",
    "\n",
    "*Have questions or comments? Visit the [Learn Discussion forum](https://www.kaggle.com/learn-forum/161289) to chat with other Learners.*"
   ]
  }
 ],
 "metadata": {
  "kernelspec": {
   "display_name": "Python 3",
   "language": "python",
   "name": "python3"
  },
  "language_info": {
   "codemirror_mode": {
    "name": "ipython",
    "version": 3
   },
   "file_extension": ".py",
   "mimetype": "text/x-python",
   "name": "python",
   "nbconvert_exporter": "python",
   "pygments_lexer": "ipython3",
   "version": "3.7.10"
  },
  "papermill": {
   "default_parameters": {},
   "duration": 19.924806,
   "end_time": "2021-08-16T23:02:13.823031",
   "environment_variables": {},
   "exception": null,
   "input_path": "__notebook__.ipynb",
   "output_path": "__notebook__.ipynb",
   "parameters": {},
   "start_time": "2021-08-16T23:01:53.898225",
   "version": "2.3.3"
  }
 },
 "nbformat": 4,
 "nbformat_minor": 5
}

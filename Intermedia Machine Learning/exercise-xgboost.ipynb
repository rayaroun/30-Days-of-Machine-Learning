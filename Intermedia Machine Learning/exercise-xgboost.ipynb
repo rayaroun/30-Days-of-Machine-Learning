{
 "cells": [
  {
   "cell_type": "markdown",
   "id": "32efb680",
   "metadata": {
    "papermill": {
     "duration": 0.016278,
     "end_time": "2021-08-17T07:18:32.191331",
     "exception": false,
     "start_time": "2021-08-17T07:18:32.175053",
     "status": "completed"
    },
    "tags": []
   },
   "source": [
    "**This notebook is an exercise in the [Intermediate Machine Learning](https://www.kaggle.com/learn/intermediate-machine-learning) course.  You can reference the tutorial at [this link](https://www.kaggle.com/alexisbcook/xgboost).**\n",
    "\n",
    "---\n"
   ]
  },
  {
   "cell_type": "markdown",
   "id": "d0e43382",
   "metadata": {
    "papermill": {
     "duration": 0.014488,
     "end_time": "2021-08-17T07:18:32.220900",
     "exception": false,
     "start_time": "2021-08-17T07:18:32.206412",
     "status": "completed"
    },
    "tags": []
   },
   "source": [
    "In this exercise, you will use your new knowledge to train a model with **gradient boosting**.\n",
    "\n",
    "# Setup\n",
    "\n",
    "The questions below will give you feedback on your work. Run the following cell to set up the feedback system."
   ]
  },
  {
   "cell_type": "code",
   "execution_count": 1,
   "id": "c5cd2d6e",
   "metadata": {
    "execution": {
     "iopub.execute_input": "2021-08-17T07:18:32.255009Z",
     "iopub.status.busy": "2021-08-17T07:18:32.253672Z",
     "iopub.status.idle": "2021-08-17T07:18:34.775023Z",
     "shell.execute_reply": "2021-08-17T07:18:34.776148Z",
     "shell.execute_reply.started": "2021-08-17T07:03:03.699890Z"
    },
    "papermill": {
     "duration": 2.54094,
     "end_time": "2021-08-17T07:18:34.776509",
     "exception": false,
     "start_time": "2021-08-17T07:18:32.235569",
     "status": "completed"
    },
    "tags": []
   },
   "outputs": [
    {
     "name": "stdout",
     "output_type": "stream",
     "text": [
      "Setup Complete\n"
     ]
    }
   ],
   "source": [
    "# Set up code checking\n",
    "import os\n",
    "if not os.path.exists(\"../input/train.csv\"):\n",
    "    os.symlink(\"../input/home-data-for-ml-course/train.csv\", \"../input/train.csv\")  \n",
    "    os.symlink(\"../input/home-data-for-ml-course/test.csv\", \"../input/test.csv\") \n",
    "from learntools.core import binder\n",
    "binder.bind(globals())\n",
    "from learntools.ml_intermediate.ex6 import *\n",
    "print(\"Setup Complete\")"
   ]
  },
  {
   "cell_type": "markdown",
   "id": "07fd4e48",
   "metadata": {
    "papermill": {
     "duration": 0.015134,
     "end_time": "2021-08-17T07:18:34.807448",
     "exception": false,
     "start_time": "2021-08-17T07:18:34.792314",
     "status": "completed"
    },
    "tags": []
   },
   "source": [
    "You will work with the [Housing Prices Competition for Kaggle Learn Users](https://www.kaggle.com/c/home-data-for-ml-course) dataset from the previous exercise. \n",
    "\n",
    "![Ames Housing dataset image](https://i.imgur.com/lTJVG4e.png)\n",
    "\n",
    "Run the next code cell without changes to load the training and validation sets in `X_train`, `X_valid`, `y_train`, and `y_valid`.  The test set is loaded in `X_test`."
   ]
  },
  {
   "cell_type": "code",
   "execution_count": 2,
   "id": "e6e73cbd",
   "metadata": {
    "execution": {
     "iopub.execute_input": "2021-08-17T07:18:34.849966Z",
     "iopub.status.busy": "2021-08-17T07:18:34.847009Z",
     "iopub.status.idle": "2021-08-17T07:18:35.086030Z",
     "shell.execute_reply": "2021-08-17T07:18:35.086532Z",
     "shell.execute_reply.started": "2021-08-17T07:05:21.061598Z"
    },
    "papermill": {
     "duration": 0.263825,
     "end_time": "2021-08-17T07:18:35.086757",
     "exception": false,
     "start_time": "2021-08-17T07:18:34.822932",
     "status": "completed"
    },
    "tags": []
   },
   "outputs": [],
   "source": [
    "import pandas as pd\n",
    "from sklearn.model_selection import train_test_split\n",
    "\n",
    "# Read the data\n",
    "X = pd.read_csv('../input/train.csv', index_col='Id')\n",
    "X_test_full = pd.read_csv('../input/test.csv', index_col='Id')\n",
    "\n",
    "# Remove rows with missing target, separate target from predictors\n",
    "X.dropna(axis=0, subset=['SalePrice'], inplace=True)\n",
    "y = X.SalePrice              \n",
    "X.drop(['SalePrice'], axis=1, inplace=True)\n",
    "\n",
    "# Break off validation set from training data\n",
    "X_train_full, X_valid_full, y_train, y_valid = train_test_split(X, y, train_size=0.8, test_size=0.2,\n",
    "                                                                random_state=0)\n",
    "\n",
    "# \"Cardinality\" means the number of unique values in a column\n",
    "# Select categorical columns with relatively low cardinality (convenient but arbitrary)\n",
    "low_cardinality_cols = [cname for cname in X_train_full.columns if X_train_full[cname].nunique() < 10 and \n",
    "                        X_train_full[cname].dtype == \"object\"]\n",
    "\n",
    "# Select numeric columns\n",
    "numeric_cols = [cname for cname in X_train_full.columns if X_train_full[cname].dtype in ['int64', 'float64']]\n",
    "\n",
    "# Keep selected columns only\n",
    "my_cols = low_cardinality_cols + numeric_cols\n",
    "X_train = X_train_full[my_cols].copy()\n",
    "X_valid = X_valid_full[my_cols].copy()\n",
    "X_test = X_test_full[my_cols].copy()\n",
    "\n",
    "# One-hot encode the data (to shorten the code, we use pandas)\n",
    "X_train = pd.get_dummies(X_train)\n",
    "X_valid = pd.get_dummies(X_valid)\n",
    "X_test = pd.get_dummies(X_test)\n",
    "X_train, X_valid = X_train.align(X_valid, join='left', axis=1)\n",
    "X_train, X_test = X_train.align(X_test, join='left', axis=1)"
   ]
  },
  {
   "cell_type": "markdown",
   "id": "290a2103",
   "metadata": {
    "papermill": {
     "duration": 0.014845,
     "end_time": "2021-08-17T07:18:35.117430",
     "exception": false,
     "start_time": "2021-08-17T07:18:35.102585",
     "status": "completed"
    },
    "tags": []
   },
   "source": [
    "# Step 1: Build model\n",
    "\n",
    "### Part A\n",
    "\n",
    "In this step, you'll build and train your first model with gradient boosting.\n",
    "\n",
    "- Begin by setting `my_model_1` to an XGBoost model.  Use the [XGBRegressor](https://xgboost.readthedocs.io/en/latest/python/python_api.html#xgboost.XGBRegressor) class, and set the random seed to 0 (`random_state=0`).  **Leave all other parameters as default.**\n",
    "- Then, fit the model to the training data in `X_train` and `y_train`."
   ]
  },
  {
   "cell_type": "code",
   "execution_count": 3,
   "id": "0aeb223b",
   "metadata": {
    "execution": {
     "iopub.execute_input": "2021-08-17T07:18:35.160484Z",
     "iopub.status.busy": "2021-08-17T07:18:35.153287Z",
     "iopub.status.idle": "2021-08-17T07:18:35.904225Z",
     "shell.execute_reply": "2021-08-17T07:18:35.904795Z",
     "shell.execute_reply.started": "2021-08-17T07:07:34.814126Z"
    },
    "papermill": {
     "duration": 0.77237,
     "end_time": "2021-08-17T07:18:35.905037",
     "exception": false,
     "start_time": "2021-08-17T07:18:35.132667",
     "status": "completed"
    },
    "tags": []
   },
   "outputs": [
    {
     "data": {
      "application/javascript": [
       "parent.postMessage({\"jupyterEvent\": \"custom.exercise_interaction\", \"data\": {\"outcomeType\": 1, \"valueTowardsCompletion\": 0.5, \"interactionType\": 1, \"questionType\": 2, \"questionId\": \"1.1_Model1A\", \"learnToolsVersion\": \"0.3.4\", \"failureMessage\": \"\", \"exceptionClass\": \"\", \"trace\": \"\"}}, \"*\")"
      ],
      "text/plain": [
       "<IPython.core.display.Javascript object>"
      ]
     },
     "metadata": {},
     "output_type": "display_data"
    },
    {
     "data": {
      "text/markdown": [
       "<span style=\"color:#33cc33\">Correct</span>"
      ],
      "text/plain": [
       "Correct"
      ]
     },
     "metadata": {},
     "output_type": "display_data"
    }
   ],
   "source": [
    "from xgboost import XGBRegressor\n",
    "\n",
    "# Define the model\n",
    "my_model_1 = XGBRegressor(random_state = 0)\n",
    "\n",
    "# Fit the model\n",
    "# Your code here\n",
    "my_model_1.fit(X_train, y_train)\n",
    "\n",
    "\n",
    "\n",
    "# Check your answer\n",
    "step_1.a.check()"
   ]
  },
  {
   "cell_type": "code",
   "execution_count": 4,
   "id": "cebd318f",
   "metadata": {
    "execution": {
     "iopub.execute_input": "2021-08-17T07:18:35.942628Z",
     "iopub.status.busy": "2021-08-17T07:18:35.941982Z",
     "iopub.status.idle": "2021-08-17T07:18:35.945666Z",
     "shell.execute_reply": "2021-08-17T07:18:35.946233Z"
    },
    "papermill": {
     "duration": 0.023491,
     "end_time": "2021-08-17T07:18:35.946463",
     "exception": false,
     "start_time": "2021-08-17T07:18:35.922972",
     "status": "completed"
    },
    "tags": []
   },
   "outputs": [],
   "source": [
    "# Lines below will give you a hint or solution code\n",
    "#step_1.a.hint()\n",
    "#step_1.a.solution()"
   ]
  },
  {
   "cell_type": "markdown",
   "id": "e89ae1a4",
   "metadata": {
    "papermill": {
     "duration": 0.016344,
     "end_time": "2021-08-17T07:18:35.981760",
     "exception": false,
     "start_time": "2021-08-17T07:18:35.965416",
     "status": "completed"
    },
    "tags": []
   },
   "source": [
    "### Part B\n",
    "\n",
    "Set `predictions_1` to the model's predictions for the validation data.  Recall that the validation features are stored in `X_valid`."
   ]
  },
  {
   "cell_type": "code",
   "execution_count": 5,
   "id": "9afdb651",
   "metadata": {
    "execution": {
     "iopub.execute_input": "2021-08-17T07:18:36.022498Z",
     "iopub.status.busy": "2021-08-17T07:18:36.021725Z",
     "iopub.status.idle": "2021-08-17T07:18:36.038428Z",
     "shell.execute_reply": "2021-08-17T07:18:36.039060Z",
     "shell.execute_reply.started": "2021-08-17T07:08:08.783549Z"
    },
    "papermill": {
     "duration": 0.038146,
     "end_time": "2021-08-17T07:18:36.039290",
     "exception": false,
     "start_time": "2021-08-17T07:18:36.001144",
     "status": "completed"
    },
    "tags": []
   },
   "outputs": [
    {
     "data": {
      "application/javascript": [
       "parent.postMessage({\"jupyterEvent\": \"custom.exercise_interaction\", \"data\": {\"outcomeType\": 1, \"valueTowardsCompletion\": 0.5, \"interactionType\": 1, \"questionType\": 2, \"questionId\": \"1.2_Model1B\", \"learnToolsVersion\": \"0.3.4\", \"failureMessage\": \"\", \"exceptionClass\": \"\", \"trace\": \"\"}}, \"*\")"
      ],
      "text/plain": [
       "<IPython.core.display.Javascript object>"
      ]
     },
     "metadata": {},
     "output_type": "display_data"
    },
    {
     "data": {
      "text/markdown": [
       "<span style=\"color:#33cc33\">Correct</span>"
      ],
      "text/plain": [
       "Correct"
      ]
     },
     "metadata": {},
     "output_type": "display_data"
    }
   ],
   "source": [
    "from sklearn.metrics import mean_absolute_error\n",
    "\n",
    "# Get predictions\n",
    "predictions_1 = my_model_1.predict(X_valid)\n",
    "\n",
    "# Check your answer\n",
    "step_1.b.check()"
   ]
  },
  {
   "cell_type": "code",
   "execution_count": 6,
   "id": "62485f42",
   "metadata": {
    "execution": {
     "iopub.execute_input": "2021-08-17T07:18:36.081263Z",
     "iopub.status.busy": "2021-08-17T07:18:36.080513Z",
     "iopub.status.idle": "2021-08-17T07:18:36.083803Z",
     "shell.execute_reply": "2021-08-17T07:18:36.083069Z"
    },
    "papermill": {
     "duration": 0.024434,
     "end_time": "2021-08-17T07:18:36.083998",
     "exception": false,
     "start_time": "2021-08-17T07:18:36.059564",
     "status": "completed"
    },
    "tags": []
   },
   "outputs": [],
   "source": [
    "# Lines below will give you a hint or solution code\n",
    "#step_1.b.hint()\n",
    "#step_1.b.solution()"
   ]
  },
  {
   "cell_type": "markdown",
   "id": "43c1835d",
   "metadata": {
    "papermill": {
     "duration": 0.017171,
     "end_time": "2021-08-17T07:18:36.121076",
     "exception": false,
     "start_time": "2021-08-17T07:18:36.103905",
     "status": "completed"
    },
    "tags": []
   },
   "source": [
    "### Part C\n",
    "\n",
    "Finally, use the `mean_absolute_error()` function to calculate the mean absolute error (MAE) corresponding to the predictions for the validation set.  Recall that the labels for the validation data are stored in `y_valid`."
   ]
  },
  {
   "cell_type": "code",
   "execution_count": 7,
   "id": "ef43dc58",
   "metadata": {
    "execution": {
     "iopub.execute_input": "2021-08-17T07:18:36.160745Z",
     "iopub.status.busy": "2021-08-17T07:18:36.159994Z",
     "iopub.status.idle": "2021-08-17T07:18:36.172089Z",
     "shell.execute_reply": "2021-08-17T07:18:36.171468Z",
     "shell.execute_reply.started": "2021-08-17T07:10:47.825176Z"
    },
    "papermill": {
     "duration": 0.033601,
     "end_time": "2021-08-17T07:18:36.172255",
     "exception": false,
     "start_time": "2021-08-17T07:18:36.138654",
     "status": "completed"
    },
    "tags": []
   },
   "outputs": [
    {
     "name": "stdout",
     "output_type": "stream",
     "text": [
      "Mean Absolute Error: 17662.736729452055\n"
     ]
    },
    {
     "data": {
      "application/javascript": [
       "parent.postMessage({\"jupyterEvent\": \"custom.exercise_interaction\", \"data\": {\"outcomeType\": 1, \"valueTowardsCompletion\": 0.5, \"interactionType\": 1, \"questionType\": 2, \"questionId\": \"1.3_Model1C\", \"learnToolsVersion\": \"0.3.4\", \"failureMessage\": \"\", \"exceptionClass\": \"\", \"trace\": \"\"}}, \"*\")"
      ],
      "text/plain": [
       "<IPython.core.display.Javascript object>"
      ]
     },
     "metadata": {},
     "output_type": "display_data"
    },
    {
     "data": {
      "text/markdown": [
       "<span style=\"color:#33cc33\">Correct</span>"
      ],
      "text/plain": [
       "Correct"
      ]
     },
     "metadata": {},
     "output_type": "display_data"
    }
   ],
   "source": [
    "# Calculate MAE\n",
    "mae_1 = mean_absolute_error(predictions_1, y_valid)\n",
    "\n",
    "# Uncomment to print MAE\n",
    "print(\"Mean Absolute Error:\" , mae_1)\n",
    "\n",
    "# Check your answer\n",
    "step_1.c.check()"
   ]
  },
  {
   "cell_type": "code",
   "execution_count": 8,
   "id": "8baa61c4",
   "metadata": {
    "execution": {
     "iopub.execute_input": "2021-08-17T07:18:36.216589Z",
     "iopub.status.busy": "2021-08-17T07:18:36.215901Z",
     "iopub.status.idle": "2021-08-17T07:18:36.219671Z",
     "shell.execute_reply": "2021-08-17T07:18:36.219014Z"
    },
    "papermill": {
     "duration": 0.026775,
     "end_time": "2021-08-17T07:18:36.219813",
     "exception": false,
     "start_time": "2021-08-17T07:18:36.193038",
     "status": "completed"
    },
    "tags": []
   },
   "outputs": [],
   "source": [
    "# Lines below will give you a hint or solution code\n",
    "#step_1.c.hint()\n",
    "#step_1.c.solution()"
   ]
  },
  {
   "cell_type": "markdown",
   "id": "ce25bdca",
   "metadata": {
    "papermill": {
     "duration": 0.019782,
     "end_time": "2021-08-17T07:18:36.258559",
     "exception": false,
     "start_time": "2021-08-17T07:18:36.238777",
     "status": "completed"
    },
    "tags": []
   },
   "source": [
    "# Step 2: Improve the model\n",
    "\n",
    "Now that you've trained a default model as baseline, it's time to tinker with the parameters, to see if you can get better performance!\n",
    "- Begin by setting `my_model_2` to an XGBoost model, using the [XGBRegressor](https://xgboost.readthedocs.io/en/latest/python/python_api.html#xgboost.XGBRegressor) class.  Use what you learned in the previous tutorial to figure out how to change the default parameters (like `n_estimators` and `learning_rate`) to get better results.\n",
    "- Then, fit the model to the training data in `X_train` and `y_train`.\n",
    "- Set `predictions_2` to the model's predictions for the validation data.  Recall that the validation features are stored in `X_valid`.\n",
    "- Finally, use the `mean_absolute_error()` function to calculate the mean absolute error (MAE) corresponding to the predictions on the validation set.  Recall that the labels for the validation data are stored in `y_valid`.\n",
    "\n",
    "In order for this step to be marked correct, your model in `my_model_2` must attain lower MAE than the model in `my_model_1`. "
   ]
  },
  {
   "cell_type": "code",
   "execution_count": 9,
   "id": "d855c6c2",
   "metadata": {
    "execution": {
     "iopub.execute_input": "2021-08-17T07:18:36.311279Z",
     "iopub.status.busy": "2021-08-17T07:18:36.310332Z",
     "iopub.status.idle": "2021-08-17T07:18:38.152730Z",
     "shell.execute_reply": "2021-08-17T07:18:38.153384Z",
     "shell.execute_reply.started": "2021-08-17T07:16:15.877128Z"
    },
    "papermill": {
     "duration": 1.875798,
     "end_time": "2021-08-17T07:18:38.153618",
     "exception": false,
     "start_time": "2021-08-17T07:18:36.277820",
     "status": "completed"
    },
    "tags": []
   },
   "outputs": [
    {
     "name": "stdout",
     "output_type": "stream",
     "text": [
      "Mean Absolute Error: 16802.965325342466\n"
     ]
    },
    {
     "data": {
      "application/javascript": [
       "parent.postMessage({\"jupyterEvent\": \"custom.exercise_interaction\", \"data\": {\"outcomeType\": 1, \"valueTowardsCompletion\": 0.5, \"interactionType\": 1, \"questionType\": 2, \"questionId\": \"2_Model2\", \"learnToolsVersion\": \"0.3.4\", \"failureMessage\": \"\", \"exceptionClass\": \"\", \"trace\": \"\"}}, \"*\")"
      ],
      "text/plain": [
       "<IPython.core.display.Javascript object>"
      ]
     },
     "metadata": {},
     "output_type": "display_data"
    },
    {
     "data": {
      "text/markdown": [
       "<span style=\"color:#33cc33\">Correct</span>"
      ],
      "text/plain": [
       "Correct"
      ]
     },
     "metadata": {},
     "output_type": "display_data"
    }
   ],
   "source": [
    "# Define the model\n",
    "my_model_2 =  XGBRegressor(n_estimators=1000, learning_rate=0.05)\n",
    "\n",
    "# Fit the model\n",
    "my_model_2.fit(X_train, y_train, \n",
    "             early_stopping_rounds=5, \n",
    "             eval_set=[(X_valid, y_valid)], \n",
    "             verbose=False)\n",
    "\n",
    "\n",
    "# Get predictions\n",
    "predictions_2 = my_model_2.predict(X_valid) # Your code here\n",
    "\n",
    "# Calculate MAE\n",
    "mae_2 = mean_absolute_error(predictions_2, y_valid) # Your code here\n",
    "\n",
    "# Uncomment to print MAE\n",
    "print(\"Mean Absolute Error:\" , mae_2)\n",
    "\n",
    "# Check your answer\n",
    "step_2.check()"
   ]
  },
  {
   "cell_type": "code",
   "execution_count": 10,
   "id": "4012b99e",
   "metadata": {
    "execution": {
     "iopub.execute_input": "2021-08-17T07:18:38.200931Z",
     "iopub.status.busy": "2021-08-17T07:18:38.200225Z",
     "iopub.status.idle": "2021-08-17T07:18:38.202158Z",
     "shell.execute_reply": "2021-08-17T07:18:38.202626Z"
    },
    "papermill": {
     "duration": 0.026553,
     "end_time": "2021-08-17T07:18:38.202808",
     "exception": false,
     "start_time": "2021-08-17T07:18:38.176255",
     "status": "completed"
    },
    "tags": []
   },
   "outputs": [],
   "source": [
    "# Lines below will give you a hint or solution code\n",
    "#step_2.hint()\n",
    "#step_2.solution()"
   ]
  },
  {
   "cell_type": "markdown",
   "id": "75110283",
   "metadata": {
    "papermill": {
     "duration": 0.019849,
     "end_time": "2021-08-17T07:18:38.245375",
     "exception": false,
     "start_time": "2021-08-17T07:18:38.225526",
     "status": "completed"
    },
    "tags": []
   },
   "source": [
    "# Step 3: Break the model\n",
    "\n",
    "In this step, you will create a model that performs worse than the original model in Step 1.  This will help you to develop your intuition for how to set parameters.  You might even find that you accidentally get better performance, which is ultimately a nice problem to have and a valuable learning experience!\n",
    "- Begin by setting `my_model_3` to an XGBoost model, using the [XGBRegressor](https://xgboost.readthedocs.io/en/latest/python/python_api.html#xgboost.XGBRegressor) class.  Use what you learned in the previous tutorial to figure out how to change the default parameters (like `n_estimators` and `learning_rate`) to design a model to get high MAE.\n",
    "- Then, fit the model to the training data in `X_train` and `y_train`.\n",
    "- Set `predictions_3` to the model's predictions for the validation data.  Recall that the validation features are stored in `X_valid`.\n",
    "- Finally, use the `mean_absolute_error()` function to calculate the mean absolute error (MAE) corresponding to the predictions on the validation set.  Recall that the labels for the validation data are stored in `y_valid`.\n",
    "\n",
    "In order for this step to be marked correct, your model in `my_model_3` must attain higher MAE than the model in `my_model_1`. "
   ]
  },
  {
   "cell_type": "code",
   "execution_count": 11,
   "id": "72ea8d93",
   "metadata": {
    "execution": {
     "iopub.execute_input": "2021-08-17T07:18:38.292062Z",
     "iopub.status.busy": "2021-08-17T07:18:38.291181Z",
     "iopub.status.idle": "2021-08-17T07:18:38.405091Z",
     "shell.execute_reply": "2021-08-17T07:18:38.406192Z",
     "shell.execute_reply.started": "2021-08-17T07:18:06.084411Z"
    },
    "papermill": {
     "duration": 0.138417,
     "end_time": "2021-08-17T07:18:38.406407",
     "exception": false,
     "start_time": "2021-08-17T07:18:38.267990",
     "status": "completed"
    },
    "tags": []
   },
   "outputs": [
    {
     "name": "stdout",
     "output_type": "stream",
     "text": [
      "Mean Absolute Error: 19076.726000642124\n"
     ]
    },
    {
     "data": {
      "application/javascript": [
       "parent.postMessage({\"jupyterEvent\": \"custom.exercise_interaction\", \"data\": {\"outcomeType\": 1, \"valueTowardsCompletion\": 0.5, \"interactionType\": 1, \"questionType\": 2, \"questionId\": \"3_Model3\", \"learnToolsVersion\": \"0.3.4\", \"failureMessage\": \"\", \"exceptionClass\": \"\", \"trace\": \"\"}}, \"*\")"
      ],
      "text/plain": [
       "<IPython.core.display.Javascript object>"
      ]
     },
     "metadata": {},
     "output_type": "display_data"
    },
    {
     "data": {
      "text/markdown": [
       "<span style=\"color:#33cc33\">Correct</span>"
      ],
      "text/plain": [
       "Correct"
      ]
     },
     "metadata": {},
     "output_type": "display_data"
    }
   ],
   "source": [
    "# Define the model\n",
    "my_model_3 = XGBRegressor(n_estimators=10)\n",
    "\n",
    "# Fit the model\n",
    "my_model_3.fit(X_train, y_train)\n",
    "# Get predictions\n",
    "predictions_3 = my_model_3.predict(X_valid)\n",
    "\n",
    "# Calculate MAE\n",
    "mae_3 = mean_absolute_error(predictions_3, y_valid)\n",
    "\n",
    "# Uncomment to print MAE\n",
    "print(\"Mean Absolute Error:\" , mae_3)\n",
    "\n",
    "# Check your answer\n",
    "step_3.check()"
   ]
  },
  {
   "cell_type": "code",
   "execution_count": 12,
   "id": "408c9cf0",
   "metadata": {
    "execution": {
     "iopub.execute_input": "2021-08-17T07:18:38.458046Z",
     "iopub.status.busy": "2021-08-17T07:18:38.457024Z",
     "iopub.status.idle": "2021-08-17T07:18:38.460174Z",
     "shell.execute_reply": "2021-08-17T07:18:38.459504Z"
    },
    "papermill": {
     "duration": 0.031075,
     "end_time": "2021-08-17T07:18:38.460322",
     "exception": false,
     "start_time": "2021-08-17T07:18:38.429247",
     "status": "completed"
    },
    "tags": []
   },
   "outputs": [],
   "source": [
    "# Lines below will give you a hint or solution code\n",
    "#step_3.hint()\n",
    "#step_3.solution()"
   ]
  },
  {
   "cell_type": "markdown",
   "id": "30af23c5",
   "metadata": {
    "papermill": {
     "duration": 0.026035,
     "end_time": "2021-08-17T07:18:38.511253",
     "exception": false,
     "start_time": "2021-08-17T07:18:38.485218",
     "status": "completed"
    },
    "tags": []
   },
   "source": [
    "# Keep going\n",
    "\n",
    "Continue to learn about **[data leakage](https://www.kaggle.com/alexisbcook/data-leakage)**.  This is an important issue for a data scientist to understand, and it has the potential to ruin your models in subtle and dangerous ways!"
   ]
  },
  {
   "cell_type": "markdown",
   "id": "c8289d87",
   "metadata": {
    "papermill": {
     "duration": 0.021356,
     "end_time": "2021-08-17T07:18:38.555981",
     "exception": false,
     "start_time": "2021-08-17T07:18:38.534625",
     "status": "completed"
    },
    "tags": []
   },
   "source": [
    "---\n",
    "\n",
    "\n",
    "\n",
    "\n",
    "*Have questions or comments? Visit the [Learn Discussion forum](https://www.kaggle.com/learn-forum/161289) to chat with other Learners.*"
   ]
  }
 ],
 "metadata": {
  "kernelspec": {
   "display_name": "Python 3",
   "language": "python",
   "name": "python3"
  },
  "language_info": {
   "codemirror_mode": {
    "name": "ipython",
    "version": 3
   },
   "file_extension": ".py",
   "mimetype": "text/x-python",
   "name": "python",
   "nbconvert_exporter": "python",
   "pygments_lexer": "ipython3",
   "version": "3.7.10"
  },
  "papermill": {
   "default_parameters": {},
   "duration": 16.831687,
   "end_time": "2021-08-17T07:18:39.388416",
   "environment_variables": {},
   "exception": null,
   "input_path": "__notebook__.ipynb",
   "output_path": "__notebook__.ipynb",
   "parameters": {},
   "start_time": "2021-08-17T07:18:22.556729",
   "version": "2.3.3"
  }
 },
 "nbformat": 4,
 "nbformat_minor": 5
}

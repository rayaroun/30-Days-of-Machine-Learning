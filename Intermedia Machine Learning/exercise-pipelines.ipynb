{
 "cells": [
  {
   "cell_type": "markdown",
   "id": "5befb46e",
   "metadata": {
    "papermill": {
     "duration": 0.015545,
     "end_time": "2021-08-16T23:26:43.746201",
     "exception": false,
     "start_time": "2021-08-16T23:26:43.730656",
     "status": "completed"
    },
    "tags": []
   },
   "source": [
    "**This notebook is an exercise in the [Intermediate Machine Learning](https://www.kaggle.com/learn/intermediate-machine-learning) course.  You can reference the tutorial at [this link](https://www.kaggle.com/alexisbcook/pipelines).**\n",
    "\n",
    "---\n"
   ]
  },
  {
   "cell_type": "markdown",
   "id": "837ac844",
   "metadata": {
    "papermill": {
     "duration": 0.01403,
     "end_time": "2021-08-16T23:26:43.776554",
     "exception": false,
     "start_time": "2021-08-16T23:26:43.762524",
     "status": "completed"
    },
    "tags": []
   },
   "source": [
    "In this exercise, you will use **pipelines** to improve the efficiency of your machine learning code.\n",
    "\n",
    "# Setup\n",
    "\n",
    "The questions below will give you feedback on your work. Run the following cell to set up the feedback system."
   ]
  },
  {
   "cell_type": "code",
   "execution_count": 1,
   "id": "3391bc12",
   "metadata": {
    "execution": {
     "iopub.execute_input": "2021-08-16T23:26:43.809321Z",
     "iopub.status.busy": "2021-08-16T23:26:43.808071Z",
     "iopub.status.idle": "2021-08-16T23:26:44.886293Z",
     "shell.execute_reply": "2021-08-16T23:26:44.885511Z",
     "shell.execute_reply.started": "2021-08-16T23:01:53.391099Z"
    },
    "papermill": {
     "duration": 1.095741,
     "end_time": "2021-08-16T23:26:44.886478",
     "exception": false,
     "start_time": "2021-08-16T23:26:43.790737",
     "status": "completed"
    },
    "tags": []
   },
   "outputs": [
    {
     "name": "stdout",
     "output_type": "stream",
     "text": [
      "Setup Complete\n"
     ]
    }
   ],
   "source": [
    "# Set up code checking\n",
    "import os\n",
    "if not os.path.exists(\"../input/train.csv\"):\n",
    "    os.symlink(\"../input/home-data-for-ml-course/train.csv\", \"../input/train.csv\")  \n",
    "    os.symlink(\"../input/home-data-for-ml-course/test.csv\", \"../input/test.csv\") \n",
    "from learntools.core import binder\n",
    "binder.bind(globals())\n",
    "from learntools.ml_intermediate.ex4 import *\n",
    "print(\"Setup Complete\")"
   ]
  },
  {
   "cell_type": "markdown",
   "id": "81a751b4",
   "metadata": {
    "papermill": {
     "duration": 0.014149,
     "end_time": "2021-08-16T23:26:44.915754",
     "exception": false,
     "start_time": "2021-08-16T23:26:44.901605",
     "status": "completed"
    },
    "tags": []
   },
   "source": [
    "You will work with data from the [Housing Prices Competition for Kaggle Learn Users](https://www.kaggle.com/c/home-data-for-ml-course). \n",
    "\n",
    "![Ames Housing dataset image](https://i.imgur.com/lTJVG4e.png)\n",
    "\n",
    "Run the next code cell without changes to load the training and validation sets in `X_train`, `X_valid`, `y_train`, and `y_valid`.  The test set is loaded in `X_test`."
   ]
  },
  {
   "cell_type": "code",
   "execution_count": 2,
   "id": "ccd8d1b4",
   "metadata": {
    "execution": {
     "iopub.execute_input": "2021-08-16T23:26:44.953891Z",
     "iopub.status.busy": "2021-08-16T23:26:44.953159Z",
     "iopub.status.idle": "2021-08-16T23:26:45.198997Z",
     "shell.execute_reply": "2021-08-16T23:26:45.198321Z",
     "shell.execute_reply.started": "2021-08-16T23:01:56.433729Z"
    },
    "papermill": {
     "duration": 0.269033,
     "end_time": "2021-08-16T23:26:45.199137",
     "exception": false,
     "start_time": "2021-08-16T23:26:44.930104",
     "status": "completed"
    },
    "tags": []
   },
   "outputs": [],
   "source": [
    "import pandas as pd\n",
    "from sklearn.model_selection import train_test_split\n",
    "\n",
    "# Read the data\n",
    "X_full = pd.read_csv('../input/train.csv', index_col='Id')\n",
    "X_test_full = pd.read_csv('../input/test.csv', index_col='Id')\n",
    "\n",
    "# Remove rows with missing target, separate target from predictors\n",
    "X_full.dropna(axis=0, subset=['SalePrice'], inplace=True)\n",
    "y = X_full.SalePrice\n",
    "X_full.drop(['SalePrice'], axis=1, inplace=True)\n",
    "\n",
    "# Break off validation set from training data\n",
    "X_train_full, X_valid_full, y_train, y_valid = train_test_split(X_full, y, \n",
    "                                                                train_size=0.8, test_size=0.2,\n",
    "                                                                random_state=0)\n",
    "\n",
    "# \"Cardinality\" means the number of unique values in a column\n",
    "# Select categorical columns with relatively low cardinality (convenient but arbitrary)\n",
    "categorical_cols = [cname for cname in X_train_full.columns if\n",
    "                    X_train_full[cname].nunique() < 10 and \n",
    "                    X_train_full[cname].dtype == \"object\"]\n",
    "\n",
    "# Select numerical columns\n",
    "numerical_cols = [cname for cname in X_train_full.columns if \n",
    "                X_train_full[cname].dtype in ['int64', 'float64']]\n",
    "\n",
    "# Keep selected columns only\n",
    "my_cols = categorical_cols + numerical_cols\n",
    "X_train = X_train_full[my_cols].copy()\n",
    "X_valid = X_valid_full[my_cols].copy()\n",
    "X_test = X_test_full[my_cols].copy()"
   ]
  },
  {
   "cell_type": "code",
   "execution_count": 3,
   "id": "811da2dd",
   "metadata": {
    "execution": {
     "iopub.execute_input": "2021-08-16T23:26:45.237518Z",
     "iopub.status.busy": "2021-08-16T23:26:45.236606Z",
     "iopub.status.idle": "2021-08-16T23:26:45.262168Z",
     "shell.execute_reply": "2021-08-16T23:26:45.262659Z",
     "shell.execute_reply.started": "2021-08-16T23:02:29.370814Z"
    },
    "papermill": {
     "duration": 0.049226,
     "end_time": "2021-08-16T23:26:45.262825",
     "exception": false,
     "start_time": "2021-08-16T23:26:45.213599",
     "status": "completed"
    },
    "tags": []
   },
   "outputs": [
    {
     "data": {
      "text/html": [
       "<div>\n",
       "<style scoped>\n",
       "    .dataframe tbody tr th:only-of-type {\n",
       "        vertical-align: middle;\n",
       "    }\n",
       "\n",
       "    .dataframe tbody tr th {\n",
       "        vertical-align: top;\n",
       "    }\n",
       "\n",
       "    .dataframe thead th {\n",
       "        text-align: right;\n",
       "    }\n",
       "</style>\n",
       "<table border=\"1\" class=\"dataframe\">\n",
       "  <thead>\n",
       "    <tr style=\"text-align: right;\">\n",
       "      <th></th>\n",
       "      <th>MSZoning</th>\n",
       "      <th>Street</th>\n",
       "      <th>Alley</th>\n",
       "      <th>LotShape</th>\n",
       "      <th>LandContour</th>\n",
       "      <th>Utilities</th>\n",
       "      <th>LotConfig</th>\n",
       "      <th>LandSlope</th>\n",
       "      <th>Condition1</th>\n",
       "      <th>Condition2</th>\n",
       "      <th>...</th>\n",
       "      <th>GarageArea</th>\n",
       "      <th>WoodDeckSF</th>\n",
       "      <th>OpenPorchSF</th>\n",
       "      <th>EnclosedPorch</th>\n",
       "      <th>3SsnPorch</th>\n",
       "      <th>ScreenPorch</th>\n",
       "      <th>PoolArea</th>\n",
       "      <th>MiscVal</th>\n",
       "      <th>MoSold</th>\n",
       "      <th>YrSold</th>\n",
       "    </tr>\n",
       "    <tr>\n",
       "      <th>Id</th>\n",
       "      <th></th>\n",
       "      <th></th>\n",
       "      <th></th>\n",
       "      <th></th>\n",
       "      <th></th>\n",
       "      <th></th>\n",
       "      <th></th>\n",
       "      <th></th>\n",
       "      <th></th>\n",
       "      <th></th>\n",
       "      <th></th>\n",
       "      <th></th>\n",
       "      <th></th>\n",
       "      <th></th>\n",
       "      <th></th>\n",
       "      <th></th>\n",
       "      <th></th>\n",
       "      <th></th>\n",
       "      <th></th>\n",
       "      <th></th>\n",
       "      <th></th>\n",
       "    </tr>\n",
       "  </thead>\n",
       "  <tbody>\n",
       "    <tr>\n",
       "      <th>619</th>\n",
       "      <td>RL</td>\n",
       "      <td>Pave</td>\n",
       "      <td>NaN</td>\n",
       "      <td>Reg</td>\n",
       "      <td>Lvl</td>\n",
       "      <td>AllPub</td>\n",
       "      <td>Inside</td>\n",
       "      <td>Gtl</td>\n",
       "      <td>Norm</td>\n",
       "      <td>Norm</td>\n",
       "      <td>...</td>\n",
       "      <td>774</td>\n",
       "      <td>0</td>\n",
       "      <td>108</td>\n",
       "      <td>0</td>\n",
       "      <td>0</td>\n",
       "      <td>260</td>\n",
       "      <td>0</td>\n",
       "      <td>0</td>\n",
       "      <td>7</td>\n",
       "      <td>2007</td>\n",
       "    </tr>\n",
       "    <tr>\n",
       "      <th>871</th>\n",
       "      <td>RL</td>\n",
       "      <td>Pave</td>\n",
       "      <td>NaN</td>\n",
       "      <td>Reg</td>\n",
       "      <td>Lvl</td>\n",
       "      <td>AllPub</td>\n",
       "      <td>Inside</td>\n",
       "      <td>Gtl</td>\n",
       "      <td>PosN</td>\n",
       "      <td>Norm</td>\n",
       "      <td>...</td>\n",
       "      <td>308</td>\n",
       "      <td>0</td>\n",
       "      <td>0</td>\n",
       "      <td>0</td>\n",
       "      <td>0</td>\n",
       "      <td>0</td>\n",
       "      <td>0</td>\n",
       "      <td>0</td>\n",
       "      <td>8</td>\n",
       "      <td>2009</td>\n",
       "    </tr>\n",
       "    <tr>\n",
       "      <th>93</th>\n",
       "      <td>RL</td>\n",
       "      <td>Pave</td>\n",
       "      <td>Grvl</td>\n",
       "      <td>IR1</td>\n",
       "      <td>HLS</td>\n",
       "      <td>AllPub</td>\n",
       "      <td>Inside</td>\n",
       "      <td>Gtl</td>\n",
       "      <td>Norm</td>\n",
       "      <td>Norm</td>\n",
       "      <td>...</td>\n",
       "      <td>432</td>\n",
       "      <td>0</td>\n",
       "      <td>0</td>\n",
       "      <td>44</td>\n",
       "      <td>0</td>\n",
       "      <td>0</td>\n",
       "      <td>0</td>\n",
       "      <td>0</td>\n",
       "      <td>8</td>\n",
       "      <td>2009</td>\n",
       "    </tr>\n",
       "    <tr>\n",
       "      <th>818</th>\n",
       "      <td>RL</td>\n",
       "      <td>Pave</td>\n",
       "      <td>NaN</td>\n",
       "      <td>IR1</td>\n",
       "      <td>Lvl</td>\n",
       "      <td>AllPub</td>\n",
       "      <td>CulDSac</td>\n",
       "      <td>Gtl</td>\n",
       "      <td>Norm</td>\n",
       "      <td>Norm</td>\n",
       "      <td>...</td>\n",
       "      <td>857</td>\n",
       "      <td>150</td>\n",
       "      <td>59</td>\n",
       "      <td>0</td>\n",
       "      <td>0</td>\n",
       "      <td>0</td>\n",
       "      <td>0</td>\n",
       "      <td>0</td>\n",
       "      <td>7</td>\n",
       "      <td>2008</td>\n",
       "    </tr>\n",
       "    <tr>\n",
       "      <th>303</th>\n",
       "      <td>RL</td>\n",
       "      <td>Pave</td>\n",
       "      <td>NaN</td>\n",
       "      <td>IR1</td>\n",
       "      <td>Lvl</td>\n",
       "      <td>AllPub</td>\n",
       "      <td>Corner</td>\n",
       "      <td>Gtl</td>\n",
       "      <td>Norm</td>\n",
       "      <td>Norm</td>\n",
       "      <td>...</td>\n",
       "      <td>843</td>\n",
       "      <td>468</td>\n",
       "      <td>81</td>\n",
       "      <td>0</td>\n",
       "      <td>0</td>\n",
       "      <td>0</td>\n",
       "      <td>0</td>\n",
       "      <td>0</td>\n",
       "      <td>1</td>\n",
       "      <td>2006</td>\n",
       "    </tr>\n",
       "  </tbody>\n",
       "</table>\n",
       "<p>5 rows × 76 columns</p>\n",
       "</div>"
      ],
      "text/plain": [
       "    MSZoning Street Alley LotShape LandContour Utilities LotConfig LandSlope  \\\n",
       "Id                                                                             \n",
       "619       RL   Pave   NaN      Reg         Lvl    AllPub    Inside       Gtl   \n",
       "871       RL   Pave   NaN      Reg         Lvl    AllPub    Inside       Gtl   \n",
       "93        RL   Pave  Grvl      IR1         HLS    AllPub    Inside       Gtl   \n",
       "818       RL   Pave   NaN      IR1         Lvl    AllPub   CulDSac       Gtl   \n",
       "303       RL   Pave   NaN      IR1         Lvl    AllPub    Corner       Gtl   \n",
       "\n",
       "    Condition1 Condition2  ... GarageArea WoodDeckSF OpenPorchSF  \\\n",
       "Id                         ...                                     \n",
       "619       Norm       Norm  ...        774          0         108   \n",
       "871       PosN       Norm  ...        308          0           0   \n",
       "93        Norm       Norm  ...        432          0           0   \n",
       "818       Norm       Norm  ...        857        150          59   \n",
       "303       Norm       Norm  ...        843        468          81   \n",
       "\n",
       "    EnclosedPorch 3SsnPorch ScreenPorch PoolArea MiscVal MoSold YrSold  \n",
       "Id                                                                      \n",
       "619             0         0         260        0       0      7   2007  \n",
       "871             0         0           0        0       0      8   2009  \n",
       "93             44         0           0        0       0      8   2009  \n",
       "818             0         0           0        0       0      7   2008  \n",
       "303             0         0           0        0       0      1   2006  \n",
       "\n",
       "[5 rows x 76 columns]"
      ]
     },
     "execution_count": 3,
     "metadata": {},
     "output_type": "execute_result"
    }
   ],
   "source": [
    "X_train.head()"
   ]
  },
  {
   "cell_type": "code",
   "execution_count": 4,
   "id": "37b2a606",
   "metadata": {
    "execution": {
     "iopub.execute_input": "2021-08-16T23:26:45.301959Z",
     "iopub.status.busy": "2021-08-16T23:26:45.301187Z",
     "iopub.status.idle": "2021-08-16T23:26:48.242598Z",
     "shell.execute_reply": "2021-08-16T23:26:48.243065Z",
     "shell.execute_reply.started": "2021-08-16T23:07:00.806928Z"
    },
    "papermill": {
     "duration": 2.965126,
     "end_time": "2021-08-16T23:26:48.243252",
     "exception": false,
     "start_time": "2021-08-16T23:26:45.278126",
     "status": "completed"
    },
    "tags": []
   },
   "outputs": [
    {
     "name": "stdout",
     "output_type": "stream",
     "text": [
      "MAE: 17861.780102739725\n"
     ]
    }
   ],
   "source": [
    "from sklearn.compose import ColumnTransformer\n",
    "from sklearn.pipeline import Pipeline\n",
    "from sklearn.impute import SimpleImputer\n",
    "from sklearn.preprocessing import OneHotEncoder\n",
    "from sklearn.ensemble import RandomForestRegressor\n",
    "from sklearn.metrics import mean_absolute_error\n",
    "\n",
    "# Preprocessing for numerical data\n",
    "numerical_transformer = SimpleImputer(strategy='constant')\n",
    "\n",
    "# Preprocessing for categorical data\n",
    "categorical_transformer = Pipeline(steps=[\n",
    "    ('imputer', SimpleImputer(strategy='most_frequent')),\n",
    "    ('onehot', OneHotEncoder(handle_unknown='ignore'))\n",
    "])\n",
    "\n",
    "# Bundle preprocessing for numerical and categorical data\n",
    "preprocessor = ColumnTransformer(\n",
    "    transformers=[\n",
    "        ('num', numerical_transformer, numerical_cols),\n",
    "        ('cat', categorical_transformer, categorical_cols)\n",
    "    ])\n",
    "\n",
    "# Define model\n",
    "model = RandomForestRegressor(n_estimators=100, random_state=0)\n",
    "\n",
    "# Bundle preprocessing and modeling code in a pipeline\n",
    "clf = Pipeline(steps=[('preprocessor', preprocessor),\n",
    "                      ('model', model)\n",
    "                     ])\n",
    "\n",
    "# Preprocessing of training data, fit model \n",
    "clf.fit(X_train, y_train)\n",
    "\n",
    "# Preprocessing of validation data, get predictions\n",
    "preds = clf.predict(X_valid)\n",
    "\n",
    "print('MAE:', mean_absolute_error(y_valid, preds))"
   ]
  },
  {
   "cell_type": "markdown",
   "id": "7c26fe62",
   "metadata": {
    "papermill": {
     "duration": 0.01465,
     "end_time": "2021-08-16T23:26:48.272867",
     "exception": false,
     "start_time": "2021-08-16T23:26:48.258217",
     "status": "completed"
    },
    "tags": []
   },
   "source": [
    "The code yields a value around 17862 for the mean absolute error (MAE).  In the next step, you will amend the code to do better.\n",
    "\n",
    "# Step 1: Improve the performance\n",
    "\n",
    "### Part A\n",
    "\n",
    "Now, it's your turn!  In the code cell below, define your own preprocessing steps and random forest model.  Fill in values for the following variables:\n",
    "- `numerical_transformer`\n",
    "- `categorical_transformer`\n",
    "- `model`\n",
    "\n",
    "To pass this part of the exercise, you need only define valid preprocessing steps and a random forest model."
   ]
  },
  {
   "cell_type": "code",
   "execution_count": 5,
   "id": "c6ddc1af",
   "metadata": {
    "execution": {
     "iopub.execute_input": "2021-08-16T23:26:48.310600Z",
     "iopub.status.busy": "2021-08-16T23:26:48.309696Z",
     "iopub.status.idle": "2021-08-16T23:26:48.317230Z",
     "shell.execute_reply": "2021-08-16T23:26:48.316761Z",
     "shell.execute_reply.started": "2021-08-16T23:25:31.469509Z"
    },
    "papermill": {
     "duration": 0.029145,
     "end_time": "2021-08-16T23:26:48.317364",
     "exception": false,
     "start_time": "2021-08-16T23:26:48.288219",
     "status": "completed"
    },
    "tags": []
   },
   "outputs": [
    {
     "data": {
      "application/javascript": [
       "parent.postMessage({\"jupyterEvent\": \"custom.exercise_interaction\", \"data\": {\"outcomeType\": 1, \"valueTowardsCompletion\": 1.0, \"interactionType\": 1, \"questionType\": 2, \"questionId\": \"1.1_YourTurnModel\", \"learnToolsVersion\": \"0.3.4\", \"failureMessage\": \"\", \"exceptionClass\": \"\", \"trace\": \"\"}}, \"*\")"
      ],
      "text/plain": [
       "<IPython.core.display.Javascript object>"
      ]
     },
     "metadata": {},
     "output_type": "display_data"
    },
    {
     "data": {
      "text/markdown": [
       "<span style=\"color:#33cc33\">Correct</span>"
      ],
      "text/plain": [
       "Correct"
      ]
     },
     "metadata": {},
     "output_type": "display_data"
    }
   ],
   "source": [
    "# Preprocessing for numerical data\n",
    "numerical_transformer = SimpleImputer(strategy = 'median') # Your code here\n",
    "\n",
    "# Preprocessing for categorical data\n",
    "categorical_transformer = Pipeline(steps=[\n",
    "    ('imputer', SimpleImputer(strategy = 'most_frequent')),\n",
    "    ('onehot', OneHotEncoder(handle_unknown='ignore'))\n",
    "])\n",
    "\n",
    "# Your code here\n",
    "\n",
    "# Bundle preprocessing for numerical and categorical data\n",
    "preprocessor = ColumnTransformer(\n",
    "    transformers=[\n",
    "        ('kuch', numerical_transformer, numerical_cols),\n",
    "        ('bhi', categorical_transformer, categorical_cols)\n",
    "    ])\n",
    "\n",
    "# Define model\n",
    "model = RandomForestRegressor(n_estimators = 100, random_state=0) # Your code here\n",
    "\n",
    "# Check your answer\n",
    "step_1.a.check()"
   ]
  },
  {
   "cell_type": "code",
   "execution_count": 6,
   "id": "a213fb21",
   "metadata": {
    "execution": {
     "iopub.execute_input": "2021-08-16T23:26:48.353416Z",
     "iopub.status.busy": "2021-08-16T23:26:48.352543Z",
     "iopub.status.idle": "2021-08-16T23:26:48.355851Z",
     "shell.execute_reply": "2021-08-16T23:26:48.355237Z",
     "shell.execute_reply.started": "2021-08-16T23:24:10.411207Z"
    },
    "papermill": {
     "duration": 0.02281,
     "end_time": "2021-08-16T23:26:48.355995",
     "exception": false,
     "start_time": "2021-08-16T23:26:48.333185",
     "status": "completed"
    },
    "tags": []
   },
   "outputs": [],
   "source": [
    "# Lines below will give you a hint or solution code\n",
    "# step_1.a.hint()\n",
    "# step_1.a.solution()"
   ]
  },
  {
   "cell_type": "markdown",
   "id": "d746cef2",
   "metadata": {
    "papermill": {
     "duration": 0.015945,
     "end_time": "2021-08-16T23:26:48.388231",
     "exception": false,
     "start_time": "2021-08-16T23:26:48.372286",
     "status": "completed"
    },
    "tags": []
   },
   "source": [
    "### Part B\n",
    "\n",
    "Run the code cell below without changes.\n",
    "\n",
    "To pass this step, you need to have defined a pipeline in **Part A** that achieves lower MAE than the code above.  You're encouraged to take your time here and try out many different approaches, to see how low you can get the MAE!  (_If your code does not pass, please amend the preprocessing steps and model in Part A._)"
   ]
  },
  {
   "cell_type": "code",
   "execution_count": 7,
   "id": "fdccb916",
   "metadata": {
    "execution": {
     "iopub.execute_input": "2021-08-16T23:26:48.432212Z",
     "iopub.status.busy": "2021-08-16T23:26:48.431206Z",
     "iopub.status.idle": "2021-08-16T23:26:51.097587Z",
     "shell.execute_reply": "2021-08-16T23:26:51.097064Z",
     "shell.execute_reply.started": "2021-08-16T23:19:04.941366Z"
    },
    "papermill": {
     "duration": 2.69318,
     "end_time": "2021-08-16T23:26:51.097753",
     "exception": false,
     "start_time": "2021-08-16T23:26:48.404573",
     "status": "completed"
    },
    "tags": []
   },
   "outputs": [
    {
     "name": "stdout",
     "output_type": "stream",
     "text": [
      "MAE: 17553.371061643833\n"
     ]
    },
    {
     "data": {
      "application/javascript": [
       "parent.postMessage({\"jupyterEvent\": \"custom.exercise_interaction\", \"data\": {\"outcomeType\": 1, \"valueTowardsCompletion\": 1.0, \"interactionType\": 1, \"questionType\": 2, \"questionId\": \"1.2_YourTurnPredict\", \"learnToolsVersion\": \"0.3.4\", \"failureMessage\": \"\", \"exceptionClass\": \"\", \"trace\": \"\"}}, \"*\")"
      ],
      "text/plain": [
       "<IPython.core.display.Javascript object>"
      ]
     },
     "metadata": {},
     "output_type": "display_data"
    },
    {
     "data": {
      "text/markdown": [
       "<span style=\"color:#33cc33\">Correct</span>"
      ],
      "text/plain": [
       "Correct"
      ]
     },
     "metadata": {},
     "output_type": "display_data"
    }
   ],
   "source": [
    "# Bundle preprocessing and modeling code in a pipeline\n",
    "my_pipeline = Pipeline(steps=[('preprocessor', preprocessor),\n",
    "                              ('model', model)\n",
    "                             ])\n",
    "\n",
    "# Preprocessing of training data, fit model \n",
    "my_pipeline.fit(X_train, y_train)\n",
    "\n",
    "# Preprocessing of validation data, get predictions\n",
    "preds = my_pipeline.predict(X_valid)\n",
    "\n",
    "# Evaluate the model\n",
    "score = mean_absolute_error(y_valid, preds)\n",
    "print('MAE:', score)\n",
    "\n",
    "# Check your answer\n",
    "step_1.b.check()"
   ]
  },
  {
   "cell_type": "code",
   "execution_count": 8,
   "id": "bca2184e",
   "metadata": {
    "execution": {
     "iopub.execute_input": "2021-08-16T23:26:51.137716Z",
     "iopub.status.busy": "2021-08-16T23:26:51.137032Z",
     "iopub.status.idle": "2021-08-16T23:26:51.139810Z",
     "shell.execute_reply": "2021-08-16T23:26:51.140311Z",
     "shell.execute_reply.started": "2021-08-16T23:22:30.811583Z"
    },
    "papermill": {
     "duration": 0.024736,
     "end_time": "2021-08-16T23:26:51.140495",
     "exception": false,
     "start_time": "2021-08-16T23:26:51.115759",
     "status": "completed"
    },
    "tags": []
   },
   "outputs": [],
   "source": [
    "# Line below will give you a hint\n",
    "# step_1.b.hint()"
   ]
  },
  {
   "cell_type": "markdown",
   "id": "dbc468dd",
   "metadata": {
    "papermill": {
     "duration": 0.017177,
     "end_time": "2021-08-16T23:26:51.175610",
     "exception": false,
     "start_time": "2021-08-16T23:26:51.158433",
     "status": "completed"
    },
    "tags": []
   },
   "source": [
    "# Step 2: Generate test predictions\n",
    "\n",
    "Now, you'll use your trained model to generate predictions with the test data."
   ]
  },
  {
   "cell_type": "code",
   "execution_count": 9,
   "id": "d8ecf33e",
   "metadata": {
    "execution": {
     "iopub.execute_input": "2021-08-16T23:26:51.219573Z",
     "iopub.status.busy": "2021-08-16T23:26:51.218951Z",
     "iopub.status.idle": "2021-08-16T23:26:51.295777Z",
     "shell.execute_reply": "2021-08-16T23:26:51.295226Z",
     "shell.execute_reply.started": "2021-08-16T23:26:13.484319Z"
    },
    "papermill": {
     "duration": 0.102619,
     "end_time": "2021-08-16T23:26:51.295910",
     "exception": false,
     "start_time": "2021-08-16T23:26:51.193291",
     "status": "completed"
    },
    "tags": []
   },
   "outputs": [
    {
     "data": {
      "application/javascript": [
       "parent.postMessage({\"jupyterEvent\": \"custom.exercise_interaction\", \"data\": {\"outcomeType\": 1, \"valueTowardsCompletion\": 1.0, \"interactionType\": 1, \"questionType\": 2, \"questionId\": \"2_TestPreds\", \"learnToolsVersion\": \"0.3.4\", \"failureMessage\": \"\", \"exceptionClass\": \"\", \"trace\": \"\"}}, \"*\")"
      ],
      "text/plain": [
       "<IPython.core.display.Javascript object>"
      ]
     },
     "metadata": {},
     "output_type": "display_data"
    },
    {
     "data": {
      "text/markdown": [
       "<span style=\"color:#33cc33\">Correct</span>"
      ],
      "text/plain": [
       "Correct"
      ]
     },
     "metadata": {},
     "output_type": "display_data"
    }
   ],
   "source": [
    "# Preprocessing of test data, fit model\n",
    "preds_test = my_pipeline.predict(X_test) # Your code here\n",
    "\n",
    "# Check your answer\n",
    "step_2.check()"
   ]
  },
  {
   "cell_type": "code",
   "execution_count": 10,
   "id": "ea8efa1d",
   "metadata": {
    "execution": {
     "iopub.execute_input": "2021-08-16T23:26:51.337170Z",
     "iopub.status.busy": "2021-08-16T23:26:51.336513Z",
     "iopub.status.idle": "2021-08-16T23:26:51.339136Z",
     "shell.execute_reply": "2021-08-16T23:26:51.339551Z"
    },
    "papermill": {
     "duration": 0.025021,
     "end_time": "2021-08-16T23:26:51.339728",
     "exception": false,
     "start_time": "2021-08-16T23:26:51.314707",
     "status": "completed"
    },
    "tags": []
   },
   "outputs": [],
   "source": [
    "# Lines below will give you a hint or solution code\n",
    "#step_2.hint()\n",
    "#step_2.solution()"
   ]
  },
  {
   "cell_type": "markdown",
   "id": "05c23e41",
   "metadata": {
    "papermill": {
     "duration": 0.019802,
     "end_time": "2021-08-16T23:26:51.378548",
     "exception": false,
     "start_time": "2021-08-16T23:26:51.358746",
     "status": "completed"
    },
    "tags": []
   },
   "source": [
    "Run the next code cell without changes to save your results to a CSV file that can be submitted directly to the competition."
   ]
  },
  {
   "cell_type": "code",
   "execution_count": 11,
   "id": "cf75e0c0",
   "metadata": {
    "execution": {
     "iopub.execute_input": "2021-08-16T23:26:51.423749Z",
     "iopub.status.busy": "2021-08-16T23:26:51.422811Z",
     "iopub.status.idle": "2021-08-16T23:26:51.433830Z",
     "shell.execute_reply": "2021-08-16T23:26:51.433196Z",
     "shell.execute_reply.started": "2021-08-16T23:26:18.528078Z"
    },
    "papermill": {
     "duration": 0.035813,
     "end_time": "2021-08-16T23:26:51.434001",
     "exception": false,
     "start_time": "2021-08-16T23:26:51.398188",
     "status": "completed"
    },
    "tags": []
   },
   "outputs": [],
   "source": [
    "# Save test predictions to file\n",
    "output = pd.DataFrame({'Id': X_test.index,\n",
    "                       'SalePrice': preds_test})\n",
    "output.to_csv('submission.csv', index=False)"
   ]
  },
  {
   "cell_type": "markdown",
   "id": "e1c83548",
   "metadata": {
    "papermill": {
     "duration": 0.018684,
     "end_time": "2021-08-16T23:26:51.472057",
     "exception": false,
     "start_time": "2021-08-16T23:26:51.453373",
     "status": "completed"
    },
    "tags": []
   },
   "source": [
    "# Submit your results\n",
    "\n",
    "Once you have successfully completed Step 2, you're ready to submit your results to the leaderboard!  If you choose to do so, make sure that you have already joined the competition by clicking on the **Join Competition** button at [this link](https://www.kaggle.com/c/home-data-for-ml-course).  \n",
    "1. Begin by clicking on the blue **Save Version** button in the top right corner of the window.  This will generate a pop-up window.  \n",
    "2. Ensure that the **Save and Run All** option is selected, and then click on the blue **Save** button.\n",
    "3. This generates a window in the bottom left corner of the notebook.  After it has finished running, click on the number to the right of the **Save Version** button.  This pulls up a list of versions on the right of the screen.  Click on the ellipsis **(...)** to the right of the most recent version, and select **Open in Viewer**.  This brings you into view mode of the same page. You will need to scroll down to get back to these instructions.\n",
    "4. Click on the **Output** tab on the right of the screen.  Then, click on the file you would like to submit, and click on the blue **Submit** button to submit your results to the leaderboard.\n",
    "\n",
    "You have now successfully submitted to the competition!\n",
    "\n",
    "If you want to keep working to improve your performance, select the blue **Edit** button in the top right of the screen. Then you can change your code and repeat the process. There's a lot of room to improve, and you will climb up the leaderboard as you work.\n",
    "\n",
    "\n",
    "# Keep going\n",
    "\n",
    "Move on to learn about [**cross-validation**](https://www.kaggle.com/alexisbcook/cross-validation), a technique you can use to obtain more accurate estimates of model performance!"
   ]
  },
  {
   "cell_type": "markdown",
   "id": "b2287598",
   "metadata": {
    "papermill": {
     "duration": 0.018443,
     "end_time": "2021-08-16T23:26:51.509415",
     "exception": false,
     "start_time": "2021-08-16T23:26:51.490972",
     "status": "completed"
    },
    "tags": []
   },
   "source": [
    "---\n",
    "\n",
    "\n",
    "\n",
    "\n",
    "*Have questions or comments? Visit the [Learn Discussion forum](https://www.kaggle.com/learn-forum/161289) to chat with other Learners.*"
   ]
  }
 ],
 "metadata": {
  "kernelspec": {
   "display_name": "Python 3",
   "language": "python",
   "name": "python3"
  },
  "language_info": {
   "codemirror_mode": {
    "name": "ipython",
    "version": 3
   },
   "file_extension": ".py",
   "mimetype": "text/x-python",
   "name": "python",
   "nbconvert_exporter": "python",
   "pygments_lexer": "ipython3",
   "version": "3.7.10"
  },
  "papermill": {
   "default_parameters": {},
   "duration": 17.885059,
   "end_time": "2021-08-16T23:26:53.039149",
   "environment_variables": {},
   "exception": null,
   "input_path": "__notebook__.ipynb",
   "output_path": "__notebook__.ipynb",
   "parameters": {},
   "start_time": "2021-08-16T23:26:35.154090",
   "version": "2.3.3"
  }
 },
 "nbformat": 4,
 "nbformat_minor": 5
}
